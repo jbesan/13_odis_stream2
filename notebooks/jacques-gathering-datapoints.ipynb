{
 "cells": [
  {
   "cell_type": "markdown",
   "metadata": {},
   "source": [
    "## Exploration CodeGeo <-> Coordonnées GPS"
   ]
  },
  {
   "cell_type": "markdown",
   "metadata": {},
   "source": [
    "### Sources\n",
    "GeoCodes Insee <-> Lat/Lon\n",
    "- insee-coordonnees-communes-departement-region.csv\n",
    "- https://www.data.gouv.fr/fr/datasets/base-officielle-des-codes-postaux/\n",
    "\n",
    "Population\n",
    "- insee-estimation-population-2024.csv\n",
    "- https://www.data.gouv.fr/fr/datasets/estimations-de-population/\n",
    "\n",
    "Ecoles\n",
    "- fr-en-ecoles-effectifs-nb_classes\n",
    "- https://data.education.gouv.fr/explore/dataset/fr-en-ecoles-effectifs-nb_classes/information/\n",
    "\n"
   ]
  },
  {
   "cell_type": "code",
   "execution_count": 109,
   "metadata": {},
   "outputs": [],
   "source": [
    "import pandas as pd\n",
    "import matplotlib.pyplot as plt \n",
    "import numpy as np\n",
    "import geopandas as gpd\n",
    "import folium as flm\n",
    "import mapclassify as mpc\n",
    "from shapely import wkt"
   ]
  },
  {
   "cell_type": "markdown",
   "metadata": {},
   "source": [
    "## Fetching Geo location data for communes"
   ]
  },
  {
   "cell_type": "markdown",
   "metadata": {},
   "source": [
    "### All communes with centroids"
   ]
  },
  {
   "cell_type": "code",
   "execution_count": 110,
   "metadata": {},
   "outputs": [],
   "source": [
    "df = pd.read_csv('../csv/insee-coordonnees-communes-departement-region.csv')\n",
    "df = df.rename(columns={\"code_commune_insee\":\"codgeo\", \"code_postal\":\"codpost\",\"nom_de_la_commune\":\"nom\"})\n",
    "df = pd.concat([df, df._geopoint.str.split(',', expand=True).rename(columns={0:'latitude', 1:'longitude'})], axis=1)\n",
    "df = df[['codgeo', 'codpost', \"nom\", 'longitude', 'latitude']]\n",
    "df.codpost = df.codpost.astype(str)\n",
    "df.loc[:,'codpost'] = np.where(df.codpost.str.len() == 4, '0' + df.codpost, df.codpost)\n",
    "\n",
    "#df = df.drop_duplicates(subset=['codgeo'], keep='first')"
   ]
  },
  {
   "cell_type": "code",
   "execution_count": 111,
   "metadata": {},
   "outputs": [
    {
     "data": {
      "application/vnd.microsoft.datawrangler.viewer.v0+json": {
       "columns": [
        {
         "name": "index",
         "rawType": "int64",
         "type": "integer"
        },
        {
         "name": "codgeo",
         "rawType": "object",
         "type": "string"
        },
        {
         "name": "codpost",
         "rawType": "object",
         "type": "string"
        },
        {
         "name": "nom",
         "rawType": "object",
         "type": "string"
        },
        {
         "name": "longitude",
         "rawType": "object",
         "type": "string"
        },
        {
         "name": "latitude",
         "rawType": "object",
         "type": "string"
        }
       ],
       "conversionMethod": "pd.DataFrame",
       "ref": "8651a58a-2a53-4bed-b8a1-0deca483543d",
       "rows": [
        [
         "0",
         "01001",
         "01400",
         "L ABERGEMENT CLEMENCIAT",
         "4.9306005",
         "46.1517018"
        ],
        [
         "1",
         "01002",
         "01640",
         "L ABERGEMENT DE VAREY",
         "5.4246442",
         "46.007131"
        ],
        [
         "2",
         "01004",
         "01500",
         "AMBERIEU EN BUGEY",
         "5.37056825",
         "45.9574707"
        ],
        [
         "3",
         "01005",
         "01330",
         "AMBERIEUX EN DOMBES",
         "4.9118718",
         "45.99922935"
        ],
        [
         "4",
         "01006",
         "01300",
         "AMBLEON",
         "5.5927847",
         "45.74831435"
        ]
       ],
       "shape": {
        "columns": 5,
        "rows": 5
       }
      },
      "text/html": [
       "<div>\n",
       "<style scoped>\n",
       "    .dataframe tbody tr th:only-of-type {\n",
       "        vertical-align: middle;\n",
       "    }\n",
       "\n",
       "    .dataframe tbody tr th {\n",
       "        vertical-align: top;\n",
       "    }\n",
       "\n",
       "    .dataframe thead th {\n",
       "        text-align: right;\n",
       "    }\n",
       "</style>\n",
       "<table border=\"1\" class=\"dataframe\">\n",
       "  <thead>\n",
       "    <tr style=\"text-align: right;\">\n",
       "      <th></th>\n",
       "      <th>codgeo</th>\n",
       "      <th>codpost</th>\n",
       "      <th>nom</th>\n",
       "      <th>longitude</th>\n",
       "      <th>latitude</th>\n",
       "    </tr>\n",
       "  </thead>\n",
       "  <tbody>\n",
       "    <tr>\n",
       "      <th>0</th>\n",
       "      <td>01001</td>\n",
       "      <td>01400</td>\n",
       "      <td>L ABERGEMENT CLEMENCIAT</td>\n",
       "      <td>4.9306005</td>\n",
       "      <td>46.1517018</td>\n",
       "    </tr>\n",
       "    <tr>\n",
       "      <th>1</th>\n",
       "      <td>01002</td>\n",
       "      <td>01640</td>\n",
       "      <td>L ABERGEMENT DE VAREY</td>\n",
       "      <td>5.4246442</td>\n",
       "      <td>46.007131</td>\n",
       "    </tr>\n",
       "    <tr>\n",
       "      <th>2</th>\n",
       "      <td>01004</td>\n",
       "      <td>01500</td>\n",
       "      <td>AMBERIEU EN BUGEY</td>\n",
       "      <td>5.37056825</td>\n",
       "      <td>45.9574707</td>\n",
       "    </tr>\n",
       "    <tr>\n",
       "      <th>3</th>\n",
       "      <td>01005</td>\n",
       "      <td>01330</td>\n",
       "      <td>AMBERIEUX EN DOMBES</td>\n",
       "      <td>4.9118718</td>\n",
       "      <td>45.99922935</td>\n",
       "    </tr>\n",
       "    <tr>\n",
       "      <th>4</th>\n",
       "      <td>01006</td>\n",
       "      <td>01300</td>\n",
       "      <td>AMBLEON</td>\n",
       "      <td>5.5927847</td>\n",
       "      <td>45.74831435</td>\n",
       "    </tr>\n",
       "  </tbody>\n",
       "</table>\n",
       "</div>"
      ],
      "text/plain": [
       "  codgeo codpost                      nom   longitude     latitude\n",
       "0  01001   01400  L ABERGEMENT CLEMENCIAT   4.9306005   46.1517018\n",
       "1  01002   01640    L ABERGEMENT DE VAREY   5.4246442    46.007131\n",
       "2  01004   01500        AMBERIEU EN BUGEY  5.37056825   45.9574707\n",
       "3  01005   01330      AMBERIEUX EN DOMBES   4.9118718  45.99922935\n",
       "4  01006   01300                  AMBLEON   5.5927847  45.74831435"
      ]
     },
     "execution_count": 111,
     "metadata": {},
     "output_type": "execute_result"
    }
   ],
   "source": [
    "df.head()"
   ]
  },
  {
   "cell_type": "code",
   "execution_count": 112,
   "metadata": {},
   "outputs": [
    {
     "data": {
      "application/vnd.microsoft.datawrangler.viewer.v0+json": {
       "columns": [
        {
         "name": "index",
         "rawType": "object",
         "type": "string"
        },
        {
         "name": "codgeo",
         "rawType": "object",
         "type": "unknown"
        },
        {
         "name": "codpost",
         "rawType": "object",
         "type": "unknown"
        },
        {
         "name": "nom",
         "rawType": "object",
         "type": "unknown"
        },
        {
         "name": "longitude",
         "rawType": "object",
         "type": "unknown"
        },
        {
         "name": "latitude",
         "rawType": "object",
         "type": "unknown"
        }
       ],
       "conversionMethod": "pd.DataFrame",
       "ref": "101ebe79-1e94-4957-b0c7-b4292aeb444f",
       "rows": [
        [
         "count",
         "39192",
         "39192",
         "39192",
         "39139",
         "39139"
        ],
        [
         "unique",
         "35067",
         "6328",
         "32758",
         "35022",
         "35020"
        ],
        [
         "top",
         "14654",
         "55300",
         "ST PIERRE EN AUGE",
         "0.0252265",
         "48.9873325"
        ],
        [
         "freq",
         "22",
         "46",
         "22",
         "22",
         "22"
        ]
       ],
       "shape": {
        "columns": 5,
        "rows": 4
       }
      },
      "text/html": [
       "<div>\n",
       "<style scoped>\n",
       "    .dataframe tbody tr th:only-of-type {\n",
       "        vertical-align: middle;\n",
       "    }\n",
       "\n",
       "    .dataframe tbody tr th {\n",
       "        vertical-align: top;\n",
       "    }\n",
       "\n",
       "    .dataframe thead th {\n",
       "        text-align: right;\n",
       "    }\n",
       "</style>\n",
       "<table border=\"1\" class=\"dataframe\">\n",
       "  <thead>\n",
       "    <tr style=\"text-align: right;\">\n",
       "      <th></th>\n",
       "      <th>codgeo</th>\n",
       "      <th>codpost</th>\n",
       "      <th>nom</th>\n",
       "      <th>longitude</th>\n",
       "      <th>latitude</th>\n",
       "    </tr>\n",
       "  </thead>\n",
       "  <tbody>\n",
       "    <tr>\n",
       "      <th>count</th>\n",
       "      <td>39192</td>\n",
       "      <td>39192</td>\n",
       "      <td>39192</td>\n",
       "      <td>39139</td>\n",
       "      <td>39139</td>\n",
       "    </tr>\n",
       "    <tr>\n",
       "      <th>unique</th>\n",
       "      <td>35067</td>\n",
       "      <td>6328</td>\n",
       "      <td>32758</td>\n",
       "      <td>35022</td>\n",
       "      <td>35020</td>\n",
       "    </tr>\n",
       "    <tr>\n",
       "      <th>top</th>\n",
       "      <td>14654</td>\n",
       "      <td>55300</td>\n",
       "      <td>ST PIERRE EN AUGE</td>\n",
       "      <td>0.0252265</td>\n",
       "      <td>48.9873325</td>\n",
       "    </tr>\n",
       "    <tr>\n",
       "      <th>freq</th>\n",
       "      <td>22</td>\n",
       "      <td>46</td>\n",
       "      <td>22</td>\n",
       "      <td>22</td>\n",
       "      <td>22</td>\n",
       "    </tr>\n",
       "  </tbody>\n",
       "</table>\n",
       "</div>"
      ],
      "text/plain": [
       "       codgeo codpost                nom  longitude    latitude\n",
       "count   39192   39192              39192      39139       39139\n",
       "unique  35067    6328              32758      35022       35020\n",
       "top     14654   55300  ST PIERRE EN AUGE  0.0252265  48.9873325\n",
       "freq       22      46                 22         22          22"
      ]
     },
     "execution_count": 112,
     "metadata": {},
     "output_type": "execute_result"
    }
   ],
   "source": [
    "df.describe()"
   ]
  },
  {
   "cell_type": "code",
   "execution_count": 113,
   "metadata": {},
   "outputs": [],
   "source": [
    "gdf = gpd.GeoDataFrame(df, geometry=gpd.points_from_xy(df.longitude, df.latitude))\n",
    "#gdf.explore()"
   ]
  },
  {
   "cell_type": "markdown",
   "metadata": {},
   "source": [
    "Let' use arbitrary min/max values to select continental France only "
   ]
  },
  {
   "cell_type": "code",
   "execution_count": 114,
   "metadata": {},
   "outputs": [],
   "source": [
    "# used GMaps to identify these coordinates\n",
    "min_lat = 42\n",
    "max_lat = 52\n",
    "min_lon = -5\n",
    "max_lon = 8\n",
    "\n",
    "#df_hex = df[df.latitude.between(min_lat, max_lat) & df.longitude.between(min_lon, max_lon)]\n",
    "gdf = gdf.cx[min_lon:max_lon, min_lat:max_lat]"
   ]
  },
  {
   "cell_type": "markdown",
   "metadata": {},
   "source": [
    "### Let's add the Communes polygons"
   ]
  },
  {
   "cell_type": "code",
   "execution_count": 115,
   "metadata": {},
   "outputs": [],
   "source": [
    "communes_polygones = gpd.read_file('../csv/communes-version-simplifiee.geojson').rename(columns={'code':'codgeo','geometry':'polygon'})\n",
    "communes_polygones = communes_polygones[['codgeo', 'polygon']]"
   ]
  },
  {
   "cell_type": "code",
   "execution_count": 116,
   "metadata": {},
   "outputs": [
    {
     "ename": "AttributeError",
     "evalue": "'NoneType' object has no attribute 'copy'",
     "output_type": "error",
     "traceback": [
      "\u001b[0;31m---------------------------------------------------------------------------\u001b[0m",
      "\u001b[0;31mAttributeError\u001b[0m                            Traceback (most recent call last)",
      "File \u001b[0;32m~/.cache/pypoetry/virtualenvs/odis-Nf-mTAVv-py3.10/lib/python3.10/site-packages/IPython/core/formatters.py:402\u001b[0m, in \u001b[0;36mBaseFormatter.__call__\u001b[0;34m(self, obj)\u001b[0m\n\u001b[1;32m    400\u001b[0m     \u001b[38;5;28;01mpass\u001b[39;00m\n\u001b[1;32m    401\u001b[0m \u001b[38;5;28;01melse\u001b[39;00m:\n\u001b[0;32m--> 402\u001b[0m     \u001b[38;5;28;01mreturn\u001b[39;00m \u001b[43mprinter\u001b[49m\u001b[43m(\u001b[49m\u001b[43mobj\u001b[49m\u001b[43m)\u001b[49m\n\u001b[1;32m    403\u001b[0m \u001b[38;5;66;03m# Finally look for special method names\u001b[39;00m\n\u001b[1;32m    404\u001b[0m method \u001b[38;5;241m=\u001b[39m get_real_method(obj, \u001b[38;5;28mself\u001b[39m\u001b[38;5;241m.\u001b[39mprint_method)\n",
      "Cell \u001b[0;32mIn[1], line 227\u001b[0m, in \u001b[0;36m__DW_OUTPUT_FORMATTER__.<locals>.DataWrangler.formatter\u001b[0;34m(cls, var, **kwargs)\u001b[0m\n\u001b[1;32m    225\u001b[0m \u001b[38;5;129m@classmethod\u001b[39m\n\u001b[1;32m    226\u001b[0m \u001b[38;5;28;01mdef\u001b[39;00m\u001b[38;5;250m \u001b[39m\u001b[38;5;21mformatter\u001b[39m(\u001b[38;5;28mcls\u001b[39m, var, \u001b[38;5;241m*\u001b[39m\u001b[38;5;241m*\u001b[39mkwargs):\n\u001b[0;32m--> 227\u001b[0m     s \u001b[38;5;241m=\u001b[39m \u001b[38;5;28;43mcls\u001b[39;49m\u001b[43m(\u001b[49m\u001b[43mvar\u001b[49m\u001b[43m,\u001b[49m\u001b[43m \u001b[49m\u001b[38;5;241;43m*\u001b[39;49m\u001b[38;5;241;43m*\u001b[39;49m\u001b[43mkwargs\u001b[49m\u001b[43m)\u001b[49m\n\u001b[1;32m    228\u001b[0m     \u001b[38;5;28;01mreturn\u001b[39;00m s\u001b[38;5;241m.\u001b[39m_repr_dw_()\n",
      "Cell \u001b[0;32mIn[1], line 221\u001b[0m, in \u001b[0;36m__DW_OUTPUT_FORMATTER__.<locals>.DataWrangler.__init__\u001b[0;34m(self, expr_val)\u001b[0m\n\u001b[1;32m    218\u001b[0m \u001b[38;5;28mself\u001b[39m\u001b[38;5;241m.\u001b[39mid \u001b[38;5;241m=\u001b[39m \u001b[38;5;28mstr\u001b[39m(uuid\u001b[38;5;241m.\u001b[39muuid4())\n\u001b[1;32m    219\u001b[0m pandas_df, conversion_method \u001b[38;5;241m=\u001b[39m api[\u001b[38;5;124m\"\u001b[39m\u001b[38;5;124mpandas_transport\u001b[39m\u001b[38;5;124m\"\u001b[39m][\u001b[38;5;124m\"\u001b[39m\u001b[38;5;124mconvert_to_pandas\u001b[39m\u001b[38;5;124m\"\u001b[39m](expr_val)\n\u001b[1;32m    220\u001b[0m tmp_vars[\u001b[38;5;28mself\u001b[39m\u001b[38;5;241m.\u001b[39mid] \u001b[38;5;241m=\u001b[39m {\n\u001b[0;32m--> 221\u001b[0m     \u001b[38;5;124m\"\u001b[39m\u001b[38;5;124mconverted\u001b[39m\u001b[38;5;124m\"\u001b[39m: \u001b[43mpandas_df\u001b[49m\u001b[38;5;241;43m.\u001b[39;49m\u001b[43mcopy\u001b[49m(deep\u001b[38;5;241m=\u001b[39m\u001b[38;5;28;01mFalse\u001b[39;00m), \u001b[38;5;66;03m# create a shallow copy in case a displayed object is mutated in the same cell\u001b[39;00m\n\u001b[1;32m    222\u001b[0m     \u001b[38;5;124m\"\u001b[39m\u001b[38;5;124mconversion_method\u001b[39m\u001b[38;5;124m\"\u001b[39m: conversion_method\n\u001b[1;32m    223\u001b[0m }\n",
      "\u001b[0;31mAttributeError\u001b[0m: 'NoneType' object has no attribute 'copy'"
     ]
    },
    {
     "data": {
      "text/html": [
       "<div>\n",
       "<style scoped>\n",
       "    .dataframe tbody tr th:only-of-type {\n",
       "        vertical-align: middle;\n",
       "    }\n",
       "\n",
       "    .dataframe tbody tr th {\n",
       "        vertical-align: top;\n",
       "    }\n",
       "\n",
       "    .dataframe thead th {\n",
       "        text-align: right;\n",
       "    }\n",
       "</style>\n",
       "<table border=\"1\" class=\"dataframe\">\n",
       "  <thead>\n",
       "    <tr style=\"text-align: right;\">\n",
       "      <th></th>\n",
       "      <th>codgeo</th>\n",
       "      <th>codpost</th>\n",
       "      <th>nom</th>\n",
       "      <th>longitude</th>\n",
       "      <th>latitude</th>\n",
       "      <th>geometry</th>\n",
       "      <th>polygon</th>\n",
       "    </tr>\n",
       "  </thead>\n",
       "  <tbody>\n",
       "    <tr>\n",
       "      <th>0</th>\n",
       "      <td>01001</td>\n",
       "      <td>01400</td>\n",
       "      <td>L ABERGEMENT CLEMENCIAT</td>\n",
       "      <td>4.9306005</td>\n",
       "      <td>46.1517018</td>\n",
       "      <td>POINT (4.9306 46.1517)</td>\n",
       "      <td>POLYGON ((4.90457 46.16096, 4.91332 46.1829, 4...</td>\n",
       "    </tr>\n",
       "    <tr>\n",
       "      <th>1</th>\n",
       "      <td>01002</td>\n",
       "      <td>01640</td>\n",
       "      <td>L ABERGEMENT DE VAREY</td>\n",
       "      <td>5.4246442</td>\n",
       "      <td>46.007131</td>\n",
       "      <td>POINT (5.42464 46.00713)</td>\n",
       "      <td>POLYGON ((5.42476 46.03131, 5.44129 46.0254, 5...</td>\n",
       "    </tr>\n",
       "    <tr>\n",
       "      <th>2</th>\n",
       "      <td>01004</td>\n",
       "      <td>01500</td>\n",
       "      <td>AMBERIEU EN BUGEY</td>\n",
       "      <td>5.37056825</td>\n",
       "      <td>45.9574707</td>\n",
       "      <td>POINT (5.37057 45.95747)</td>\n",
       "      <td>POLYGON ((5.38619 45.93093, 5.35724 45.94863, ...</td>\n",
       "    </tr>\n",
       "    <tr>\n",
       "      <th>3</th>\n",
       "      <td>01005</td>\n",
       "      <td>01330</td>\n",
       "      <td>AMBERIEUX EN DOMBES</td>\n",
       "      <td>4.9118718</td>\n",
       "      <td>45.99922935</td>\n",
       "      <td>POINT (4.91187 45.99923)</td>\n",
       "      <td>POLYGON ((4.94287 45.97914, 4.92773 45.98003, ...</td>\n",
       "    </tr>\n",
       "    <tr>\n",
       "      <th>4</th>\n",
       "      <td>01006</td>\n",
       "      <td>01300</td>\n",
       "      <td>AMBLEON</td>\n",
       "      <td>5.5927847</td>\n",
       "      <td>45.74831435</td>\n",
       "      <td>POINT (5.59278 45.74831)</td>\n",
       "      <td>POLYGON ((5.57082 45.75338, 5.58429 45.76259, ...</td>\n",
       "    </tr>\n",
       "  </tbody>\n",
       "</table>\n",
       "</div>"
      ],
      "text/plain": [
       "  codgeo codpost                      nom   longitude     latitude  \\\n",
       "0  01001   01400  L ABERGEMENT CLEMENCIAT   4.9306005   46.1517018   \n",
       "1  01002   01640    L ABERGEMENT DE VAREY   5.4246442    46.007131   \n",
       "2  01004   01500        AMBERIEU EN BUGEY  5.37056825   45.9574707   \n",
       "3  01005   01330      AMBERIEUX EN DOMBES   4.9118718  45.99922935   \n",
       "4  01006   01300                  AMBLEON   5.5927847  45.74831435   \n",
       "\n",
       "                   geometry                                            polygon  \n",
       "0    POINT (4.9306 46.1517)  POLYGON ((4.90457 46.16096, 4.91332 46.1829, 4...  \n",
       "1  POINT (5.42464 46.00713)  POLYGON ((5.42476 46.03131, 5.44129 46.0254, 5...  \n",
       "2  POINT (5.37057 45.95747)  POLYGON ((5.38619 45.93093, 5.35724 45.94863, ...  \n",
       "3  POINT (4.91187 45.99923)  POLYGON ((4.94287 45.97914, 4.92773 45.98003, ...  \n",
       "4  POINT (5.59278 45.74831)  POLYGON ((5.57082 45.75338, 5.58429 45.76259, ...  "
      ]
     },
     "execution_count": 116,
     "metadata": {},
     "output_type": "execute_result"
    }
   ],
   "source": [
    "gdf = gdf.join(communes_polygones.set_index('codgeo'), on='codgeo', how='left')\n",
    "gdf.head()"
   ]
  },
  {
   "cell_type": "markdown",
   "metadata": {},
   "source": [
    "Let' s draw a map to get a sense of what we have"
   ]
  },
  {
   "cell_type": "code",
   "execution_count": 117,
   "metadata": {},
   "outputs": [],
   "source": [
    "gdf.set_geometry('polygon', inplace=True)\n",
    "#gdf.explore()"
   ]
  },
  {
   "cell_type": "code",
   "execution_count": 118,
   "metadata": {},
   "outputs": [
    {
     "ename": "AttributeError",
     "evalue": "'NoneType' object has no attribute 'copy'",
     "output_type": "error",
     "traceback": [
      "\u001b[0;31m---------------------------------------------------------------------------\u001b[0m",
      "\u001b[0;31mAttributeError\u001b[0m                            Traceback (most recent call last)",
      "File \u001b[0;32m~/.cache/pypoetry/virtualenvs/odis-Nf-mTAVv-py3.10/lib/python3.10/site-packages/IPython/core/formatters.py:402\u001b[0m, in \u001b[0;36mBaseFormatter.__call__\u001b[0;34m(self, obj)\u001b[0m\n\u001b[1;32m    400\u001b[0m     \u001b[38;5;28;01mpass\u001b[39;00m\n\u001b[1;32m    401\u001b[0m \u001b[38;5;28;01melse\u001b[39;00m:\n\u001b[0;32m--> 402\u001b[0m     \u001b[38;5;28;01mreturn\u001b[39;00m \u001b[43mprinter\u001b[49m\u001b[43m(\u001b[49m\u001b[43mobj\u001b[49m\u001b[43m)\u001b[49m\n\u001b[1;32m    403\u001b[0m \u001b[38;5;66;03m# Finally look for special method names\u001b[39;00m\n\u001b[1;32m    404\u001b[0m method \u001b[38;5;241m=\u001b[39m get_real_method(obj, \u001b[38;5;28mself\u001b[39m\u001b[38;5;241m.\u001b[39mprint_method)\n",
      "Cell \u001b[0;32mIn[1], line 227\u001b[0m, in \u001b[0;36m__DW_OUTPUT_FORMATTER__.<locals>.DataWrangler.formatter\u001b[0;34m(cls, var, **kwargs)\u001b[0m\n\u001b[1;32m    225\u001b[0m \u001b[38;5;129m@classmethod\u001b[39m\n\u001b[1;32m    226\u001b[0m \u001b[38;5;28;01mdef\u001b[39;00m\u001b[38;5;250m \u001b[39m\u001b[38;5;21mformatter\u001b[39m(\u001b[38;5;28mcls\u001b[39m, var, \u001b[38;5;241m*\u001b[39m\u001b[38;5;241m*\u001b[39mkwargs):\n\u001b[0;32m--> 227\u001b[0m     s \u001b[38;5;241m=\u001b[39m \u001b[38;5;28;43mcls\u001b[39;49m\u001b[43m(\u001b[49m\u001b[43mvar\u001b[49m\u001b[43m,\u001b[49m\u001b[43m \u001b[49m\u001b[38;5;241;43m*\u001b[39;49m\u001b[38;5;241;43m*\u001b[39;49m\u001b[43mkwargs\u001b[49m\u001b[43m)\u001b[49m\n\u001b[1;32m    228\u001b[0m     \u001b[38;5;28;01mreturn\u001b[39;00m s\u001b[38;5;241m.\u001b[39m_repr_dw_()\n",
      "Cell \u001b[0;32mIn[1], line 221\u001b[0m, in \u001b[0;36m__DW_OUTPUT_FORMATTER__.<locals>.DataWrangler.__init__\u001b[0;34m(self, expr_val)\u001b[0m\n\u001b[1;32m    218\u001b[0m \u001b[38;5;28mself\u001b[39m\u001b[38;5;241m.\u001b[39mid \u001b[38;5;241m=\u001b[39m \u001b[38;5;28mstr\u001b[39m(uuid\u001b[38;5;241m.\u001b[39muuid4())\n\u001b[1;32m    219\u001b[0m pandas_df, conversion_method \u001b[38;5;241m=\u001b[39m api[\u001b[38;5;124m\"\u001b[39m\u001b[38;5;124mpandas_transport\u001b[39m\u001b[38;5;124m\"\u001b[39m][\u001b[38;5;124m\"\u001b[39m\u001b[38;5;124mconvert_to_pandas\u001b[39m\u001b[38;5;124m\"\u001b[39m](expr_val)\n\u001b[1;32m    220\u001b[0m tmp_vars[\u001b[38;5;28mself\u001b[39m\u001b[38;5;241m.\u001b[39mid] \u001b[38;5;241m=\u001b[39m {\n\u001b[0;32m--> 221\u001b[0m     \u001b[38;5;124m\"\u001b[39m\u001b[38;5;124mconverted\u001b[39m\u001b[38;5;124m\"\u001b[39m: \u001b[43mpandas_df\u001b[49m\u001b[38;5;241;43m.\u001b[39;49m\u001b[43mcopy\u001b[49m(deep\u001b[38;5;241m=\u001b[39m\u001b[38;5;28;01mFalse\u001b[39;00m), \u001b[38;5;66;03m# create a shallow copy in case a displayed object is mutated in the same cell\u001b[39;00m\n\u001b[1;32m    222\u001b[0m     \u001b[38;5;124m\"\u001b[39m\u001b[38;5;124mconversion_method\u001b[39m\u001b[38;5;124m\"\u001b[39m: conversion_method\n\u001b[1;32m    223\u001b[0m }\n",
      "\u001b[0;31mAttributeError\u001b[0m: 'NoneType' object has no attribute 'copy'"
     ]
    },
    {
     "data": {
      "text/html": [
       "<div>\n",
       "<style scoped>\n",
       "    .dataframe tbody tr th:only-of-type {\n",
       "        vertical-align: middle;\n",
       "    }\n",
       "\n",
       "    .dataframe tbody tr th {\n",
       "        vertical-align: top;\n",
       "    }\n",
       "\n",
       "    .dataframe thead th {\n",
       "        text-align: right;\n",
       "    }\n",
       "</style>\n",
       "<table border=\"1\" class=\"dataframe\">\n",
       "  <thead>\n",
       "    <tr style=\"text-align: right;\">\n",
       "      <th></th>\n",
       "      <th>codgeo</th>\n",
       "      <th>codpost</th>\n",
       "      <th>nom</th>\n",
       "      <th>longitude</th>\n",
       "      <th>latitude</th>\n",
       "      <th>geometry</th>\n",
       "      <th>polygon</th>\n",
       "    </tr>\n",
       "  </thead>\n",
       "  <tbody>\n",
       "    <tr>\n",
       "      <th>0</th>\n",
       "      <td>01001</td>\n",
       "      <td>01400</td>\n",
       "      <td>L ABERGEMENT CLEMENCIAT</td>\n",
       "      <td>4.9306005</td>\n",
       "      <td>46.1517018</td>\n",
       "      <td>POINT (4.9306 46.1517)</td>\n",
       "      <td>POLYGON ((4.90457 46.16096, 4.91332 46.1829, 4...</td>\n",
       "    </tr>\n",
       "    <tr>\n",
       "      <th>1</th>\n",
       "      <td>01002</td>\n",
       "      <td>01640</td>\n",
       "      <td>L ABERGEMENT DE VAREY</td>\n",
       "      <td>5.4246442</td>\n",
       "      <td>46.007131</td>\n",
       "      <td>POINT (5.42464 46.00713)</td>\n",
       "      <td>POLYGON ((5.42476 46.03131, 5.44129 46.0254, 5...</td>\n",
       "    </tr>\n",
       "    <tr>\n",
       "      <th>2</th>\n",
       "      <td>01004</td>\n",
       "      <td>01500</td>\n",
       "      <td>AMBERIEU EN BUGEY</td>\n",
       "      <td>5.37056825</td>\n",
       "      <td>45.9574707</td>\n",
       "      <td>POINT (5.37057 45.95747)</td>\n",
       "      <td>POLYGON ((5.38619 45.93093, 5.35724 45.94863, ...</td>\n",
       "    </tr>\n",
       "    <tr>\n",
       "      <th>3</th>\n",
       "      <td>01005</td>\n",
       "      <td>01330</td>\n",
       "      <td>AMBERIEUX EN DOMBES</td>\n",
       "      <td>4.9118718</td>\n",
       "      <td>45.99922935</td>\n",
       "      <td>POINT (4.91187 45.99923)</td>\n",
       "      <td>POLYGON ((4.94287 45.97914, 4.92773 45.98003, ...</td>\n",
       "    </tr>\n",
       "    <tr>\n",
       "      <th>4</th>\n",
       "      <td>01006</td>\n",
       "      <td>01300</td>\n",
       "      <td>AMBLEON</td>\n",
       "      <td>5.5927847</td>\n",
       "      <td>45.74831435</td>\n",
       "      <td>POINT (5.59278 45.74831)</td>\n",
       "      <td>POLYGON ((5.57082 45.75338, 5.58429 45.76259, ...</td>\n",
       "    </tr>\n",
       "  </tbody>\n",
       "</table>\n",
       "</div>"
      ],
      "text/plain": [
       "  codgeo codpost                      nom   longitude     latitude  \\\n",
       "0  01001   01400  L ABERGEMENT CLEMENCIAT   4.9306005   46.1517018   \n",
       "1  01002   01640    L ABERGEMENT DE VAREY   5.4246442    46.007131   \n",
       "2  01004   01500        AMBERIEU EN BUGEY  5.37056825   45.9574707   \n",
       "3  01005   01330      AMBERIEUX EN DOMBES   4.9118718  45.99922935   \n",
       "4  01006   01300                  AMBLEON   5.5927847  45.74831435   \n",
       "\n",
       "                   geometry                                            polygon  \n",
       "0    POINT (4.9306 46.1517)  POLYGON ((4.90457 46.16096, 4.91332 46.1829, 4...  \n",
       "1  POINT (5.42464 46.00713)  POLYGON ((5.42476 46.03131, 5.44129 46.0254, 5...  \n",
       "2  POINT (5.37057 45.95747)  POLYGON ((5.38619 45.93093, 5.35724 45.94863, ...  \n",
       "3  POINT (4.91187 45.99923)  POLYGON ((4.94287 45.97914, 4.92773 45.98003, ...  \n",
       "4  POINT (5.59278 45.74831)  POLYGON ((5.57082 45.75338, 5.58429 45.76259, ...  "
      ]
     },
     "execution_count": 118,
     "metadata": {},
     "output_type": "execute_result"
    }
   ],
   "source": [
    "gdf.head()"
   ]
  },
  {
   "cell_type": "markdown",
   "metadata": {},
   "source": [
    "## Let's fetch population data"
   ]
  },
  {
   "cell_type": "code",
   "execution_count": 119,
   "metadata": {},
   "outputs": [],
   "source": [
    "pop = pd.read_csv('../csv/insee-estimation-population-2024.csv')"
   ]
  },
  {
   "cell_type": "code",
   "execution_count": 120,
   "metadata": {},
   "outputs": [
    {
     "data": {
      "application/vnd.microsoft.datawrangler.viewer.v0+json": {
       "columns": [
        {
         "name": "index",
         "rawType": "int64",
         "type": "integer"
        },
        {
         "name": "objectid",
         "rawType": "int64",
         "type": "integer"
        },
        {
         "name": "reg",
         "rawType": "int64",
         "type": "integer"
        },
        {
         "name": "dep",
         "rawType": "object",
         "type": "string"
        },
        {
         "name": "cv",
         "rawType": "object",
         "type": "string"
        },
        {
         "name": "codgeo",
         "rawType": "object",
         "type": "string"
        },
        {
         "name": "libgeo",
         "rawType": "object",
         "type": "string"
        },
        {
         "name": "p13_pop",
         "rawType": "float64",
         "type": "float"
        },
        {
         "name": "p14_pop",
         "rawType": "float64",
         "type": "float"
        },
        {
         "name": "p15_pop",
         "rawType": "float64",
         "type": "float"
        },
        {
         "name": "p16_pop",
         "rawType": "float64",
         "type": "float"
        },
        {
         "name": "p17_pop",
         "rawType": "int64",
         "type": "integer"
        },
        {
         "name": "p18_pop",
         "rawType": "float64",
         "type": "float"
        },
        {
         "name": "p19_pop",
         "rawType": "float64",
         "type": "float"
        },
        {
         "name": "p20_pop",
         "rawType": "float64",
         "type": "float"
        },
        {
         "name": "p21_pop",
         "rawType": "float64",
         "type": "float"
        }
       ],
       "conversionMethod": "pd.DataFrame",
       "ref": "4a7f62cf-15fc-4ea1-b427-a37bceb86935",
       "rows": [
        [
         "0",
         "115658",
         "52",
         "85",
         "8502",
         "85062",
         "Châteauneuf",
         "968.0",
         "993.0",
         "1013.0",
         "1027.0",
         "1056",
         "1085.0",
         "1114.0",
         "1118.0",
         "1134.0"
        ],
        [
         "1",
         "115659",
         "26",
         "58",
         "5808",
         "58300",
         "Urzy",
         "1839.0",
         "1835.0",
         "1828.0",
         "1802.0",
         "1775",
         "1749.0",
         "1746.0",
         "1747.0",
         "1742.0"
        ],
        [
         "2",
         "115660",
         "43",
         "70",
         "7012",
         "70137",
         "Chassey-lès-Montbozon",
         "218.0",
         "217.0",
         "216.0",
         "215.0",
         "217",
         "215.0",
         "215.0",
         "220.0",
         "225.0"
        ],
        [
         "3",
         "115661",
         "21",
         "51",
         "5123",
         "51649",
         "Vitry-le-François",
         "13174.0",
         "13144.0",
         "12805.0",
         "12552.0",
         "12133",
         "11743.0",
         "11376.0",
         "11458.0",
         "11454.0"
        ],
        [
         "4",
         "115662",
         "11",
         "78",
         "7811",
         "78638",
         "Vaux-sur-Seine",
         "4749.0",
         "4715.0",
         "4788.0",
         "4857.0",
         "4927",
         "4929.0",
         "5010.0",
         "5020.0",
         "5083.0"
        ]
       ],
       "shape": {
        "columns": 15,
        "rows": 5
       }
      },
      "text/html": [
       "<div>\n",
       "<style scoped>\n",
       "    .dataframe tbody tr th:only-of-type {\n",
       "        vertical-align: middle;\n",
       "    }\n",
       "\n",
       "    .dataframe tbody tr th {\n",
       "        vertical-align: top;\n",
       "    }\n",
       "\n",
       "    .dataframe thead th {\n",
       "        text-align: right;\n",
       "    }\n",
       "</style>\n",
       "<table border=\"1\" class=\"dataframe\">\n",
       "  <thead>\n",
       "    <tr style=\"text-align: right;\">\n",
       "      <th></th>\n",
       "      <th>objectid</th>\n",
       "      <th>reg</th>\n",
       "      <th>dep</th>\n",
       "      <th>cv</th>\n",
       "      <th>codgeo</th>\n",
       "      <th>libgeo</th>\n",
       "      <th>p13_pop</th>\n",
       "      <th>p14_pop</th>\n",
       "      <th>p15_pop</th>\n",
       "      <th>p16_pop</th>\n",
       "      <th>p17_pop</th>\n",
       "      <th>p18_pop</th>\n",
       "      <th>p19_pop</th>\n",
       "      <th>p20_pop</th>\n",
       "      <th>p21_pop</th>\n",
       "    </tr>\n",
       "  </thead>\n",
       "  <tbody>\n",
       "    <tr>\n",
       "      <th>0</th>\n",
       "      <td>115658</td>\n",
       "      <td>52</td>\n",
       "      <td>85</td>\n",
       "      <td>8502</td>\n",
       "      <td>85062</td>\n",
       "      <td>Châteauneuf</td>\n",
       "      <td>968.0</td>\n",
       "      <td>993.0</td>\n",
       "      <td>1013.0</td>\n",
       "      <td>1027.0</td>\n",
       "      <td>1056</td>\n",
       "      <td>1085.0</td>\n",
       "      <td>1114.0</td>\n",
       "      <td>1118.0</td>\n",
       "      <td>1134.0</td>\n",
       "    </tr>\n",
       "    <tr>\n",
       "      <th>1</th>\n",
       "      <td>115659</td>\n",
       "      <td>26</td>\n",
       "      <td>58</td>\n",
       "      <td>5808</td>\n",
       "      <td>58300</td>\n",
       "      <td>Urzy</td>\n",
       "      <td>1839.0</td>\n",
       "      <td>1835.0</td>\n",
       "      <td>1828.0</td>\n",
       "      <td>1802.0</td>\n",
       "      <td>1775</td>\n",
       "      <td>1749.0</td>\n",
       "      <td>1746.0</td>\n",
       "      <td>1747.0</td>\n",
       "      <td>1742.0</td>\n",
       "    </tr>\n",
       "    <tr>\n",
       "      <th>2</th>\n",
       "      <td>115660</td>\n",
       "      <td>43</td>\n",
       "      <td>70</td>\n",
       "      <td>7012</td>\n",
       "      <td>70137</td>\n",
       "      <td>Chassey-lès-Montbozon</td>\n",
       "      <td>218.0</td>\n",
       "      <td>217.0</td>\n",
       "      <td>216.0</td>\n",
       "      <td>215.0</td>\n",
       "      <td>217</td>\n",
       "      <td>215.0</td>\n",
       "      <td>215.0</td>\n",
       "      <td>220.0</td>\n",
       "      <td>225.0</td>\n",
       "    </tr>\n",
       "    <tr>\n",
       "      <th>3</th>\n",
       "      <td>115661</td>\n",
       "      <td>21</td>\n",
       "      <td>51</td>\n",
       "      <td>5123</td>\n",
       "      <td>51649</td>\n",
       "      <td>Vitry-le-François</td>\n",
       "      <td>13174.0</td>\n",
       "      <td>13144.0</td>\n",
       "      <td>12805.0</td>\n",
       "      <td>12552.0</td>\n",
       "      <td>12133</td>\n",
       "      <td>11743.0</td>\n",
       "      <td>11376.0</td>\n",
       "      <td>11458.0</td>\n",
       "      <td>11454.0</td>\n",
       "    </tr>\n",
       "    <tr>\n",
       "      <th>4</th>\n",
       "      <td>115662</td>\n",
       "      <td>11</td>\n",
       "      <td>78</td>\n",
       "      <td>7811</td>\n",
       "      <td>78638</td>\n",
       "      <td>Vaux-sur-Seine</td>\n",
       "      <td>4749.0</td>\n",
       "      <td>4715.0</td>\n",
       "      <td>4788.0</td>\n",
       "      <td>4857.0</td>\n",
       "      <td>4927</td>\n",
       "      <td>4929.0</td>\n",
       "      <td>5010.0</td>\n",
       "      <td>5020.0</td>\n",
       "      <td>5083.0</td>\n",
       "    </tr>\n",
       "  </tbody>\n",
       "</table>\n",
       "</div>"
      ],
      "text/plain": [
       "   objectid  reg dep    cv codgeo                 libgeo  p13_pop  p14_pop  \\\n",
       "0    115658   52  85  8502  85062            Châteauneuf    968.0    993.0   \n",
       "1    115659   26  58  5808  58300                   Urzy   1839.0   1835.0   \n",
       "2    115660   43  70  7012  70137  Chassey-lès-Montbozon    218.0    217.0   \n",
       "3    115661   21  51  5123  51649      Vitry-le-François  13174.0  13144.0   \n",
       "4    115662   11  78  7811  78638         Vaux-sur-Seine   4749.0   4715.0   \n",
       "\n",
       "   p15_pop  p16_pop  p17_pop  p18_pop  p19_pop  p20_pop  p21_pop  \n",
       "0   1013.0   1027.0     1056   1085.0   1114.0   1118.0   1134.0  \n",
       "1   1828.0   1802.0     1775   1749.0   1746.0   1747.0   1742.0  \n",
       "2    216.0    215.0      217    215.0    215.0    220.0    225.0  \n",
       "3  12805.0  12552.0    12133  11743.0  11376.0  11458.0  11454.0  \n",
       "4   4788.0   4857.0     4927   4929.0   5010.0   5020.0   5083.0  "
      ]
     },
     "execution_count": 120,
     "metadata": {},
     "output_type": "execute_result"
    }
   ],
   "source": [
    "pop.head()"
   ]
  },
  {
   "cell_type": "code",
   "execution_count": 121,
   "metadata": {},
   "outputs": [],
   "source": [
    "pop = pop[[\"codgeo\", \"libgeo\", \"p21_pop\", 'p20_pop']]\n",
    "pop['population'] = np.where(pop.p21_pop.isna(), pop.p20_pop, pop.p21_pop)"
   ]
  },
  {
   "cell_type": "markdown",
   "metadata": {},
   "source": [
    "Let's join the Commune with Coordinates and the Estimation Population datasets"
   ]
  },
  {
   "cell_type": "code",
   "execution_count": 122,
   "metadata": {},
   "outputs": [],
   "source": [
    "gdf_pop = gdf.join(pop.set_index('codgeo'), on='codgeo', how='left')"
   ]
  },
  {
   "cell_type": "code",
   "execution_count": 123,
   "metadata": {},
   "outputs": [
    {
     "ename": "AttributeError",
     "evalue": "'NoneType' object has no attribute 'copy'",
     "output_type": "error",
     "traceback": [
      "\u001b[0;31m---------------------------------------------------------------------------\u001b[0m",
      "\u001b[0;31mAttributeError\u001b[0m                            Traceback (most recent call last)",
      "File \u001b[0;32m~/.cache/pypoetry/virtualenvs/odis-Nf-mTAVv-py3.10/lib/python3.10/site-packages/IPython/core/formatters.py:402\u001b[0m, in \u001b[0;36mBaseFormatter.__call__\u001b[0;34m(self, obj)\u001b[0m\n\u001b[1;32m    400\u001b[0m     \u001b[38;5;28;01mpass\u001b[39;00m\n\u001b[1;32m    401\u001b[0m \u001b[38;5;28;01melse\u001b[39;00m:\n\u001b[0;32m--> 402\u001b[0m     \u001b[38;5;28;01mreturn\u001b[39;00m \u001b[43mprinter\u001b[49m\u001b[43m(\u001b[49m\u001b[43mobj\u001b[49m\u001b[43m)\u001b[49m\n\u001b[1;32m    403\u001b[0m \u001b[38;5;66;03m# Finally look for special method names\u001b[39;00m\n\u001b[1;32m    404\u001b[0m method \u001b[38;5;241m=\u001b[39m get_real_method(obj, \u001b[38;5;28mself\u001b[39m\u001b[38;5;241m.\u001b[39mprint_method)\n",
      "Cell \u001b[0;32mIn[1], line 227\u001b[0m, in \u001b[0;36m__DW_OUTPUT_FORMATTER__.<locals>.DataWrangler.formatter\u001b[0;34m(cls, var, **kwargs)\u001b[0m\n\u001b[1;32m    225\u001b[0m \u001b[38;5;129m@classmethod\u001b[39m\n\u001b[1;32m    226\u001b[0m \u001b[38;5;28;01mdef\u001b[39;00m\u001b[38;5;250m \u001b[39m\u001b[38;5;21mformatter\u001b[39m(\u001b[38;5;28mcls\u001b[39m, var, \u001b[38;5;241m*\u001b[39m\u001b[38;5;241m*\u001b[39mkwargs):\n\u001b[0;32m--> 227\u001b[0m     s \u001b[38;5;241m=\u001b[39m \u001b[38;5;28;43mcls\u001b[39;49m\u001b[43m(\u001b[49m\u001b[43mvar\u001b[49m\u001b[43m,\u001b[49m\u001b[43m \u001b[49m\u001b[38;5;241;43m*\u001b[39;49m\u001b[38;5;241;43m*\u001b[39;49m\u001b[43mkwargs\u001b[49m\u001b[43m)\u001b[49m\n\u001b[1;32m    228\u001b[0m     \u001b[38;5;28;01mreturn\u001b[39;00m s\u001b[38;5;241m.\u001b[39m_repr_dw_()\n",
      "Cell \u001b[0;32mIn[1], line 221\u001b[0m, in \u001b[0;36m__DW_OUTPUT_FORMATTER__.<locals>.DataWrangler.__init__\u001b[0;34m(self, expr_val)\u001b[0m\n\u001b[1;32m    218\u001b[0m \u001b[38;5;28mself\u001b[39m\u001b[38;5;241m.\u001b[39mid \u001b[38;5;241m=\u001b[39m \u001b[38;5;28mstr\u001b[39m(uuid\u001b[38;5;241m.\u001b[39muuid4())\n\u001b[1;32m    219\u001b[0m pandas_df, conversion_method \u001b[38;5;241m=\u001b[39m api[\u001b[38;5;124m\"\u001b[39m\u001b[38;5;124mpandas_transport\u001b[39m\u001b[38;5;124m\"\u001b[39m][\u001b[38;5;124m\"\u001b[39m\u001b[38;5;124mconvert_to_pandas\u001b[39m\u001b[38;5;124m\"\u001b[39m](expr_val)\n\u001b[1;32m    220\u001b[0m tmp_vars[\u001b[38;5;28mself\u001b[39m\u001b[38;5;241m.\u001b[39mid] \u001b[38;5;241m=\u001b[39m {\n\u001b[0;32m--> 221\u001b[0m     \u001b[38;5;124m\"\u001b[39m\u001b[38;5;124mconverted\u001b[39m\u001b[38;5;124m\"\u001b[39m: \u001b[43mpandas_df\u001b[49m\u001b[38;5;241;43m.\u001b[39;49m\u001b[43mcopy\u001b[49m(deep\u001b[38;5;241m=\u001b[39m\u001b[38;5;28;01mFalse\u001b[39;00m), \u001b[38;5;66;03m# create a shallow copy in case a displayed object is mutated in the same cell\u001b[39;00m\n\u001b[1;32m    222\u001b[0m     \u001b[38;5;124m\"\u001b[39m\u001b[38;5;124mconversion_method\u001b[39m\u001b[38;5;124m\"\u001b[39m: conversion_method\n\u001b[1;32m    223\u001b[0m }\n",
      "\u001b[0;31mAttributeError\u001b[0m: 'NoneType' object has no attribute 'copy'"
     ]
    },
    {
     "data": {
      "text/html": [
       "<div>\n",
       "<style scoped>\n",
       "    .dataframe tbody tr th:only-of-type {\n",
       "        vertical-align: middle;\n",
       "    }\n",
       "\n",
       "    .dataframe tbody tr th {\n",
       "        vertical-align: top;\n",
       "    }\n",
       "\n",
       "    .dataframe thead th {\n",
       "        text-align: right;\n",
       "    }\n",
       "</style>\n",
       "<table border=\"1\" class=\"dataframe\">\n",
       "  <thead>\n",
       "    <tr style=\"text-align: right;\">\n",
       "      <th></th>\n",
       "      <th>codgeo</th>\n",
       "      <th>codpost</th>\n",
       "      <th>nom</th>\n",
       "      <th>longitude</th>\n",
       "      <th>latitude</th>\n",
       "      <th>geometry</th>\n",
       "      <th>polygon</th>\n",
       "      <th>libgeo</th>\n",
       "      <th>p21_pop</th>\n",
       "      <th>p20_pop</th>\n",
       "      <th>population</th>\n",
       "    </tr>\n",
       "  </thead>\n",
       "  <tbody>\n",
       "    <tr>\n",
       "      <th>0</th>\n",
       "      <td>01001</td>\n",
       "      <td>01400</td>\n",
       "      <td>L ABERGEMENT CLEMENCIAT</td>\n",
       "      <td>4.9306005</td>\n",
       "      <td>46.1517018</td>\n",
       "      <td>POINT (4.9306 46.1517)</td>\n",
       "      <td>POLYGON ((4.90457 46.16096, 4.91332 46.1829, 4...</td>\n",
       "      <td>L' Abergement-Clémenciat</td>\n",
       "      <td>832.0</td>\n",
       "      <td>806.0</td>\n",
       "      <td>832.0</td>\n",
       "    </tr>\n",
       "    <tr>\n",
       "      <th>1</th>\n",
       "      <td>01002</td>\n",
       "      <td>01640</td>\n",
       "      <td>L ABERGEMENT DE VAREY</td>\n",
       "      <td>5.4246442</td>\n",
       "      <td>46.007131</td>\n",
       "      <td>POINT (5.42464 46.00713)</td>\n",
       "      <td>POLYGON ((5.42476 46.03131, 5.44129 46.0254, 5...</td>\n",
       "      <td>L' Abergement-de-Varey</td>\n",
       "      <td>267.0</td>\n",
       "      <td>262.0</td>\n",
       "      <td>267.0</td>\n",
       "    </tr>\n",
       "    <tr>\n",
       "      <th>2</th>\n",
       "      <td>01004</td>\n",
       "      <td>01500</td>\n",
       "      <td>AMBERIEU EN BUGEY</td>\n",
       "      <td>5.37056825</td>\n",
       "      <td>45.9574707</td>\n",
       "      <td>POINT (5.37057 45.95747)</td>\n",
       "      <td>POLYGON ((5.38619 45.93093, 5.35724 45.94863, ...</td>\n",
       "      <td>Ambérieu-en-Bugey</td>\n",
       "      <td>14854.0</td>\n",
       "      <td>14288.0</td>\n",
       "      <td>14854.0</td>\n",
       "    </tr>\n",
       "    <tr>\n",
       "      <th>3</th>\n",
       "      <td>01005</td>\n",
       "      <td>01330</td>\n",
       "      <td>AMBERIEUX EN DOMBES</td>\n",
       "      <td>4.9118718</td>\n",
       "      <td>45.99922935</td>\n",
       "      <td>POINT (4.91187 45.99923)</td>\n",
       "      <td>POLYGON ((4.94287 45.97914, 4.92773 45.98003, ...</td>\n",
       "      <td>Ambérieux-en-Dombes</td>\n",
       "      <td>1897.0</td>\n",
       "      <td>1782.0</td>\n",
       "      <td>1897.0</td>\n",
       "    </tr>\n",
       "    <tr>\n",
       "      <th>4</th>\n",
       "      <td>01006</td>\n",
       "      <td>01300</td>\n",
       "      <td>AMBLEON</td>\n",
       "      <td>5.5927847</td>\n",
       "      <td>45.74831435</td>\n",
       "      <td>POINT (5.59278 45.74831)</td>\n",
       "      <td>POLYGON ((5.57082 45.75338, 5.58429 45.76259, ...</td>\n",
       "      <td>Ambléon</td>\n",
       "      <td>113.0</td>\n",
       "      <td>113.0</td>\n",
       "      <td>113.0</td>\n",
       "    </tr>\n",
       "  </tbody>\n",
       "</table>\n",
       "</div>"
      ],
      "text/plain": [
       "  codgeo codpost                      nom   longitude     latitude  \\\n",
       "0  01001   01400  L ABERGEMENT CLEMENCIAT   4.9306005   46.1517018   \n",
       "1  01002   01640    L ABERGEMENT DE VAREY   5.4246442    46.007131   \n",
       "2  01004   01500        AMBERIEU EN BUGEY  5.37056825   45.9574707   \n",
       "3  01005   01330      AMBERIEUX EN DOMBES   4.9118718  45.99922935   \n",
       "4  01006   01300                  AMBLEON   5.5927847  45.74831435   \n",
       "\n",
       "                   geometry  \\\n",
       "0    POINT (4.9306 46.1517)   \n",
       "1  POINT (5.42464 46.00713)   \n",
       "2  POINT (5.37057 45.95747)   \n",
       "3  POINT (4.91187 45.99923)   \n",
       "4  POINT (5.59278 45.74831)   \n",
       "\n",
       "                                             polygon  \\\n",
       "0  POLYGON ((4.90457 46.16096, 4.91332 46.1829, 4...   \n",
       "1  POLYGON ((5.42476 46.03131, 5.44129 46.0254, 5...   \n",
       "2  POLYGON ((5.38619 45.93093, 5.35724 45.94863, ...   \n",
       "3  POLYGON ((4.94287 45.97914, 4.92773 45.98003, ...   \n",
       "4  POLYGON ((5.57082 45.75338, 5.58429 45.76259, ...   \n",
       "\n",
       "                     libgeo  p21_pop  p20_pop  population  \n",
       "0  L' Abergement-Clémenciat    832.0    806.0       832.0  \n",
       "1    L' Abergement-de-Varey    267.0    262.0       267.0  \n",
       "2         Ambérieu-en-Bugey  14854.0  14288.0     14854.0  \n",
       "3       Ambérieux-en-Dombes   1897.0   1782.0      1897.0  \n",
       "4                   Ambléon    113.0    113.0       113.0  "
      ]
     },
     "execution_count": 123,
     "metadata": {},
     "output_type": "execute_result"
    }
   ],
   "source": [
    "gdf_pop.head()"
   ]
  },
  {
   "cell_type": "markdown",
   "metadata": {},
   "source": [
    "Let's check the locations with missing population data"
   ]
  },
  {
   "cell_type": "code",
   "execution_count": 124,
   "metadata": {},
   "outputs": [],
   "source": [
    "loc_without_pop = gdf_pop[gdf_pop.p21_pop.isna() & gdf_pop.p20_pop.isna()]"
   ]
  },
  {
   "cell_type": "code",
   "execution_count": 125,
   "metadata": {},
   "outputs": [
    {
     "ename": "AttributeError",
     "evalue": "'NoneType' object has no attribute 'copy'",
     "output_type": "error",
     "traceback": [
      "\u001b[0;31m---------------------------------------------------------------------------\u001b[0m",
      "\u001b[0;31mAttributeError\u001b[0m                            Traceback (most recent call last)",
      "File \u001b[0;32m~/.cache/pypoetry/virtualenvs/odis-Nf-mTAVv-py3.10/lib/python3.10/site-packages/IPython/core/formatters.py:402\u001b[0m, in \u001b[0;36mBaseFormatter.__call__\u001b[0;34m(self, obj)\u001b[0m\n\u001b[1;32m    400\u001b[0m     \u001b[38;5;28;01mpass\u001b[39;00m\n\u001b[1;32m    401\u001b[0m \u001b[38;5;28;01melse\u001b[39;00m:\n\u001b[0;32m--> 402\u001b[0m     \u001b[38;5;28;01mreturn\u001b[39;00m \u001b[43mprinter\u001b[49m\u001b[43m(\u001b[49m\u001b[43mobj\u001b[49m\u001b[43m)\u001b[49m\n\u001b[1;32m    403\u001b[0m \u001b[38;5;66;03m# Finally look for special method names\u001b[39;00m\n\u001b[1;32m    404\u001b[0m method \u001b[38;5;241m=\u001b[39m get_real_method(obj, \u001b[38;5;28mself\u001b[39m\u001b[38;5;241m.\u001b[39mprint_method)\n",
      "Cell \u001b[0;32mIn[1], line 227\u001b[0m, in \u001b[0;36m__DW_OUTPUT_FORMATTER__.<locals>.DataWrangler.formatter\u001b[0;34m(cls, var, **kwargs)\u001b[0m\n\u001b[1;32m    225\u001b[0m \u001b[38;5;129m@classmethod\u001b[39m\n\u001b[1;32m    226\u001b[0m \u001b[38;5;28;01mdef\u001b[39;00m\u001b[38;5;250m \u001b[39m\u001b[38;5;21mformatter\u001b[39m(\u001b[38;5;28mcls\u001b[39m, var, \u001b[38;5;241m*\u001b[39m\u001b[38;5;241m*\u001b[39mkwargs):\n\u001b[0;32m--> 227\u001b[0m     s \u001b[38;5;241m=\u001b[39m \u001b[38;5;28;43mcls\u001b[39;49m\u001b[43m(\u001b[49m\u001b[43mvar\u001b[49m\u001b[43m,\u001b[49m\u001b[43m \u001b[49m\u001b[38;5;241;43m*\u001b[39;49m\u001b[38;5;241;43m*\u001b[39;49m\u001b[43mkwargs\u001b[49m\u001b[43m)\u001b[49m\n\u001b[1;32m    228\u001b[0m     \u001b[38;5;28;01mreturn\u001b[39;00m s\u001b[38;5;241m.\u001b[39m_repr_dw_()\n",
      "Cell \u001b[0;32mIn[1], line 221\u001b[0m, in \u001b[0;36m__DW_OUTPUT_FORMATTER__.<locals>.DataWrangler.__init__\u001b[0;34m(self, expr_val)\u001b[0m\n\u001b[1;32m    218\u001b[0m \u001b[38;5;28mself\u001b[39m\u001b[38;5;241m.\u001b[39mid \u001b[38;5;241m=\u001b[39m \u001b[38;5;28mstr\u001b[39m(uuid\u001b[38;5;241m.\u001b[39muuid4())\n\u001b[1;32m    219\u001b[0m pandas_df, conversion_method \u001b[38;5;241m=\u001b[39m api[\u001b[38;5;124m\"\u001b[39m\u001b[38;5;124mpandas_transport\u001b[39m\u001b[38;5;124m\"\u001b[39m][\u001b[38;5;124m\"\u001b[39m\u001b[38;5;124mconvert_to_pandas\u001b[39m\u001b[38;5;124m\"\u001b[39m](expr_val)\n\u001b[1;32m    220\u001b[0m tmp_vars[\u001b[38;5;28mself\u001b[39m\u001b[38;5;241m.\u001b[39mid] \u001b[38;5;241m=\u001b[39m {\n\u001b[0;32m--> 221\u001b[0m     \u001b[38;5;124m\"\u001b[39m\u001b[38;5;124mconverted\u001b[39m\u001b[38;5;124m\"\u001b[39m: \u001b[43mpandas_df\u001b[49m\u001b[38;5;241;43m.\u001b[39;49m\u001b[43mcopy\u001b[49m(deep\u001b[38;5;241m=\u001b[39m\u001b[38;5;28;01mFalse\u001b[39;00m), \u001b[38;5;66;03m# create a shallow copy in case a displayed object is mutated in the same cell\u001b[39;00m\n\u001b[1;32m    222\u001b[0m     \u001b[38;5;124m\"\u001b[39m\u001b[38;5;124mconversion_method\u001b[39m\u001b[38;5;124m\"\u001b[39m: conversion_method\n\u001b[1;32m    223\u001b[0m }\n",
      "\u001b[0;31mAttributeError\u001b[0m: 'NoneType' object has no attribute 'copy'"
     ]
    },
    {
     "data": {
      "text/html": [
       "<div>\n",
       "<style scoped>\n",
       "    .dataframe tbody tr th:only-of-type {\n",
       "        vertical-align: middle;\n",
       "    }\n",
       "\n",
       "    .dataframe tbody tr th {\n",
       "        vertical-align: top;\n",
       "    }\n",
       "\n",
       "    .dataframe thead th {\n",
       "        text-align: right;\n",
       "    }\n",
       "</style>\n",
       "<table border=\"1\" class=\"dataframe\">\n",
       "  <thead>\n",
       "    <tr style=\"text-align: right;\">\n",
       "      <th></th>\n",
       "      <th>codgeo</th>\n",
       "      <th>codpost</th>\n",
       "      <th>nom</th>\n",
       "      <th>longitude</th>\n",
       "      <th>latitude</th>\n",
       "      <th>geometry</th>\n",
       "      <th>polygon</th>\n",
       "      <th>libgeo</th>\n",
       "      <th>p21_pop</th>\n",
       "      <th>p20_pop</th>\n",
       "      <th>population</th>\n",
       "    </tr>\n",
       "  </thead>\n",
       "  <tbody>\n",
       "    <tr>\n",
       "      <th>5506</th>\n",
       "      <td>14666</td>\n",
       "      <td>14940</td>\n",
       "      <td>SANNERVILLE</td>\n",
       "      <td>-0.22619879999999998</td>\n",
       "      <td>49.18609615</td>\n",
       "      <td>POINT (-0.2262 49.1861)</td>\n",
       "      <td>None</td>\n",
       "      <td>NaN</td>\n",
       "      <td>NaN</td>\n",
       "      <td>NaN</td>\n",
       "      <td>NaN</td>\n",
       "    </tr>\n",
       "  </tbody>\n",
       "</table>\n",
       "</div>"
      ],
      "text/plain": [
       "     codgeo codpost          nom             longitude     latitude  \\\n",
       "5506  14666   14940  SANNERVILLE  -0.22619879999999998  49.18609615   \n",
       "\n",
       "                     geometry polygon libgeo  p21_pop  p20_pop  population  \n",
       "5506  POINT (-0.2262 49.1861)    None    NaN      NaN      NaN         NaN  "
      ]
     },
     "execution_count": 125,
     "metadata": {},
     "output_type": "execute_result"
    }
   ],
   "source": [
    "loc_without_pop"
   ]
  },
  {
   "cell_type": "markdown",
   "metadata": {},
   "source": [
    "So we have 928 values with missing pop data (2020 or 2021)"
   ]
  },
  {
   "cell_type": "markdown",
   "metadata": {},
   "source": [
    "Let's get a map of France colored with 2021 estimated population"
   ]
  },
  {
   "cell_type": "code",
   "execution_count": 126,
   "metadata": {},
   "outputs": [],
   "source": [
    "#gdf_pop.explore(column = 'p21_pop', cmap='viridis_r')"
   ]
  },
  {
   "cell_type": "markdown",
   "metadata": {},
   "source": [
    "## Let's fetch schools datapoints"
   ]
  },
  {
   "cell_type": "code",
   "execution_count": 127,
   "metadata": {},
   "outputs": [],
   "source": [
    "ecoles = pd.read_parquet('../csv/fr-en-ecoles-effectifs-nb_classes.parquet')"
   ]
  },
  {
   "cell_type": "code",
   "execution_count": 128,
   "metadata": {},
   "outputs": [
    {
     "data": {
      "application/vnd.microsoft.datawrangler.viewer.v0+json": {
       "columns": [
        {
         "name": "index",
         "rawType": "int64",
         "type": "integer"
        },
        {
         "name": "rentree_scolaire",
         "rawType": "object",
         "type": "string"
        },
        {
         "name": "region_academique",
         "rawType": "object",
         "type": "string"
        },
        {
         "name": "academie",
         "rawType": "object",
         "type": "string"
        },
        {
         "name": "departement",
         "rawType": "object",
         "type": "string"
        },
        {
         "name": "commune",
         "rawType": "object",
         "type": "string"
        },
        {
         "name": "numero_ecole",
         "rawType": "object",
         "type": "string"
        },
        {
         "name": "denomination_principale",
         "rawType": "object",
         "type": "string"
        },
        {
         "name": "patronyme",
         "rawType": "object",
         "type": "unknown"
        },
        {
         "name": "secteur",
         "rawType": "object",
         "type": "string"
        },
        {
         "name": "rep",
         "rawType": "int64",
         "type": "integer"
        },
        {
         "name": "rep_plus",
         "rawType": "int64",
         "type": "integer"
        },
        {
         "name": "nombre_total_classes",
         "rawType": "int64",
         "type": "integer"
        },
        {
         "name": "nombre_total_eleves",
         "rawType": "int64",
         "type": "integer"
        },
        {
         "name": "nombre_eleves_preelementaire_hors_ulis",
         "rawType": "int64",
         "type": "integer"
        },
        {
         "name": "nombre_eleves_elementaire_hors_ulis",
         "rawType": "int64",
         "type": "integer"
        },
        {
         "name": "nombre_eleves_ulis",
         "rawType": "int64",
         "type": "integer"
        },
        {
         "name": "nombre_eleves_cp_hors_ulis",
         "rawType": "int64",
         "type": "integer"
        },
        {
         "name": "nombre_eleves_ce1_hors_ulis",
         "rawType": "int64",
         "type": "integer"
        },
        {
         "name": "nombre_eleves_ce2_hors_ulis",
         "rawType": "int64",
         "type": "integer"
        },
        {
         "name": "nombre_eleves_cm1_hors_ulis",
         "rawType": "int64",
         "type": "integer"
        },
        {
         "name": "nombre_eleves_cm2_hors_ulis",
         "rawType": "int64",
         "type": "integer"
        },
        {
         "name": "tri",
         "rawType": "object",
         "type": "string"
        },
        {
         "name": "code_postal",
         "rawType": "object",
         "type": "string"
        }
       ],
       "conversionMethod": "pd.DataFrame",
       "ref": "e2a4d988-50ae-4b9b-9951-4d802eb8782e",
       "rows": [
        [
         "0",
         "2022",
         "AUVERGNE-ET-RHONE-ALPES",
         "CLERMONT-FERRAND",
         "ALLIER",
         "ABREST",
         "0030701W",
         "ECOLE PRIMAIRE PUBLIQUE",
         null,
         "PUBLIC",
         "0",
         "0",
         "8",
         "164",
         "56",
         "108",
         "0",
         "16",
         "22",
         "18",
         "31",
         "21",
         "78-AUVERGNE-ET-RHONE-ALPES-CLERMONT-FERRAND-ALLIER-ABREST-0030701W",
         "03200"
        ],
        [
         "1",
         "2022",
         "AUVERGNE-ET-RHONE-ALPES",
         "CLERMONT-FERRAND",
         "ALLIER",
         "AINAY-LE-CHATEAU",
         "0030705A",
         "ECOLE PRIMAIRE",
         null,
         "PUBLIC",
         "0",
         "0",
         "5",
         "99",
         "30",
         "69",
         "0",
         "13",
         "10",
         "14",
         "18",
         "14",
         "78-AUVERGNE-ET-RHONE-ALPES-CLERMONT-FERRAND-ALLIER-AINAY-LE-CHATEAU-0030705A",
         "03360"
        ],
        [
         "2",
         "2022",
         "AUVERGNE-ET-RHONE-ALPES",
         "CLERMONT-FERRAND",
         "ALLIER",
         "ARCHIGNAT",
         "0030709E",
         "ECOLE DE NIVEAU ELEMENTAIRE",
         "DU PARC",
         "PUBLIC",
         "0",
         "0",
         "2",
         "45",
         "34",
         "11",
         "0",
         "0",
         "11",
         "0",
         "0",
         "0",
         "78-AUVERGNE-ET-RHONE-ALPES-CLERMONT-FERRAND-ALLIER-ARCHIGNAT-0030709E",
         "03380"
        ],
        [
         "3",
         "2022",
         "AUVERGNE-ET-RHONE-ALPES",
         "CLERMONT-FERRAND",
         "ALLIER",
         "ARFEUILLES",
         "0030711G",
         "ECOLE PRIMAIRE PUBLIQUE",
         null,
         "PUBLIC",
         "0",
         "0",
         "3",
         "53",
         "27",
         "26",
         "0",
         "7",
         "5",
         "6",
         "3",
         "5",
         "78-AUVERGNE-ET-RHONE-ALPES-CLERMONT-FERRAND-ALLIER-ARFEUILLES-0030711G",
         "03120"
        ],
        [
         "4",
         "2022",
         "AUVERGNE-ET-RHONE-ALPES",
         "CLERMONT-FERRAND",
         "ALLIER",
         "ARPHEUILLES-SAINT-PRIEST",
         "0030715L",
         "ECOLE ELEMENTAIRE PUBLIQUE",
         null,
         "PUBLIC",
         "0",
         "0",
         "1",
         "25",
         "0",
         "25",
         "0",
         "0",
         "0",
         "0",
         "9",
         "16",
         "78-AUVERGNE-ET-RHONE-ALPES-CLERMONT-FERRAND-ALLIER-ARPHEUILLES-SAINT-PRIEST-0030715L",
         "03420"
        ]
       ],
       "shape": {
        "columns": 23,
        "rows": 5
       }
      },
      "text/html": [
       "<div>\n",
       "<style scoped>\n",
       "    .dataframe tbody tr th:only-of-type {\n",
       "        vertical-align: middle;\n",
       "    }\n",
       "\n",
       "    .dataframe tbody tr th {\n",
       "        vertical-align: top;\n",
       "    }\n",
       "\n",
       "    .dataframe thead th {\n",
       "        text-align: right;\n",
       "    }\n",
       "</style>\n",
       "<table border=\"1\" class=\"dataframe\">\n",
       "  <thead>\n",
       "    <tr style=\"text-align: right;\">\n",
       "      <th></th>\n",
       "      <th>rentree_scolaire</th>\n",
       "      <th>region_academique</th>\n",
       "      <th>academie</th>\n",
       "      <th>departement</th>\n",
       "      <th>commune</th>\n",
       "      <th>numero_ecole</th>\n",
       "      <th>denomination_principale</th>\n",
       "      <th>patronyme</th>\n",
       "      <th>secteur</th>\n",
       "      <th>rep</th>\n",
       "      <th>...</th>\n",
       "      <th>nombre_eleves_preelementaire_hors_ulis</th>\n",
       "      <th>nombre_eleves_elementaire_hors_ulis</th>\n",
       "      <th>nombre_eleves_ulis</th>\n",
       "      <th>nombre_eleves_cp_hors_ulis</th>\n",
       "      <th>nombre_eleves_ce1_hors_ulis</th>\n",
       "      <th>nombre_eleves_ce2_hors_ulis</th>\n",
       "      <th>nombre_eleves_cm1_hors_ulis</th>\n",
       "      <th>nombre_eleves_cm2_hors_ulis</th>\n",
       "      <th>tri</th>\n",
       "      <th>code_postal</th>\n",
       "    </tr>\n",
       "  </thead>\n",
       "  <tbody>\n",
       "    <tr>\n",
       "      <th>0</th>\n",
       "      <td>2022</td>\n",
       "      <td>AUVERGNE-ET-RHONE-ALPES</td>\n",
       "      <td>CLERMONT-FERRAND</td>\n",
       "      <td>ALLIER</td>\n",
       "      <td>ABREST</td>\n",
       "      <td>0030701W</td>\n",
       "      <td>ECOLE PRIMAIRE PUBLIQUE</td>\n",
       "      <td>None</td>\n",
       "      <td>PUBLIC</td>\n",
       "      <td>0</td>\n",
       "      <td>...</td>\n",
       "      <td>56</td>\n",
       "      <td>108</td>\n",
       "      <td>0</td>\n",
       "      <td>16</td>\n",
       "      <td>22</td>\n",
       "      <td>18</td>\n",
       "      <td>31</td>\n",
       "      <td>21</td>\n",
       "      <td>78-AUVERGNE-ET-RHONE-ALPES-CLERMONT-FERRAND-AL...</td>\n",
       "      <td>03200</td>\n",
       "    </tr>\n",
       "    <tr>\n",
       "      <th>1</th>\n",
       "      <td>2022</td>\n",
       "      <td>AUVERGNE-ET-RHONE-ALPES</td>\n",
       "      <td>CLERMONT-FERRAND</td>\n",
       "      <td>ALLIER</td>\n",
       "      <td>AINAY-LE-CHATEAU</td>\n",
       "      <td>0030705A</td>\n",
       "      <td>ECOLE PRIMAIRE</td>\n",
       "      <td>None</td>\n",
       "      <td>PUBLIC</td>\n",
       "      <td>0</td>\n",
       "      <td>...</td>\n",
       "      <td>30</td>\n",
       "      <td>69</td>\n",
       "      <td>0</td>\n",
       "      <td>13</td>\n",
       "      <td>10</td>\n",
       "      <td>14</td>\n",
       "      <td>18</td>\n",
       "      <td>14</td>\n",
       "      <td>78-AUVERGNE-ET-RHONE-ALPES-CLERMONT-FERRAND-AL...</td>\n",
       "      <td>03360</td>\n",
       "    </tr>\n",
       "    <tr>\n",
       "      <th>2</th>\n",
       "      <td>2022</td>\n",
       "      <td>AUVERGNE-ET-RHONE-ALPES</td>\n",
       "      <td>CLERMONT-FERRAND</td>\n",
       "      <td>ALLIER</td>\n",
       "      <td>ARCHIGNAT</td>\n",
       "      <td>0030709E</td>\n",
       "      <td>ECOLE DE NIVEAU ELEMENTAIRE</td>\n",
       "      <td>DU PARC</td>\n",
       "      <td>PUBLIC</td>\n",
       "      <td>0</td>\n",
       "      <td>...</td>\n",
       "      <td>34</td>\n",
       "      <td>11</td>\n",
       "      <td>0</td>\n",
       "      <td>0</td>\n",
       "      <td>11</td>\n",
       "      <td>0</td>\n",
       "      <td>0</td>\n",
       "      <td>0</td>\n",
       "      <td>78-AUVERGNE-ET-RHONE-ALPES-CLERMONT-FERRAND-AL...</td>\n",
       "      <td>03380</td>\n",
       "    </tr>\n",
       "    <tr>\n",
       "      <th>3</th>\n",
       "      <td>2022</td>\n",
       "      <td>AUVERGNE-ET-RHONE-ALPES</td>\n",
       "      <td>CLERMONT-FERRAND</td>\n",
       "      <td>ALLIER</td>\n",
       "      <td>ARFEUILLES</td>\n",
       "      <td>0030711G</td>\n",
       "      <td>ECOLE PRIMAIRE PUBLIQUE</td>\n",
       "      <td>None</td>\n",
       "      <td>PUBLIC</td>\n",
       "      <td>0</td>\n",
       "      <td>...</td>\n",
       "      <td>27</td>\n",
       "      <td>26</td>\n",
       "      <td>0</td>\n",
       "      <td>7</td>\n",
       "      <td>5</td>\n",
       "      <td>6</td>\n",
       "      <td>3</td>\n",
       "      <td>5</td>\n",
       "      <td>78-AUVERGNE-ET-RHONE-ALPES-CLERMONT-FERRAND-AL...</td>\n",
       "      <td>03120</td>\n",
       "    </tr>\n",
       "    <tr>\n",
       "      <th>4</th>\n",
       "      <td>2022</td>\n",
       "      <td>AUVERGNE-ET-RHONE-ALPES</td>\n",
       "      <td>CLERMONT-FERRAND</td>\n",
       "      <td>ALLIER</td>\n",
       "      <td>ARPHEUILLES-SAINT-PRIEST</td>\n",
       "      <td>0030715L</td>\n",
       "      <td>ECOLE ELEMENTAIRE PUBLIQUE</td>\n",
       "      <td>None</td>\n",
       "      <td>PUBLIC</td>\n",
       "      <td>0</td>\n",
       "      <td>...</td>\n",
       "      <td>0</td>\n",
       "      <td>25</td>\n",
       "      <td>0</td>\n",
       "      <td>0</td>\n",
       "      <td>0</td>\n",
       "      <td>0</td>\n",
       "      <td>9</td>\n",
       "      <td>16</td>\n",
       "      <td>78-AUVERGNE-ET-RHONE-ALPES-CLERMONT-FERRAND-AL...</td>\n",
       "      <td>03420</td>\n",
       "    </tr>\n",
       "  </tbody>\n",
       "</table>\n",
       "<p>5 rows × 23 columns</p>\n",
       "</div>"
      ],
      "text/plain": [
       "  rentree_scolaire        region_academique          academie departement  \\\n",
       "0             2022  AUVERGNE-ET-RHONE-ALPES  CLERMONT-FERRAND      ALLIER   \n",
       "1             2022  AUVERGNE-ET-RHONE-ALPES  CLERMONT-FERRAND      ALLIER   \n",
       "2             2022  AUVERGNE-ET-RHONE-ALPES  CLERMONT-FERRAND      ALLIER   \n",
       "3             2022  AUVERGNE-ET-RHONE-ALPES  CLERMONT-FERRAND      ALLIER   \n",
       "4             2022  AUVERGNE-ET-RHONE-ALPES  CLERMONT-FERRAND      ALLIER   \n",
       "\n",
       "                    commune numero_ecole      denomination_principale  \\\n",
       "0                    ABREST     0030701W      ECOLE PRIMAIRE PUBLIQUE   \n",
       "1          AINAY-LE-CHATEAU     0030705A               ECOLE PRIMAIRE   \n",
       "2                 ARCHIGNAT     0030709E  ECOLE DE NIVEAU ELEMENTAIRE   \n",
       "3                ARFEUILLES     0030711G      ECOLE PRIMAIRE PUBLIQUE   \n",
       "4  ARPHEUILLES-SAINT-PRIEST     0030715L   ECOLE ELEMENTAIRE PUBLIQUE   \n",
       "\n",
       "  patronyme secteur  rep  ...  nombre_eleves_preelementaire_hors_ulis  \\\n",
       "0      None  PUBLIC    0  ...                                      56   \n",
       "1      None  PUBLIC    0  ...                                      30   \n",
       "2   DU PARC  PUBLIC    0  ...                                      34   \n",
       "3      None  PUBLIC    0  ...                                      27   \n",
       "4      None  PUBLIC    0  ...                                       0   \n",
       "\n",
       "   nombre_eleves_elementaire_hors_ulis  nombre_eleves_ulis  \\\n",
       "0                                  108                   0   \n",
       "1                                   69                   0   \n",
       "2                                   11                   0   \n",
       "3                                   26                   0   \n",
       "4                                   25                   0   \n",
       "\n",
       "   nombre_eleves_cp_hors_ulis  nombre_eleves_ce1_hors_ulis  \\\n",
       "0                          16                           22   \n",
       "1                          13                           10   \n",
       "2                           0                           11   \n",
       "3                           7                            5   \n",
       "4                           0                            0   \n",
       "\n",
       "   nombre_eleves_ce2_hors_ulis  nombre_eleves_cm1_hors_ulis  \\\n",
       "0                           18                           31   \n",
       "1                           14                           18   \n",
       "2                            0                            0   \n",
       "3                            6                            3   \n",
       "4                            0                            9   \n",
       "\n",
       "   nombre_eleves_cm2_hors_ulis  \\\n",
       "0                           21   \n",
       "1                           14   \n",
       "2                            0   \n",
       "3                            5   \n",
       "4                           16   \n",
       "\n",
       "                                                 tri  code_postal  \n",
       "0  78-AUVERGNE-ET-RHONE-ALPES-CLERMONT-FERRAND-AL...        03200  \n",
       "1  78-AUVERGNE-ET-RHONE-ALPES-CLERMONT-FERRAND-AL...        03360  \n",
       "2  78-AUVERGNE-ET-RHONE-ALPES-CLERMONT-FERRAND-AL...        03380  \n",
       "3  78-AUVERGNE-ET-RHONE-ALPES-CLERMONT-FERRAND-AL...        03120  \n",
       "4  78-AUVERGNE-ET-RHONE-ALPES-CLERMONT-FERRAND-AL...        03420  \n",
       "\n",
       "[5 rows x 23 columns]"
      ]
     },
     "execution_count": 128,
     "metadata": {},
     "output_type": "execute_result"
    }
   ],
   "source": [
    "ecoles.head()"
   ]
  },
  {
   "cell_type": "markdown",
   "metadata": {},
   "source": [
    "## Let's gather details about adjacent communes"
   ]
  },
  {
   "cell_type": "code",
   "execution_count": 129,
   "metadata": {},
   "outputs": [],
   "source": [
    "communes_adj = pd.read_csv('../csv/communes_adjacentes_2022.csv')"
   ]
  },
  {
   "cell_type": "code",
   "execution_count": 130,
   "metadata": {},
   "outputs": [
    {
     "data": {
      "application/vnd.microsoft.datawrangler.viewer.v0+json": {
       "columns": [
        {
         "name": "index",
         "rawType": "int64",
         "type": "integer"
        },
        {
         "name": "insee",
         "rawType": "object",
         "type": "string"
        },
        {
         "name": "nom",
         "rawType": "object",
         "type": "string"
        },
        {
         "name": "nb_voisins",
         "rawType": "int64",
         "type": "integer"
        },
        {
         "name": "insee_voisins",
         "rawType": "object",
         "type": "string"
        },
        {
         "name": "noms_voisins",
         "rawType": "object",
         "type": "string"
        },
        {
         "name": "cap_voisins",
         "rawType": "object",
         "type": "string"
        },
        {
         "name": "type",
         "rawType": "object",
         "type": "unknown"
        }
       ],
       "conversionMethod": "pd.DataFrame",
       "ref": "bf145581-4696-4701-807f-c141ea320dd5",
       "rows": [
        [
         "0",
         "01001",
         "L'Abergement-Clémenciat",
         "6",
         "01412|01093|01028|01146|01351|01188",
         "Sulignat|Châtillon-sur-Chalaronne|Baneins|Dompierre-sur-Chalaronne|Saint-Étienne-sur-Chalaronne|Illiat",
         "48|144|203|234|260|322",
         null
        ],
        [
         "1",
         "01002",
         "L'Abergement-de-Varey",
         "6",
         "01056|01277|01384|01007|01363|01199",
         "Boyeux-Saint-Jérôme|Nivollet-Montgriffon|Saint-Rambert-en-Bugey|Ambronay|Saint-Jean-le-Vieux|Jujurieux",
         "43|115|172|265|302|344",
         null
        ],
        [
         "2",
         "01004",
         "Ambérieu-en-Bugey",
         "7",
         "01384|01421|01041|01345|01089|01007|01149",
         "Saint-Rambert-en-Bugey|Torcieu|Bettant|Saint-Denis-en-Bugey|Château-Gaillard|Ambronay|Douvres",
         "102|151|190|250|284|347|360",
         null
        ],
        [
         "3",
         "01005",
         "Ambérieux-en-Dombes",
         "7",
         "01382|01207|01261|01362|01318|01398|01446",
         "Sainte-Olive|Lapeyrouse|Monthieux|Saint-Jean-de-Thurigneux|Rancé|Savigneux|Villeneuve",
         "43|102|145|193|230|272|310",
         null
        ],
        [
         "4",
         "01006",
         "Ambléon",
         "6",
         "01358|01110|01117|01216|01233|01190",
         "Saint-Germain-les-Paroisses|Colomieu|Conzieu|Lhuis|Marchamp|Innimond",
         "37|120|164|263|308|341",
         null
        ]
       ],
       "shape": {
        "columns": 7,
        "rows": 5
       }
      },
      "text/html": [
       "<div>\n",
       "<style scoped>\n",
       "    .dataframe tbody tr th:only-of-type {\n",
       "        vertical-align: middle;\n",
       "    }\n",
       "\n",
       "    .dataframe tbody tr th {\n",
       "        vertical-align: top;\n",
       "    }\n",
       "\n",
       "    .dataframe thead th {\n",
       "        text-align: right;\n",
       "    }\n",
       "</style>\n",
       "<table border=\"1\" class=\"dataframe\">\n",
       "  <thead>\n",
       "    <tr style=\"text-align: right;\">\n",
       "      <th></th>\n",
       "      <th>insee</th>\n",
       "      <th>nom</th>\n",
       "      <th>nb_voisins</th>\n",
       "      <th>insee_voisins</th>\n",
       "      <th>noms_voisins</th>\n",
       "      <th>cap_voisins</th>\n",
       "      <th>type</th>\n",
       "    </tr>\n",
       "  </thead>\n",
       "  <tbody>\n",
       "    <tr>\n",
       "      <th>0</th>\n",
       "      <td>01001</td>\n",
       "      <td>L'Abergement-Clémenciat</td>\n",
       "      <td>6</td>\n",
       "      <td>01412|01093|01028|01146|01351|01188</td>\n",
       "      <td>Sulignat|Châtillon-sur-Chalaronne|Baneins|Domp...</td>\n",
       "      <td>48|144|203|234|260|322</td>\n",
       "      <td>NaN</td>\n",
       "    </tr>\n",
       "    <tr>\n",
       "      <th>1</th>\n",
       "      <td>01002</td>\n",
       "      <td>L'Abergement-de-Varey</td>\n",
       "      <td>6</td>\n",
       "      <td>01056|01277|01384|01007|01363|01199</td>\n",
       "      <td>Boyeux-Saint-Jérôme|Nivollet-Montgriffon|Saint...</td>\n",
       "      <td>43|115|172|265|302|344</td>\n",
       "      <td>NaN</td>\n",
       "    </tr>\n",
       "    <tr>\n",
       "      <th>2</th>\n",
       "      <td>01004</td>\n",
       "      <td>Ambérieu-en-Bugey</td>\n",
       "      <td>7</td>\n",
       "      <td>01384|01421|01041|01345|01089|01007|01149</td>\n",
       "      <td>Saint-Rambert-en-Bugey|Torcieu|Bettant|Saint-D...</td>\n",
       "      <td>102|151|190|250|284|347|360</td>\n",
       "      <td>NaN</td>\n",
       "    </tr>\n",
       "    <tr>\n",
       "      <th>3</th>\n",
       "      <td>01005</td>\n",
       "      <td>Ambérieux-en-Dombes</td>\n",
       "      <td>7</td>\n",
       "      <td>01382|01207|01261|01362|01318|01398|01446</td>\n",
       "      <td>Sainte-Olive|Lapeyrouse|Monthieux|Saint-Jean-d...</td>\n",
       "      <td>43|102|145|193|230|272|310</td>\n",
       "      <td>NaN</td>\n",
       "    </tr>\n",
       "    <tr>\n",
       "      <th>4</th>\n",
       "      <td>01006</td>\n",
       "      <td>Ambléon</td>\n",
       "      <td>6</td>\n",
       "      <td>01358|01110|01117|01216|01233|01190</td>\n",
       "      <td>Saint-Germain-les-Paroisses|Colomieu|Conzieu|L...</td>\n",
       "      <td>37|120|164|263|308|341</td>\n",
       "      <td>NaN</td>\n",
       "    </tr>\n",
       "  </tbody>\n",
       "</table>\n",
       "</div>"
      ],
      "text/plain": [
       "   insee                      nom  nb_voisins  \\\n",
       "0  01001  L'Abergement-Clémenciat           6   \n",
       "1  01002    L'Abergement-de-Varey           6   \n",
       "2  01004        Ambérieu-en-Bugey           7   \n",
       "3  01005      Ambérieux-en-Dombes           7   \n",
       "4  01006                  Ambléon           6   \n",
       "\n",
       "                               insee_voisins  \\\n",
       "0        01412|01093|01028|01146|01351|01188   \n",
       "1        01056|01277|01384|01007|01363|01199   \n",
       "2  01384|01421|01041|01345|01089|01007|01149   \n",
       "3  01382|01207|01261|01362|01318|01398|01446   \n",
       "4        01358|01110|01117|01216|01233|01190   \n",
       "\n",
       "                                        noms_voisins  \\\n",
       "0  Sulignat|Châtillon-sur-Chalaronne|Baneins|Domp...   \n",
       "1  Boyeux-Saint-Jérôme|Nivollet-Montgriffon|Saint...   \n",
       "2  Saint-Rambert-en-Bugey|Torcieu|Bettant|Saint-D...   \n",
       "3  Sainte-Olive|Lapeyrouse|Monthieux|Saint-Jean-d...   \n",
       "4  Saint-Germain-les-Paroisses|Colomieu|Conzieu|L...   \n",
       "\n",
       "                   cap_voisins type  \n",
       "0       48|144|203|234|260|322  NaN  \n",
       "1       43|115|172|265|302|344  NaN  \n",
       "2  102|151|190|250|284|347|360  NaN  \n",
       "3   43|102|145|193|230|272|310  NaN  \n",
       "4       37|120|164|263|308|341  NaN  "
      ]
     },
     "execution_count": 130,
     "metadata": {},
     "output_type": "execute_result"
    }
   ],
   "source": [
    "communes_adj.head()"
   ]
  },
  {
   "cell_type": "code",
   "execution_count": 131,
   "metadata": {},
   "outputs": [],
   "source": [
    "communes_adj['liste_voisins'] = communes_adj.insee_voisins.str.split('|')\n",
    "communes_adj = communes_adj[['insee','nb_voisins','liste_voisins']].rename({'insee':'codgeo'}, axis=1)"
   ]
  },
  {
   "cell_type": "code",
   "execution_count": 132,
   "metadata": {},
   "outputs": [
    {
     "data": {
      "application/vnd.microsoft.datawrangler.viewer.v0+json": {
       "columns": [
        {
         "name": "index",
         "rawType": "int64",
         "type": "integer"
        },
        {
         "name": "codgeo",
         "rawType": "object",
         "type": "string"
        },
        {
         "name": "nb_voisins",
         "rawType": "int64",
         "type": "integer"
        },
        {
         "name": "liste_voisins",
         "rawType": "object",
         "type": "unknown"
        }
       ],
       "conversionMethod": "pd.DataFrame",
       "ref": "a2810014-d0b7-4c50-b2fc-366811bd8922",
       "rows": [
        [
         "0",
         "01001",
         "6",
         "['01412', '01093', '01028', '01146', '01351', '01188']"
        ],
        [
         "1",
         "01002",
         "6",
         "['01056', '01277', '01384', '01007', '01363', '01199']"
        ],
        [
         "2",
         "01004",
         "7",
         "['01384', '01421', '01041', '01345', '01089', '01007', '01149']"
        ],
        [
         "3",
         "01005",
         "7",
         "['01382', '01207', '01261', '01362', '01318', '01398', '01446']"
        ],
        [
         "4",
         "01006",
         "6",
         "['01358', '01110', '01117', '01216', '01233', '01190']"
        ]
       ],
       "shape": {
        "columns": 3,
        "rows": 5
       }
      },
      "text/html": [
       "<div>\n",
       "<style scoped>\n",
       "    .dataframe tbody tr th:only-of-type {\n",
       "        vertical-align: middle;\n",
       "    }\n",
       "\n",
       "    .dataframe tbody tr th {\n",
       "        vertical-align: top;\n",
       "    }\n",
       "\n",
       "    .dataframe thead th {\n",
       "        text-align: right;\n",
       "    }\n",
       "</style>\n",
       "<table border=\"1\" class=\"dataframe\">\n",
       "  <thead>\n",
       "    <tr style=\"text-align: right;\">\n",
       "      <th></th>\n",
       "      <th>codgeo</th>\n",
       "      <th>nb_voisins</th>\n",
       "      <th>liste_voisins</th>\n",
       "    </tr>\n",
       "  </thead>\n",
       "  <tbody>\n",
       "    <tr>\n",
       "      <th>0</th>\n",
       "      <td>01001</td>\n",
       "      <td>6</td>\n",
       "      <td>[01412, 01093, 01028, 01146, 01351, 01188]</td>\n",
       "    </tr>\n",
       "    <tr>\n",
       "      <th>1</th>\n",
       "      <td>01002</td>\n",
       "      <td>6</td>\n",
       "      <td>[01056, 01277, 01384, 01007, 01363, 01199]</td>\n",
       "    </tr>\n",
       "    <tr>\n",
       "      <th>2</th>\n",
       "      <td>01004</td>\n",
       "      <td>7</td>\n",
       "      <td>[01384, 01421, 01041, 01345, 01089, 01007, 01149]</td>\n",
       "    </tr>\n",
       "    <tr>\n",
       "      <th>3</th>\n",
       "      <td>01005</td>\n",
       "      <td>7</td>\n",
       "      <td>[01382, 01207, 01261, 01362, 01318, 01398, 01446]</td>\n",
       "    </tr>\n",
       "    <tr>\n",
       "      <th>4</th>\n",
       "      <td>01006</td>\n",
       "      <td>6</td>\n",
       "      <td>[01358, 01110, 01117, 01216, 01233, 01190]</td>\n",
       "    </tr>\n",
       "  </tbody>\n",
       "</table>\n",
       "</div>"
      ],
      "text/plain": [
       "  codgeo  nb_voisins                                      liste_voisins\n",
       "0  01001           6         [01412, 01093, 01028, 01146, 01351, 01188]\n",
       "1  01002           6         [01056, 01277, 01384, 01007, 01363, 01199]\n",
       "2  01004           7  [01384, 01421, 01041, 01345, 01089, 01007, 01149]\n",
       "3  01005           7  [01382, 01207, 01261, 01362, 01318, 01398, 01446]\n",
       "4  01006           6         [01358, 01110, 01117, 01216, 01233, 01190]"
      ]
     },
     "execution_count": 132,
     "metadata": {},
     "output_type": "execute_result"
    }
   ],
   "source": [
    "communes_adj.head()"
   ]
  },
  {
   "cell_type": "code",
   "execution_count": 133,
   "metadata": {},
   "outputs": [
    {
     "ename": "AttributeError",
     "evalue": "'NoneType' object has no attribute 'copy'",
     "output_type": "error",
     "traceback": [
      "\u001b[0;31m---------------------------------------------------------------------------\u001b[0m",
      "\u001b[0;31mAttributeError\u001b[0m                            Traceback (most recent call last)",
      "File \u001b[0;32m~/.cache/pypoetry/virtualenvs/odis-Nf-mTAVv-py3.10/lib/python3.10/site-packages/IPython/core/formatters.py:402\u001b[0m, in \u001b[0;36mBaseFormatter.__call__\u001b[0;34m(self, obj)\u001b[0m\n\u001b[1;32m    400\u001b[0m     \u001b[38;5;28;01mpass\u001b[39;00m\n\u001b[1;32m    401\u001b[0m \u001b[38;5;28;01melse\u001b[39;00m:\n\u001b[0;32m--> 402\u001b[0m     \u001b[38;5;28;01mreturn\u001b[39;00m \u001b[43mprinter\u001b[49m\u001b[43m(\u001b[49m\u001b[43mobj\u001b[49m\u001b[43m)\u001b[49m\n\u001b[1;32m    403\u001b[0m \u001b[38;5;66;03m# Finally look for special method names\u001b[39;00m\n\u001b[1;32m    404\u001b[0m method \u001b[38;5;241m=\u001b[39m get_real_method(obj, \u001b[38;5;28mself\u001b[39m\u001b[38;5;241m.\u001b[39mprint_method)\n",
      "Cell \u001b[0;32mIn[1], line 227\u001b[0m, in \u001b[0;36m__DW_OUTPUT_FORMATTER__.<locals>.DataWrangler.formatter\u001b[0;34m(cls, var, **kwargs)\u001b[0m\n\u001b[1;32m    225\u001b[0m \u001b[38;5;129m@classmethod\u001b[39m\n\u001b[1;32m    226\u001b[0m \u001b[38;5;28;01mdef\u001b[39;00m\u001b[38;5;250m \u001b[39m\u001b[38;5;21mformatter\u001b[39m(\u001b[38;5;28mcls\u001b[39m, var, \u001b[38;5;241m*\u001b[39m\u001b[38;5;241m*\u001b[39mkwargs):\n\u001b[0;32m--> 227\u001b[0m     s \u001b[38;5;241m=\u001b[39m \u001b[38;5;28;43mcls\u001b[39;49m\u001b[43m(\u001b[49m\u001b[43mvar\u001b[49m\u001b[43m,\u001b[49m\u001b[43m \u001b[49m\u001b[38;5;241;43m*\u001b[39;49m\u001b[38;5;241;43m*\u001b[39;49m\u001b[43mkwargs\u001b[49m\u001b[43m)\u001b[49m\n\u001b[1;32m    228\u001b[0m     \u001b[38;5;28;01mreturn\u001b[39;00m s\u001b[38;5;241m.\u001b[39m_repr_dw_()\n",
      "Cell \u001b[0;32mIn[1], line 221\u001b[0m, in \u001b[0;36m__DW_OUTPUT_FORMATTER__.<locals>.DataWrangler.__init__\u001b[0;34m(self, expr_val)\u001b[0m\n\u001b[1;32m    218\u001b[0m \u001b[38;5;28mself\u001b[39m\u001b[38;5;241m.\u001b[39mid \u001b[38;5;241m=\u001b[39m \u001b[38;5;28mstr\u001b[39m(uuid\u001b[38;5;241m.\u001b[39muuid4())\n\u001b[1;32m    219\u001b[0m pandas_df, conversion_method \u001b[38;5;241m=\u001b[39m api[\u001b[38;5;124m\"\u001b[39m\u001b[38;5;124mpandas_transport\u001b[39m\u001b[38;5;124m\"\u001b[39m][\u001b[38;5;124m\"\u001b[39m\u001b[38;5;124mconvert_to_pandas\u001b[39m\u001b[38;5;124m\"\u001b[39m](expr_val)\n\u001b[1;32m    220\u001b[0m tmp_vars[\u001b[38;5;28mself\u001b[39m\u001b[38;5;241m.\u001b[39mid] \u001b[38;5;241m=\u001b[39m {\n\u001b[0;32m--> 221\u001b[0m     \u001b[38;5;124m\"\u001b[39m\u001b[38;5;124mconverted\u001b[39m\u001b[38;5;124m\"\u001b[39m: \u001b[43mpandas_df\u001b[49m\u001b[38;5;241;43m.\u001b[39;49m\u001b[43mcopy\u001b[49m(deep\u001b[38;5;241m=\u001b[39m\u001b[38;5;28;01mFalse\u001b[39;00m), \u001b[38;5;66;03m# create a shallow copy in case a displayed object is mutated in the same cell\u001b[39;00m\n\u001b[1;32m    222\u001b[0m     \u001b[38;5;124m\"\u001b[39m\u001b[38;5;124mconversion_method\u001b[39m\u001b[38;5;124m\"\u001b[39m: conversion_method\n\u001b[1;32m    223\u001b[0m }\n",
      "\u001b[0;31mAttributeError\u001b[0m: 'NoneType' object has no attribute 'copy'"
     ]
    },
    {
     "data": {
      "text/html": [
       "<div>\n",
       "<style scoped>\n",
       "    .dataframe tbody tr th:only-of-type {\n",
       "        vertical-align: middle;\n",
       "    }\n",
       "\n",
       "    .dataframe tbody tr th {\n",
       "        vertical-align: top;\n",
       "    }\n",
       "\n",
       "    .dataframe thead th {\n",
       "        text-align: right;\n",
       "    }\n",
       "</style>\n",
       "<table border=\"1\" class=\"dataframe\">\n",
       "  <thead>\n",
       "    <tr style=\"text-align: right;\">\n",
       "      <th></th>\n",
       "      <th>codgeo</th>\n",
       "      <th>codpost</th>\n",
       "      <th>nom</th>\n",
       "      <th>longitude</th>\n",
       "      <th>latitude</th>\n",
       "      <th>geometry</th>\n",
       "      <th>polygon</th>\n",
       "      <th>libgeo</th>\n",
       "      <th>p21_pop</th>\n",
       "      <th>p20_pop</th>\n",
       "      <th>population</th>\n",
       "      <th>nb_voisins</th>\n",
       "      <th>liste_voisins</th>\n",
       "    </tr>\n",
       "  </thead>\n",
       "  <tbody>\n",
       "    <tr>\n",
       "      <th>0</th>\n",
       "      <td>01001</td>\n",
       "      <td>01400</td>\n",
       "      <td>L ABERGEMENT CLEMENCIAT</td>\n",
       "      <td>4.9306005</td>\n",
       "      <td>46.1517018</td>\n",
       "      <td>POINT (4.9306 46.1517)</td>\n",
       "      <td>POLYGON ((4.90457 46.16096, 4.91332 46.1829, 4...</td>\n",
       "      <td>L' Abergement-Clémenciat</td>\n",
       "      <td>832.0</td>\n",
       "      <td>806.0</td>\n",
       "      <td>832.0</td>\n",
       "      <td>6.0</td>\n",
       "      <td>[01412, 01093, 01028, 01146, 01351, 01188]</td>\n",
       "    </tr>\n",
       "    <tr>\n",
       "      <th>1</th>\n",
       "      <td>01002</td>\n",
       "      <td>01640</td>\n",
       "      <td>L ABERGEMENT DE VAREY</td>\n",
       "      <td>5.4246442</td>\n",
       "      <td>46.007131</td>\n",
       "      <td>POINT (5.42464 46.00713)</td>\n",
       "      <td>POLYGON ((5.42476 46.03131, 5.44129 46.0254, 5...</td>\n",
       "      <td>L' Abergement-de-Varey</td>\n",
       "      <td>267.0</td>\n",
       "      <td>262.0</td>\n",
       "      <td>267.0</td>\n",
       "      <td>6.0</td>\n",
       "      <td>[01056, 01277, 01384, 01007, 01363, 01199]</td>\n",
       "    </tr>\n",
       "    <tr>\n",
       "      <th>2</th>\n",
       "      <td>01004</td>\n",
       "      <td>01500</td>\n",
       "      <td>AMBERIEU EN BUGEY</td>\n",
       "      <td>5.37056825</td>\n",
       "      <td>45.9574707</td>\n",
       "      <td>POINT (5.37057 45.95747)</td>\n",
       "      <td>POLYGON ((5.38619 45.93093, 5.35724 45.94863, ...</td>\n",
       "      <td>Ambérieu-en-Bugey</td>\n",
       "      <td>14854.0</td>\n",
       "      <td>14288.0</td>\n",
       "      <td>14854.0</td>\n",
       "      <td>7.0</td>\n",
       "      <td>[01384, 01421, 01041, 01345, 01089, 01007, 01149]</td>\n",
       "    </tr>\n",
       "    <tr>\n",
       "      <th>3</th>\n",
       "      <td>01005</td>\n",
       "      <td>01330</td>\n",
       "      <td>AMBERIEUX EN DOMBES</td>\n",
       "      <td>4.9118718</td>\n",
       "      <td>45.99922935</td>\n",
       "      <td>POINT (4.91187 45.99923)</td>\n",
       "      <td>POLYGON ((4.94287 45.97914, 4.92773 45.98003, ...</td>\n",
       "      <td>Ambérieux-en-Dombes</td>\n",
       "      <td>1897.0</td>\n",
       "      <td>1782.0</td>\n",
       "      <td>1897.0</td>\n",
       "      <td>7.0</td>\n",
       "      <td>[01382, 01207, 01261, 01362, 01318, 01398, 01446]</td>\n",
       "    </tr>\n",
       "    <tr>\n",
       "      <th>4</th>\n",
       "      <td>01006</td>\n",
       "      <td>01300</td>\n",
       "      <td>AMBLEON</td>\n",
       "      <td>5.5927847</td>\n",
       "      <td>45.74831435</td>\n",
       "      <td>POINT (5.59278 45.74831)</td>\n",
       "      <td>POLYGON ((5.57082 45.75338, 5.58429 45.76259, ...</td>\n",
       "      <td>Ambléon</td>\n",
       "      <td>113.0</td>\n",
       "      <td>113.0</td>\n",
       "      <td>113.0</td>\n",
       "      <td>6.0</td>\n",
       "      <td>[01358, 01110, 01117, 01216, 01233, 01190]</td>\n",
       "    </tr>\n",
       "  </tbody>\n",
       "</table>\n",
       "</div>"
      ],
      "text/plain": [
       "  codgeo codpost                      nom   longitude     latitude  \\\n",
       "0  01001   01400  L ABERGEMENT CLEMENCIAT   4.9306005   46.1517018   \n",
       "1  01002   01640    L ABERGEMENT DE VAREY   5.4246442    46.007131   \n",
       "2  01004   01500        AMBERIEU EN BUGEY  5.37056825   45.9574707   \n",
       "3  01005   01330      AMBERIEUX EN DOMBES   4.9118718  45.99922935   \n",
       "4  01006   01300                  AMBLEON   5.5927847  45.74831435   \n",
       "\n",
       "                   geometry  \\\n",
       "0    POINT (4.9306 46.1517)   \n",
       "1  POINT (5.42464 46.00713)   \n",
       "2  POINT (5.37057 45.95747)   \n",
       "3  POINT (4.91187 45.99923)   \n",
       "4  POINT (5.59278 45.74831)   \n",
       "\n",
       "                                             polygon  \\\n",
       "0  POLYGON ((4.90457 46.16096, 4.91332 46.1829, 4...   \n",
       "1  POLYGON ((5.42476 46.03131, 5.44129 46.0254, 5...   \n",
       "2  POLYGON ((5.38619 45.93093, 5.35724 45.94863, ...   \n",
       "3  POLYGON ((4.94287 45.97914, 4.92773 45.98003, ...   \n",
       "4  POLYGON ((5.57082 45.75338, 5.58429 45.76259, ...   \n",
       "\n",
       "                     libgeo  p21_pop  p20_pop  population  nb_voisins  \\\n",
       "0  L' Abergement-Clémenciat    832.0    806.0       832.0         6.0   \n",
       "1    L' Abergement-de-Varey    267.0    262.0       267.0         6.0   \n",
       "2         Ambérieu-en-Bugey  14854.0  14288.0     14854.0         7.0   \n",
       "3       Ambérieux-en-Dombes   1897.0   1782.0      1897.0         7.0   \n",
       "4                   Ambléon    113.0    113.0       113.0         6.0   \n",
       "\n",
       "                                       liste_voisins  \n",
       "0         [01412, 01093, 01028, 01146, 01351, 01188]  \n",
       "1         [01056, 01277, 01384, 01007, 01363, 01199]  \n",
       "2  [01384, 01421, 01041, 01345, 01089, 01007, 01149]  \n",
       "3  [01382, 01207, 01261, 01362, 01318, 01398, 01446]  \n",
       "4         [01358, 01110, 01117, 01216, 01233, 01190]  "
      ]
     },
     "execution_count": 133,
     "metadata": {},
     "output_type": "execute_result"
    }
   ],
   "source": [
    "gdf_pop = gdf_pop.join(communes_adj.set_index('codgeo'), on='codgeo', how='left')\n",
    "gdf_pop.head()"
   ]
  },
  {
   "cell_type": "markdown",
   "metadata": {},
   "source": [
    "## Let's add INSEES Aires d'Attraction as well"
   ]
  },
  {
   "cell_type": "code",
   "execution_count": 134,
   "metadata": {},
   "outputs": [],
   "source": [
    "gdf_aa=gpd.GeoDataFrame(pd.read_csv('../csv/insee-aires-d-attractions-2017.csv'))\n",
    "gdf_aa['codgeo'] = np.where(gdf_aa.iloc[:,0].str.len() == 4, '0' + gdf_aa.iloc[:,0], gdf_aa.iloc[:,0])\n",
    "gdf_aa['codgeo_aa'] = gdf_aa[\"Code géographique de l'aire d'attraction des villes 2020\"]\n",
    "gdf_aa['name'] = gdf_aa[\"Libellé géographique de la commune\"]\n",
    "gdf_aa['aa_name'] = gdf_aa[\"Libellé géographique de l'aire d'attraction des villes 2020\"]\n",
    "gdf_aa['aa_cat'] = gdf_aa[\"Catégorie de la commune dans le zonage en aires d'attraction des villes 2020\"]\n",
    "gdf_aa = gdf_aa[['codgeo', 'name', 'codgeo_aa', 'aa_name', 'aa_cat']]"
   ]
  },
  {
   "cell_type": "code",
   "execution_count": 135,
   "metadata": {},
   "outputs": [
    {
     "ename": "AttributeError",
     "evalue": "'NoneType' object has no attribute 'copy'",
     "output_type": "error",
     "traceback": [
      "\u001b[0;31m---------------------------------------------------------------------------\u001b[0m",
      "\u001b[0;31mAttributeError\u001b[0m                            Traceback (most recent call last)",
      "File \u001b[0;32m~/.cache/pypoetry/virtualenvs/odis-Nf-mTAVv-py3.10/lib/python3.10/site-packages/IPython/core/formatters.py:402\u001b[0m, in \u001b[0;36mBaseFormatter.__call__\u001b[0;34m(self, obj)\u001b[0m\n\u001b[1;32m    400\u001b[0m     \u001b[38;5;28;01mpass\u001b[39;00m\n\u001b[1;32m    401\u001b[0m \u001b[38;5;28;01melse\u001b[39;00m:\n\u001b[0;32m--> 402\u001b[0m     \u001b[38;5;28;01mreturn\u001b[39;00m \u001b[43mprinter\u001b[49m\u001b[43m(\u001b[49m\u001b[43mobj\u001b[49m\u001b[43m)\u001b[49m\n\u001b[1;32m    403\u001b[0m \u001b[38;5;66;03m# Finally look for special method names\u001b[39;00m\n\u001b[1;32m    404\u001b[0m method \u001b[38;5;241m=\u001b[39m get_real_method(obj, \u001b[38;5;28mself\u001b[39m\u001b[38;5;241m.\u001b[39mprint_method)\n",
      "Cell \u001b[0;32mIn[1], line 227\u001b[0m, in \u001b[0;36m__DW_OUTPUT_FORMATTER__.<locals>.DataWrangler.formatter\u001b[0;34m(cls, var, **kwargs)\u001b[0m\n\u001b[1;32m    225\u001b[0m \u001b[38;5;129m@classmethod\u001b[39m\n\u001b[1;32m    226\u001b[0m \u001b[38;5;28;01mdef\u001b[39;00m\u001b[38;5;250m \u001b[39m\u001b[38;5;21mformatter\u001b[39m(\u001b[38;5;28mcls\u001b[39m, var, \u001b[38;5;241m*\u001b[39m\u001b[38;5;241m*\u001b[39mkwargs):\n\u001b[0;32m--> 227\u001b[0m     s \u001b[38;5;241m=\u001b[39m \u001b[38;5;28;43mcls\u001b[39;49m\u001b[43m(\u001b[49m\u001b[43mvar\u001b[49m\u001b[43m,\u001b[49m\u001b[43m \u001b[49m\u001b[38;5;241;43m*\u001b[39;49m\u001b[38;5;241;43m*\u001b[39;49m\u001b[43mkwargs\u001b[49m\u001b[43m)\u001b[49m\n\u001b[1;32m    228\u001b[0m     \u001b[38;5;28;01mreturn\u001b[39;00m s\u001b[38;5;241m.\u001b[39m_repr_dw_()\n",
      "Cell \u001b[0;32mIn[1], line 221\u001b[0m, in \u001b[0;36m__DW_OUTPUT_FORMATTER__.<locals>.DataWrangler.__init__\u001b[0;34m(self, expr_val)\u001b[0m\n\u001b[1;32m    218\u001b[0m \u001b[38;5;28mself\u001b[39m\u001b[38;5;241m.\u001b[39mid \u001b[38;5;241m=\u001b[39m \u001b[38;5;28mstr\u001b[39m(uuid\u001b[38;5;241m.\u001b[39muuid4())\n\u001b[1;32m    219\u001b[0m pandas_df, conversion_method \u001b[38;5;241m=\u001b[39m api[\u001b[38;5;124m\"\u001b[39m\u001b[38;5;124mpandas_transport\u001b[39m\u001b[38;5;124m\"\u001b[39m][\u001b[38;5;124m\"\u001b[39m\u001b[38;5;124mconvert_to_pandas\u001b[39m\u001b[38;5;124m\"\u001b[39m](expr_val)\n\u001b[1;32m    220\u001b[0m tmp_vars[\u001b[38;5;28mself\u001b[39m\u001b[38;5;241m.\u001b[39mid] \u001b[38;5;241m=\u001b[39m {\n\u001b[0;32m--> 221\u001b[0m     \u001b[38;5;124m\"\u001b[39m\u001b[38;5;124mconverted\u001b[39m\u001b[38;5;124m\"\u001b[39m: \u001b[43mpandas_df\u001b[49m\u001b[38;5;241;43m.\u001b[39;49m\u001b[43mcopy\u001b[49m(deep\u001b[38;5;241m=\u001b[39m\u001b[38;5;28;01mFalse\u001b[39;00m), \u001b[38;5;66;03m# create a shallow copy in case a displayed object is mutated in the same cell\u001b[39;00m\n\u001b[1;32m    222\u001b[0m     \u001b[38;5;124m\"\u001b[39m\u001b[38;5;124mconversion_method\u001b[39m\u001b[38;5;124m\"\u001b[39m: conversion_method\n\u001b[1;32m    223\u001b[0m }\n",
      "\u001b[0;31mAttributeError\u001b[0m: 'NoneType' object has no attribute 'copy'"
     ]
    },
    {
     "data": {
      "text/html": [
       "<div>\n",
       "<style scoped>\n",
       "    .dataframe tbody tr th:only-of-type {\n",
       "        vertical-align: middle;\n",
       "    }\n",
       "\n",
       "    .dataframe tbody tr th {\n",
       "        vertical-align: top;\n",
       "    }\n",
       "\n",
       "    .dataframe thead th {\n",
       "        text-align: right;\n",
       "    }\n",
       "</style>\n",
       "<table border=\"1\" class=\"dataframe\">\n",
       "  <thead>\n",
       "    <tr style=\"text-align: right;\">\n",
       "      <th></th>\n",
       "      <th>codgeo</th>\n",
       "      <th>codpost</th>\n",
       "      <th>nom</th>\n",
       "      <th>longitude</th>\n",
       "      <th>latitude</th>\n",
       "      <th>geometry</th>\n",
       "      <th>polygon</th>\n",
       "      <th>libgeo</th>\n",
       "      <th>p21_pop</th>\n",
       "      <th>p20_pop</th>\n",
       "      <th>population</th>\n",
       "      <th>nb_voisins</th>\n",
       "      <th>liste_voisins</th>\n",
       "      <th>name</th>\n",
       "      <th>codgeo_aa</th>\n",
       "      <th>aa_name</th>\n",
       "      <th>aa_cat</th>\n",
       "    </tr>\n",
       "  </thead>\n",
       "  <tbody>\n",
       "    <tr>\n",
       "      <th>0</th>\n",
       "      <td>01001</td>\n",
       "      <td>01400</td>\n",
       "      <td>L ABERGEMENT CLEMENCIAT</td>\n",
       "      <td>4.9306005</td>\n",
       "      <td>46.1517018</td>\n",
       "      <td>POINT (4.9306 46.1517)</td>\n",
       "      <td>POLYGON ((4.90457 46.16096, 4.91332 46.1829, 4...</td>\n",
       "      <td>L' Abergement-Clémenciat</td>\n",
       "      <td>832.0</td>\n",
       "      <td>806.0</td>\n",
       "      <td>832.0</td>\n",
       "      <td>6.0</td>\n",
       "      <td>[01412, 01093, 01028, 01146, 01351, 01188]</td>\n",
       "      <td>L'Abergement-Clémenciat</td>\n",
       "      <td>524</td>\n",
       "      <td>Châtillon-sur-Chalaronne</td>\n",
       "      <td>20.0</td>\n",
       "    </tr>\n",
       "    <tr>\n",
       "      <th>1</th>\n",
       "      <td>01002</td>\n",
       "      <td>01640</td>\n",
       "      <td>L ABERGEMENT DE VAREY</td>\n",
       "      <td>5.4246442</td>\n",
       "      <td>46.007131</td>\n",
       "      <td>POINT (5.42464 46.00713)</td>\n",
       "      <td>POLYGON ((5.42476 46.03131, 5.44129 46.0254, 5...</td>\n",
       "      <td>L' Abergement-de-Varey</td>\n",
       "      <td>267.0</td>\n",
       "      <td>262.0</td>\n",
       "      <td>267.0</td>\n",
       "      <td>6.0</td>\n",
       "      <td>[01056, 01277, 01384, 01007, 01363, 01199]</td>\n",
       "      <td>L'Abergement-de-Varey</td>\n",
       "      <td>0</td>\n",
       "      <td>Commune hors attraction des villes</td>\n",
       "      <td>30.0</td>\n",
       "    </tr>\n",
       "    <tr>\n",
       "      <th>2</th>\n",
       "      <td>01004</td>\n",
       "      <td>01500</td>\n",
       "      <td>AMBERIEU EN BUGEY</td>\n",
       "      <td>5.37056825</td>\n",
       "      <td>45.9574707</td>\n",
       "      <td>POINT (5.37057 45.95747)</td>\n",
       "      <td>POLYGON ((5.38619 45.93093, 5.35724 45.94863, ...</td>\n",
       "      <td>Ambérieu-en-Bugey</td>\n",
       "      <td>14854.0</td>\n",
       "      <td>14288.0</td>\n",
       "      <td>14854.0</td>\n",
       "      <td>7.0</td>\n",
       "      <td>[01384, 01421, 01041, 01345, 01089, 01007, 01149]</td>\n",
       "      <td>Ambérieu-en-Bugey</td>\n",
       "      <td>243</td>\n",
       "      <td>Ambérieu-en-Bugey</td>\n",
       "      <td>11.0</td>\n",
       "    </tr>\n",
       "    <tr>\n",
       "      <th>3</th>\n",
       "      <td>01005</td>\n",
       "      <td>01330</td>\n",
       "      <td>AMBERIEUX EN DOMBES</td>\n",
       "      <td>4.9118718</td>\n",
       "      <td>45.99922935</td>\n",
       "      <td>POINT (4.91187 45.99923)</td>\n",
       "      <td>POLYGON ((4.94287 45.97914, 4.92773 45.98003, ...</td>\n",
       "      <td>Ambérieux-en-Dombes</td>\n",
       "      <td>1897.0</td>\n",
       "      <td>1782.0</td>\n",
       "      <td>1897.0</td>\n",
       "      <td>7.0</td>\n",
       "      <td>[01382, 01207, 01261, 01362, 01318, 01398, 01446]</td>\n",
       "      <td>Ambérieux-en-Dombes</td>\n",
       "      <td>2</td>\n",
       "      <td>Lyon</td>\n",
       "      <td>20.0</td>\n",
       "    </tr>\n",
       "    <tr>\n",
       "      <th>4</th>\n",
       "      <td>01006</td>\n",
       "      <td>01300</td>\n",
       "      <td>AMBLEON</td>\n",
       "      <td>5.5927847</td>\n",
       "      <td>45.74831435</td>\n",
       "      <td>POINT (5.59278 45.74831)</td>\n",
       "      <td>POLYGON ((5.57082 45.75338, 5.58429 45.76259, ...</td>\n",
       "      <td>Ambléon</td>\n",
       "      <td>113.0</td>\n",
       "      <td>113.0</td>\n",
       "      <td>113.0</td>\n",
       "      <td>6.0</td>\n",
       "      <td>[01358, 01110, 01117, 01216, 01233, 01190]</td>\n",
       "      <td>Ambléon</td>\n",
       "      <td>286</td>\n",
       "      <td>Belley</td>\n",
       "      <td>20.0</td>\n",
       "    </tr>\n",
       "  </tbody>\n",
       "</table>\n",
       "</div>"
      ],
      "text/plain": [
       "  codgeo codpost                      nom   longitude     latitude  \\\n",
       "0  01001   01400  L ABERGEMENT CLEMENCIAT   4.9306005   46.1517018   \n",
       "1  01002   01640    L ABERGEMENT DE VAREY   5.4246442    46.007131   \n",
       "2  01004   01500        AMBERIEU EN BUGEY  5.37056825   45.9574707   \n",
       "3  01005   01330      AMBERIEUX EN DOMBES   4.9118718  45.99922935   \n",
       "4  01006   01300                  AMBLEON   5.5927847  45.74831435   \n",
       "\n",
       "                   geometry  \\\n",
       "0    POINT (4.9306 46.1517)   \n",
       "1  POINT (5.42464 46.00713)   \n",
       "2  POINT (5.37057 45.95747)   \n",
       "3  POINT (4.91187 45.99923)   \n",
       "4  POINT (5.59278 45.74831)   \n",
       "\n",
       "                                             polygon  \\\n",
       "0  POLYGON ((4.90457 46.16096, 4.91332 46.1829, 4...   \n",
       "1  POLYGON ((5.42476 46.03131, 5.44129 46.0254, 5...   \n",
       "2  POLYGON ((5.38619 45.93093, 5.35724 45.94863, ...   \n",
       "3  POLYGON ((4.94287 45.97914, 4.92773 45.98003, ...   \n",
       "4  POLYGON ((5.57082 45.75338, 5.58429 45.76259, ...   \n",
       "\n",
       "                     libgeo  p21_pop  p20_pop  population  nb_voisins  \\\n",
       "0  L' Abergement-Clémenciat    832.0    806.0       832.0         6.0   \n",
       "1    L' Abergement-de-Varey    267.0    262.0       267.0         6.0   \n",
       "2         Ambérieu-en-Bugey  14854.0  14288.0     14854.0         7.0   \n",
       "3       Ambérieux-en-Dombes   1897.0   1782.0      1897.0         7.0   \n",
       "4                   Ambléon    113.0    113.0       113.0         6.0   \n",
       "\n",
       "                                       liste_voisins                     name  \\\n",
       "0         [01412, 01093, 01028, 01146, 01351, 01188]  L'Abergement-Clémenciat   \n",
       "1         [01056, 01277, 01384, 01007, 01363, 01199]    L'Abergement-de-Varey   \n",
       "2  [01384, 01421, 01041, 01345, 01089, 01007, 01149]        Ambérieu-en-Bugey   \n",
       "3  [01382, 01207, 01261, 01362, 01318, 01398, 01446]      Ambérieux-en-Dombes   \n",
       "4         [01358, 01110, 01117, 01216, 01233, 01190]                  Ambléon   \n",
       "\n",
       "  codgeo_aa                             aa_name  aa_cat  \n",
       "0       524            Châtillon-sur-Chalaronne    20.0  \n",
       "1         0  Commune hors attraction des villes    30.0  \n",
       "2       243                   Ambérieu-en-Bugey    11.0  \n",
       "3         2                                Lyon    20.0  \n",
       "4       286                              Belley    20.0  "
      ]
     },
     "execution_count": 135,
     "metadata": {},
     "output_type": "execute_result"
    }
   ],
   "source": [
    "gdf_pop = gdf_pop.join(gdf_aa.set_index('codgeo'), on='codgeo', how='left')\n",
    "gdf_pop.head()"
   ]
  },
  {
   "cell_type": "markdown",
   "metadata": {},
   "source": [
    "## Let's save all of this as a new CSV"
   ]
  },
  {
   "cell_type": "code",
   "execution_count": 136,
   "metadata": {},
   "outputs": [
    {
     "name": "stderr",
     "output_type": "stream",
     "text": [
      "/home/jacques/.cache/pypoetry/virtualenvs/odis-Nf-mTAVv-py3.10/lib/python3.10/site-packages/pandas/core/generic.py:6329: UserWarning: Geometry column does not contain geometry.\n",
      "  self[name] = value\n"
     ]
    }
   ],
   "source": [
    "gdf_pop.set_geometry('polygon', inplace=True)\n",
    "gdf_pop.polygon = gdf_pop.polygon.to_wkt()\n",
    "gdf_pop.to_csv('../csv/communes-avec-coords-polygons-population-voisins-aa.csv', index=False,  mode='w')"
   ]
  },
  {
   "cell_type": "code",
   "execution_count": null,
   "metadata": {},
   "outputs": [],
   "source": []
  }
 ],
 "metadata": {
  "kernelspec": {
   "display_name": "odis-Nf-mTAVv-py3.10",
   "language": "python",
   "name": "python3"
  },
  "language_info": {
   "codemirror_mode": {
    "name": "ipython",
    "version": 3
   },
   "file_extension": ".py",
   "mimetype": "text/x-python",
   "name": "python",
   "nbconvert_exporter": "python",
   "pygments_lexer": "ipython3",
   "version": "3.10.12"
  }
 },
 "nbformat": 4,
 "nbformat_minor": 2
}
