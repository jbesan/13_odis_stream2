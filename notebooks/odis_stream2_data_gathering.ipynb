{
 "cells": [
  {
   "cell_type": "markdown",
   "id": "5119c2ba",
   "metadata": {},
   "source": [
    "# Intro"
   ]
  },
  {
   "cell_type": "markdown",
   "id": "239cb0d6",
   "metadata": {},
   "source": [
    "Le but de ce notebook est de faire un premier essai de scoring des communes en prenant:\n",
    "- Identifiant quelques critères clés (voir liste ci-dessous)\n",
    "- Clusteriser ces critères par communes / groupement de communes / bassin\n",
    "- Tentative de scoring (avec pondération) selon le contexte de l'accueilli\n",
    "\n",
    "De manière simplifiée le but est de calculer un ScoreAccueilli qui soit une somme pondérée de score thématiques:\n",
    "ScoreAccueilli = XEmploi x ScoreEmploi + XLogement x ScoreLogement + XEdu x ScoreEdu + Score Politique\n",
    "\n",
    "Chaque score est normalement distribuée autour de la valeur 0"
   ]
  },
  {
   "cell_type": "markdown",
   "id": "171289f7",
   "metadata": {},
   "source": [
    "## Critères / Score considèrés pour l'aggrégation:"
   ]
  },
  {
   "cell_type": "markdown",
   "id": "62841fb7",
   "metadata": {},
   "source": [
    "\n",
    "\n",
    "Il existe 2 types de critères: des critères absolus qui représentent l'attractivité intrinsèque d'un territoire, les critères relatifs qui représentent l'importance selon le profil de la personne accueillie.\n",
    "\n",
    "### Critères absolus\n",
    "\n",
    "Emploi\n",
    "- Ratio d'emploi non pourvus / 1000 hbts dans la Zone d'Emploi\n",
    "- Ratio d'emploi en tensions non pourvus / 1000 hbts dans la Zone d'emploi\n",
    "\n",
    "Logement\n",
    "- Logements vacants / logements dans la commune\n",
    "- Résidences principales de type maison et/ou avec 5+ pièces\n",
    "\n",
    "Mobilité\n",
    "- ???\n",
    "\n",
    "Services\n",
    "- Concentration de services d'inclusion dans la commune\n",
    "\n",
    "Education\n",
    "- Concentration Ecoles / Crèches dans un rayon de X km\n",
    "- Présence d'écoles avec risque de fermeture de classes dans un rayon de X Km\n",
    "\n",
    "Politique\n",
    "- Couleur politique du maire de la commune ? --> Pas sûr de comment scorer\n",
    "\n",
    "### Relatifs\n",
    "\n",
    "Géographique\n",
    "- Distance commune proposée <-> lieu de résidence actuel de l'accueilli\n",
    "\n",
    "Emploi\n",
    "- Ratio d'emplois pour des familles d'emplois adressable\n"
   ]
  },
  {
   "cell_type": "markdown",
   "id": "fdab462e",
   "metadata": {},
   "source": [
    "# Fetching all the relevant datasets"
   ]
  },
  {
   "cell_type": "code",
   "execution_count": 1,
   "id": "c3d87c2a",
   "metadata": {},
   "outputs": [],
   "source": [
    "import pandas as pd\n",
    "import numpy as np\n",
    "import geopandas as gpd\n",
    "from shapely import wkt\n",
    "from unidecode import unidecode\n",
    "import json"
   ]
  },
  {
   "cell_type": "markdown",
   "id": "052f01c2",
   "metadata": {},
   "source": [
    "## Geographie & Polygons"
   ]
  },
  {
   "cell_type": "markdown",
   "id": "f570e356",
   "metadata": {},
   "source": [
    "source: https://www.data.gouv.fr/fr/datasets/communes-et-villes-de-france-en-csv-excel-json-parquet-et-feather/\n",
    "- code_insee: Code commune, Code INSEE, Code assigné par l’INSEE à la commune\n",
    "- nom_standard: Nom normalisé de la commune, avec son article (ex: Le Havre)\n",
    "- nom_sans_pronom: Nom de la commune, sans son article le cas échéant (ex: Havre)\n",
    "- nom_a: Nom de la commune, précédé de la préposition à, au ou aux et de l’article de la commune, le cas échéant (ex: au Havre)\n",
    "- nom_de: Nom de la commune, précédé de la préposition d’, de, du ou des et de l’article de la commune, le cas échéant (ex: du Havre)\n",
    "- nom_sans_accent: Nom de la commune sans accent, caractères spéciaux ou espaces\n",
    "- nom_standard_majuscule: Nom de la commune en majuscule (ex: LE HAVRE)\n",
    "- typecom: Type de la commune en version abrégée (COM, COMA, COMD, ARM)\n",
    "- typecom_texte: Type de la commune en version textuelle\n",
    "- reg_code: Code région assigné par l’INSEE à la région de la commune\n",
    "- reg_nom: Nom de la région où est située la commune\n",
    "- dep_code: Code département assigné par l’INSEE au département de la commune\n",
    "- dep_nom: Nom du département où est située la commune\n",
    "- canton_code: Code Canton de la commune\n",
    "- canton_nom: Nom du canton de la commune\n",
    "- epci_code: Code EPCI (établissements publics de coopération intercommunale) assigné par l’INSEE à la région de la commune\n",
    "- epci_nom: Nom de l’EPCI où est située la commune\n",
    "- code_postal: Code postal principal la commune\n",
    "- codes_postaux: Codes postaux rattachés à la commune\n",
    "- academie_code: Code de l’académie de rattachement des écoles de la commune\n",
    "- academie_nom: Nom de l’académie de rattachement\n",
    "- zone_emploi: Zone d’emploi de la commune, défini par l’INSEE\n",
    "- code_insee_centre_zone_emploi: Code INSEE de la commune centre de la zone d’emploi\n",
    "- code_unite_urbaine: Code INSEE de l’unité urbaine (agglomération). Si la commune est hors unité urbaine, il s’agit du code du département suivi par trois 0.\n",
    "- nom_unite_urbaine: \"Nom de l’unité urbaine (nom de l’agglomération)\n",
    "- taille_unite_urbain: \"Taille de l’unité urbaine\n",
    "- type_commune_unite_urbain: \"Type de commune (Hors unité urbaine ou Unité urbaine)\n",
    "- statut_commune_unite_urbain: \"Place de la commune dans l’unité urbaine (H: Hors unité urbaine, C: Ville-centre, B: Commune banlieue, I: Ville isolée)\n",
    "- population: Population municipale\n",
    "- superficie_hectare: Superficie de la commune, en hectare\n",
    "- superficie_km2: Superficie de la commune, en km2\n",
    "- densite: Densité de la commune, en habitant au km2\n",
    "- altitude_moyenne: Altitude moyenne, en m\n",
    "- altitude_minimale: Altitude minimale, en m\n",
    "- altitude_maximale: Altitude maximale, en m\n",
    "- latitude_mairie: Latitude de la mairie\n",
    "- longitude_mairie: Longitude de la mairie\n",
    "- latitude_centre: Latitude du centroïde du territoire communale\n",
    "- longitude_centre: Longitude du centroïde du territoire communale\n",
    "- grille_densite: Grille communale de densité à 7 niveaux, selon l’INSEE\n",
    "- grille_densite_texte: Texte de la grille communale de densité à 7 niveaux, selon l’INSEE\n",
    "- niveau_equipements_services: Niveau des équipements et des services, selon l’INSEE (de 0 à 4)\n",
    "- niveau_equipements_services_texte: Texte du niveau des équipements et des services\n",
    "- gentile: Gentilé (nom des habitants)\n",
    "- url_wikipedia: URL de la page wikipédia de la commune\n",
    "- url_villedereve: URL de la page Ville de rêve de la commune"
   ]
  },
  {
   "cell_type": "code",
   "execution_count": 3,
   "id": "a6e7b148",
   "metadata": {},
   "outputs": [],
   "source": [
    "#La base de villes de rêve aggrège beaucoup de données utiles pour les recoupement\n",
    "data = json.load(open('../csv_large/communes-france-avec-polygon-2025.json'))\n",
    "df = pd.DataFrame(data['data'])\n",
    "df = df[['code_insee','nom_standard','typecom','reg_code','reg_nom','dep_code','dep_nom','epci_code','epci_nom','niveau_equipements_services',\n",
    "         'academie_code','code_postal','codes_postaux','type_commune_unite_urbaine','population','code_insee_centre_zone_emploi','zone_emploi',\n",
    "         'latitude_mairie','longitude_mairie']].copy()\n",
    "df.rename(columns={'code_insee':'codgeo','nom_standard':'libgeo','code_insee_centre_zone_emploi':'codze'}, inplace=True)\n",
    "df.set_index('codgeo', inplace=True)\n",
    "# les codes postaux de Paris sont manquant\n",
    "df.at['75056', 'codes_postaux'] = '75001, 75002, 75003, 75004, 75005, 75006, 75007, 75008, 75009, 75010, 75011, 75012, 75013, 75014, 75015, 75016, 75017, 75018, 75019, 75020, 75116'\n"
   ]
  },
  {
   "cell_type": "code",
   "execution_count": 4,
   "id": "c6005c28",
   "metadata": {},
   "outputs": [],
   "source": [
    "polygons = pd.read_csv('../csv/communes-avec-polygons-json-2021.csv').drop(columns={'polygon_as_json'})\n",
    "geo = pd.merge(df, polygons, on='codgeo', how='left')"
   ]
  },
  {
   "cell_type": "code",
   "execution_count": 5,
   "id": "1ed43206",
   "metadata": {},
   "outputs": [],
   "source": [
    "def safe_load(x):\n",
    "    try:\n",
    "        return wkt.loads(x)\n",
    "    except:\n",
    "        return None\n",
    "\n",
    "geo.polygon = geo.polygon.apply(safe_load)"
   ]
  },
  {
   "cell_type": "code",
   "execution_count": 6,
   "id": "788f14f2",
   "metadata": {},
   "outputs": [],
   "source": [
    "geo = gpd.GeoDataFrame(geo)\n",
    "geo.set_geometry(geo.polygon, crs='EPSG:4326', inplace=True)\n",
    "del df\n",
    "del polygons"
   ]
  },
  {
   "cell_type": "code",
   "execution_count": 6,
   "id": "338b5a50",
   "metadata": {},
   "outputs": [
    {
     "data": {
      "application/vnd.microsoft.datawrangler.viewer.v0+json": {
       "columns": [
        {
         "name": "index",
         "rawType": "int64",
         "type": "integer"
        },
        {
         "name": "codgeo",
         "rawType": "object",
         "type": "string"
        },
        {
         "name": "codgeo_voisins",
         "rawType": "object",
         "type": "unknown"
        },
        {
         "name": "nb_voisins",
         "rawType": "int64",
         "type": "integer"
        }
       ],
       "ref": "ef934f3b-e651-41a2-860b-5a2c34e9a7eb",
       "rows": [
        [
         "0",
         "01001",
         "['01412', '01093', '01028', '01146', '01351', '01188']",
         "6"
        ],
        [
         "1",
         "01002",
         "['01056', '01277', '01384', '01007', '01363', '01199']",
         "6"
        ],
        [
         "2",
         "01004",
         "['01384', '01421', '01041', '01345', '01089', '01007', '01149']",
         "7"
        ],
        [
         "3",
         "01005",
         "['01382', '01207', '01261', '01362', '01318', '01398', '01446']",
         "7"
        ],
        [
         "4",
         "01006",
         "['01358', '01110', '01117', '01216', '01233', '01190']",
         "6"
        ]
       ],
       "shape": {
        "columns": 3,
        "rows": 5
       }
      },
      "text/html": [
       "<div>\n",
       "<style scoped>\n",
       "    .dataframe tbody tr th:only-of-type {\n",
       "        vertical-align: middle;\n",
       "    }\n",
       "\n",
       "    .dataframe tbody tr th {\n",
       "        vertical-align: top;\n",
       "    }\n",
       "\n",
       "    .dataframe thead th {\n",
       "        text-align: right;\n",
       "    }\n",
       "</style>\n",
       "<table border=\"1\" class=\"dataframe\">\n",
       "  <thead>\n",
       "    <tr style=\"text-align: right;\">\n",
       "      <th></th>\n",
       "      <th>codgeo</th>\n",
       "      <th>codgeo_voisins</th>\n",
       "      <th>nb_voisins</th>\n",
       "    </tr>\n",
       "  </thead>\n",
       "  <tbody>\n",
       "    <tr>\n",
       "      <th>0</th>\n",
       "      <td>01001</td>\n",
       "      <td>[01412, 01093, 01028, 01146, 01351, 01188]</td>\n",
       "      <td>6</td>\n",
       "    </tr>\n",
       "    <tr>\n",
       "      <th>1</th>\n",
       "      <td>01002</td>\n",
       "      <td>[01056, 01277, 01384, 01007, 01363, 01199]</td>\n",
       "      <td>6</td>\n",
       "    </tr>\n",
       "    <tr>\n",
       "      <th>2</th>\n",
       "      <td>01004</td>\n",
       "      <td>[01384, 01421, 01041, 01345, 01089, 01007, 01149]</td>\n",
       "      <td>7</td>\n",
       "    </tr>\n",
       "    <tr>\n",
       "      <th>3</th>\n",
       "      <td>01005</td>\n",
       "      <td>[01382, 01207, 01261, 01362, 01318, 01398, 01446]</td>\n",
       "      <td>7</td>\n",
       "    </tr>\n",
       "    <tr>\n",
       "      <th>4</th>\n",
       "      <td>01006</td>\n",
       "      <td>[01358, 01110, 01117, 01216, 01233, 01190]</td>\n",
       "      <td>6</td>\n",
       "    </tr>\n",
       "  </tbody>\n",
       "</table>\n",
       "</div>"
      ],
      "text/plain": [
       "  codgeo                                     codgeo_voisins  nb_voisins\n",
       "0  01001         [01412, 01093, 01028, 01146, 01351, 01188]           6\n",
       "1  01002         [01056, 01277, 01384, 01007, 01363, 01199]           6\n",
       "2  01004  [01384, 01421, 01041, 01345, 01089, 01007, 01149]           7\n",
       "3  01005  [01382, 01207, 01261, 01362, 01318, 01398, 01446]           7\n",
       "4  01006         [01358, 01110, 01117, 01216, 01233, 01190]           6"
      ]
     },
     "execution_count": 6,
     "metadata": {},
     "output_type": "execute_result"
    }
   ],
   "source": [
    "voisins = pd.read_csv('../csv/communes_adjacentes_2022.csv')\n",
    "voisins['codgeo_voisins'] = voisins.insee_voisins.str.split('|')\n",
    "voisins = voisins[['insee','codgeo_voisins','nb_voisins']]\n",
    "voisins.rename({'insee':'codgeo'}, inplace=True, axis=1)\n",
    "voisins.head()"
   ]
  },
  {
   "cell_type": "markdown",
   "id": "142fe4b9",
   "metadata": {},
   "source": [
    "## Population"
   ]
  },
  {
   "cell_type": "code",
   "execution_count": 7,
   "id": "40137a4f",
   "metadata": {},
   "outputs": [
    {
     "data": {
      "application/vnd.microsoft.datawrangler.viewer.v0+json": {
       "columns": [
        {
         "name": "index",
         "rawType": "int64",
         "type": "integer"
        },
        {
         "name": "codgeo",
         "rawType": "object",
         "type": "string"
        },
        {
         "name": "libgeo",
         "rawType": "object",
         "type": "string"
        },
        {
         "name": "reg",
         "rawType": "int64",
         "type": "integer"
        },
        {
         "name": "dep",
         "rawType": "object",
         "type": "string"
        },
        {
         "name": "cv",
         "rawType": "object",
         "type": "string"
        },
        {
         "name": "population",
         "rawType": "float64",
         "type": "float"
        }
       ],
       "ref": "8dbf9c80-a5e4-46b0-b9a7-bf6751e48c95",
       "rows": [
        [
         "0",
         "85062",
         "Châteauneuf",
         "52",
         "85",
         "8502",
         "1134.0"
        ],
        [
         "1",
         "58300",
         "Urzy",
         "26",
         "58",
         "5808",
         "1742.0"
        ],
        [
         "2",
         "70137",
         "Chassey-lès-Montbozon",
         "43",
         "70",
         "7012",
         "225.0"
        ],
        [
         "3",
         "51649",
         "Vitry-le-François",
         "21",
         "51",
         "5123",
         "11454.0"
        ],
        [
         "4",
         "78638",
         "Vaux-sur-Seine",
         "11",
         "78",
         "7811",
         "5083.0"
        ]
       ],
       "shape": {
        "columns": 6,
        "rows": 5
       }
      },
      "text/html": [
       "<div>\n",
       "<style scoped>\n",
       "    .dataframe tbody tr th:only-of-type {\n",
       "        vertical-align: middle;\n",
       "    }\n",
       "\n",
       "    .dataframe tbody tr th {\n",
       "        vertical-align: top;\n",
       "    }\n",
       "\n",
       "    .dataframe thead th {\n",
       "        text-align: right;\n",
       "    }\n",
       "</style>\n",
       "<table border=\"1\" class=\"dataframe\">\n",
       "  <thead>\n",
       "    <tr style=\"text-align: right;\">\n",
       "      <th></th>\n",
       "      <th>codgeo</th>\n",
       "      <th>libgeo</th>\n",
       "      <th>reg</th>\n",
       "      <th>dep</th>\n",
       "      <th>cv</th>\n",
       "      <th>population</th>\n",
       "    </tr>\n",
       "  </thead>\n",
       "  <tbody>\n",
       "    <tr>\n",
       "      <th>0</th>\n",
       "      <td>85062</td>\n",
       "      <td>Châteauneuf</td>\n",
       "      <td>52</td>\n",
       "      <td>85</td>\n",
       "      <td>8502</td>\n",
       "      <td>1134.0</td>\n",
       "    </tr>\n",
       "    <tr>\n",
       "      <th>1</th>\n",
       "      <td>58300</td>\n",
       "      <td>Urzy</td>\n",
       "      <td>26</td>\n",
       "      <td>58</td>\n",
       "      <td>5808</td>\n",
       "      <td>1742.0</td>\n",
       "    </tr>\n",
       "    <tr>\n",
       "      <th>2</th>\n",
       "      <td>70137</td>\n",
       "      <td>Chassey-lès-Montbozon</td>\n",
       "      <td>43</td>\n",
       "      <td>70</td>\n",
       "      <td>7012</td>\n",
       "      <td>225.0</td>\n",
       "    </tr>\n",
       "    <tr>\n",
       "      <th>3</th>\n",
       "      <td>51649</td>\n",
       "      <td>Vitry-le-François</td>\n",
       "      <td>21</td>\n",
       "      <td>51</td>\n",
       "      <td>5123</td>\n",
       "      <td>11454.0</td>\n",
       "    </tr>\n",
       "    <tr>\n",
       "      <th>4</th>\n",
       "      <td>78638</td>\n",
       "      <td>Vaux-sur-Seine</td>\n",
       "      <td>11</td>\n",
       "      <td>78</td>\n",
       "      <td>7811</td>\n",
       "      <td>5083.0</td>\n",
       "    </tr>\n",
       "  </tbody>\n",
       "</table>\n",
       "</div>"
      ],
      "text/plain": [
       "  codgeo                 libgeo  reg dep    cv  population\n",
       "0  85062            Châteauneuf   52  85  8502      1134.0\n",
       "1  58300                   Urzy   26  58  5808      1742.0\n",
       "2  70137  Chassey-lès-Montbozon   43  70  7012       225.0\n",
       "3  51649      Vitry-le-François   21  51  5123     11454.0\n",
       "4  78638         Vaux-sur-Seine   11  78  7811      5083.0"
      ]
     },
     "execution_count": 7,
     "metadata": {},
     "output_type": "execute_result"
    }
   ],
   "source": [
    "pdf = pd.read_csv('../csv/insee-estimation-population-2024.csv')\n",
    "pdf['population'] = 0\n",
    "pdf['population'] = pdf['population'].case_when([\n",
    "    (pdf.eval(\"p21_pop > 0\"), pdf.p21_pop),\n",
    "    (pdf.eval(\"p20_pop > 0\"), pdf.p20_pop),\n",
    "    (pdf.eval(\"p19_pop > 0\"), pdf.p19_pop),\n",
    "    (pdf.eval(\"p18_pop > 0\"), pdf.p18_pop),\n",
    "    (pdf.eval(\"p17_pop > 0\"), pdf.p17_pop),\n",
    "    (pdf.eval(\"p16_pop > 0\"), pdf.p16_pop)\n",
    "])\n",
    "pop = pdf[['codgeo','libgeo','reg','dep','cv','population']]\n",
    "pop.head()"
   ]
  },
  {
   "cell_type": "markdown",
   "id": "abbd93b8",
   "metadata": {},
   "source": [
    "## Emploi"
   ]
  },
  {
   "cell_type": "code",
   "execution_count": 8,
   "id": "8d32cdac",
   "metadata": {},
   "outputs": [
    {
     "data": {
      "application/vnd.microsoft.datawrangler.viewer.v0+json": {
       "columns": [
        {
         "name": "index",
         "rawType": "int64",
         "type": "integer"
        },
        {
         "name": "codgeo",
         "rawType": "object",
         "type": "string"
        },
        {
         "name": "libgeo",
         "rawType": "object",
         "type": "string"
        },
        {
         "name": "ze_2020",
         "rawType": "object",
         "type": "string"
        },
        {
         "name": "codze2020",
         "rawType": "string",
         "type": "string"
        },
        {
         "name": "libze2020",
         "rawType": "object",
         "type": "string"
        }
       ],
       "ref": "99101837-1fd7-41bd-bed1-04ebc8c88383",
       "rows": [
        [
         "0",
         "01001",
         "L'Abergement-Clémenciat",
         "8405 - Bourg en Bresse",
         "8405",
         "Bourg en Bresse"
        ],
        [
         "1",
         "01002",
         "L'Abergement-de-Varey",
         "8405 - Bourg en Bresse",
         "8405",
         "Bourg en Bresse"
        ],
        [
         "2",
         "01004",
         "Ambérieu-en-Bugey",
         "8405 - Bourg en Bresse",
         "8405",
         "Bourg en Bresse"
        ],
        [
         "3",
         "01005",
         "Ambérieux-en-Dombes",
         "8434 - Villefranche-sur-Saône",
         "8434",
         "Villefranche-sur-Saône"
        ],
        [
         "4",
         "01006",
         "Ambléon",
         "8404 - Belley",
         "8404",
         "Belley"
        ]
       ],
       "shape": {
        "columns": 5,
        "rows": 5
       }
      },
      "text/html": [
       "<div>\n",
       "<style scoped>\n",
       "    .dataframe tbody tr th:only-of-type {\n",
       "        vertical-align: middle;\n",
       "    }\n",
       "\n",
       "    .dataframe tbody tr th {\n",
       "        vertical-align: top;\n",
       "    }\n",
       "\n",
       "    .dataframe thead th {\n",
       "        text-align: right;\n",
       "    }\n",
       "</style>\n",
       "<table border=\"1\" class=\"dataframe\">\n",
       "  <thead>\n",
       "    <tr style=\"text-align: right;\">\n",
       "      <th></th>\n",
       "      <th>codgeo</th>\n",
       "      <th>libgeo</th>\n",
       "      <th>ze_2020</th>\n",
       "      <th>codze2020</th>\n",
       "      <th>libze2020</th>\n",
       "    </tr>\n",
       "  </thead>\n",
       "  <tbody>\n",
       "    <tr>\n",
       "      <th>0</th>\n",
       "      <td>01001</td>\n",
       "      <td>L'Abergement-Clémenciat</td>\n",
       "      <td>8405 - Bourg en Bresse</td>\n",
       "      <td>8405</td>\n",
       "      <td>Bourg en Bresse</td>\n",
       "    </tr>\n",
       "    <tr>\n",
       "      <th>1</th>\n",
       "      <td>01002</td>\n",
       "      <td>L'Abergement-de-Varey</td>\n",
       "      <td>8405 - Bourg en Bresse</td>\n",
       "      <td>8405</td>\n",
       "      <td>Bourg en Bresse</td>\n",
       "    </tr>\n",
       "    <tr>\n",
       "      <th>2</th>\n",
       "      <td>01004</td>\n",
       "      <td>Ambérieu-en-Bugey</td>\n",
       "      <td>8405 - Bourg en Bresse</td>\n",
       "      <td>8405</td>\n",
       "      <td>Bourg en Bresse</td>\n",
       "    </tr>\n",
       "    <tr>\n",
       "      <th>3</th>\n",
       "      <td>01005</td>\n",
       "      <td>Ambérieux-en-Dombes</td>\n",
       "      <td>8434 - Villefranche-sur-Saône</td>\n",
       "      <td>8434</td>\n",
       "      <td>Villefranche-sur-Saône</td>\n",
       "    </tr>\n",
       "    <tr>\n",
       "      <th>4</th>\n",
       "      <td>01006</td>\n",
       "      <td>Ambléon</td>\n",
       "      <td>8404 - Belley</td>\n",
       "      <td>8404</td>\n",
       "      <td>Belley</td>\n",
       "    </tr>\n",
       "  </tbody>\n",
       "</table>\n",
       "</div>"
      ],
      "text/plain": [
       "  codgeo                   libgeo                        ze_2020 codze2020  \\\n",
       "0  01001  L'Abergement-Clémenciat         8405 - Bourg en Bresse      8405   \n",
       "1  01002    L'Abergement-de-Varey         8405 - Bourg en Bresse      8405   \n",
       "2  01004        Ambérieu-en-Bugey         8405 - Bourg en Bresse      8405   \n",
       "3  01005      Ambérieux-en-Dombes  8434 - Villefranche-sur-Saône      8434   \n",
       "4  01006                  Ambléon                  8404 - Belley      8404   \n",
       "\n",
       "                libze2020  \n",
       "0         Bourg en Bresse  \n",
       "1         Bourg en Bresse  \n",
       "2         Bourg en Bresse  \n",
       "3  Villefranche-sur-Saône  \n",
       "4                  Belley  "
      ]
     },
     "execution_count": 8,
     "metadata": {},
     "output_type": "execute_result"
    }
   ],
   "source": [
    "#  Communes <-> Zones d'emploi 2020\n",
    "## https://statistiques-locales.insee.fr/#c=zonage\n",
    "## Choisir \"Comparer deux Zonages, ZOnage 1 = Commune, Zonage 2 = Zones d'emploi 2020. Vue Tableau > Action > Exporter\"\n",
    "ze = pd.read_csv('../csv/Export_Communes_Zones_Emploi_2020.csv')\n",
    "ze.codze2020 = ze.codze2020.astype('Int64').astype('string')\n",
    "ze.head()"
   ]
  },
  {
   "cell_type": "code",
   "execution_count": 9,
   "id": "1125cdb6",
   "metadata": {},
   "outputs": [
    {
     "data": {
      "application/vnd.microsoft.datawrangler.viewer.v0+json": {
       "columns": [
        {
         "name": "index",
         "rawType": "int64",
         "type": "integer"
        },
        {
         "name": "codgeo",
         "rawType": "object",
         "type": "string"
        },
        {
         "name": "codbe",
         "rawType": "string",
         "type": "string"
        },
        {
         "name": "libbe",
         "rawType": "object",
         "type": "string"
        }
       ],
       "ref": "c67399a9-ee57-47a0-bed8-7f2b107d76e2",
       "rows": [
        [
         "0",
         "63113",
         "8457",
         "CLERMONT FERRAND"
        ],
        [
         "1",
         "63213",
         "8457",
         "CLERMONT FERRAND"
        ],
        [
         "2",
         "63200",
         "8457",
         "CLERMONT FERRAND"
        ],
        [
         "3",
         "63099",
         "8457",
         "CLERMONT FERRAND"
        ],
        [
         "4",
         "63204",
         "8457",
         "CLERMONT FERRAND"
        ]
       ],
       "shape": {
        "columns": 3,
        "rows": 5
       }
      },
      "text/html": [
       "<div>\n",
       "<style scoped>\n",
       "    .dataframe tbody tr th:only-of-type {\n",
       "        vertical-align: middle;\n",
       "    }\n",
       "\n",
       "    .dataframe tbody tr th {\n",
       "        vertical-align: top;\n",
       "    }\n",
       "\n",
       "    .dataframe thead th {\n",
       "        text-align: right;\n",
       "    }\n",
       "</style>\n",
       "<table border=\"1\" class=\"dataframe\">\n",
       "  <thead>\n",
       "    <tr style=\"text-align: right;\">\n",
       "      <th></th>\n",
       "      <th>codgeo</th>\n",
       "      <th>codbe</th>\n",
       "      <th>libbe</th>\n",
       "    </tr>\n",
       "  </thead>\n",
       "  <tbody>\n",
       "    <tr>\n",
       "      <th>0</th>\n",
       "      <td>63113</td>\n",
       "      <td>8457</td>\n",
       "      <td>CLERMONT FERRAND</td>\n",
       "    </tr>\n",
       "    <tr>\n",
       "      <th>1</th>\n",
       "      <td>63213</td>\n",
       "      <td>8457</td>\n",
       "      <td>CLERMONT FERRAND</td>\n",
       "    </tr>\n",
       "    <tr>\n",
       "      <th>2</th>\n",
       "      <td>63200</td>\n",
       "      <td>8457</td>\n",
       "      <td>CLERMONT FERRAND</td>\n",
       "    </tr>\n",
       "    <tr>\n",
       "      <th>3</th>\n",
       "      <td>63099</td>\n",
       "      <td>8457</td>\n",
       "      <td>CLERMONT FERRAND</td>\n",
       "    </tr>\n",
       "    <tr>\n",
       "      <th>4</th>\n",
       "      <td>63204</td>\n",
       "      <td>8457</td>\n",
       "      <td>CLERMONT FERRAND</td>\n",
       "    </tr>\n",
       "  </tbody>\n",
       "</table>\n",
       "</div>"
      ],
      "text/plain": [
       "  codgeo codbe             libbe\n",
       "0  63113  8457  CLERMONT FERRAND\n",
       "1  63213  8457  CLERMONT FERRAND\n",
       "2  63200  8457  CLERMONT FERRAND\n",
       "3  63099  8457  CLERMONT FERRAND\n",
       "4  63204  8457  CLERMONT FERRAND"
      ]
     },
     "execution_count": 9,
     "metadata": {},
     "output_type": "execute_result"
    }
   ],
   "source": [
    "#  Communes <-> Bassins d'emploi 2021 de France Travail (=/= des Zones d'emploi de l'INSEE)\n",
    "# https://statistiques.francetravail.org/bmo/static/methode_2021\n",
    "\n",
    "\n",
    "be = pd.read_csv('../csv/France_Travail_Bassin_Emploi_2021.csv')\n",
    "be.drop(['reg', 'dep'], axis=1, inplace=True)\n",
    "be.codbe = be.codbe.astype('Int64').astype('string')\n",
    "be.codgeo = np.where(be.iloc[:,0].str.len() == 4, '0' + be.iloc[:,0], be.iloc[:,0])\n",
    "be.head()"
   ]
  },
  {
   "cell_type": "code",
   "execution_count": 10,
   "id": "2c19b418",
   "metadata": {},
   "outputs": [
    {
     "data": {
      "application/vnd.microsoft.datawrangler.viewer.v0+json": {
       "columns": [
        {
         "name": "codbe",
         "rawType": "string",
         "type": "string"
        },
        {
         "name": "pop_be",
         "rawType": "float64",
         "type": "float"
        }
       ],
       "ref": "ac962db9-5fd8-42ff-a628-0103320d8b4b",
       "rows": [
        [
         "1107",
         "2133111.0"
        ],
        [
         "1108",
         "201762.0"
        ],
        [
         "1109",
         "144581.0"
        ],
        [
         "1115",
         "176665.0"
        ],
        [
         "1116",
         "150292.0"
        ]
       ],
       "shape": {
        "columns": 1,
        "rows": 5
       }
      },
      "text/html": [
       "<div>\n",
       "<style scoped>\n",
       "    .dataframe tbody tr th:only-of-type {\n",
       "        vertical-align: middle;\n",
       "    }\n",
       "\n",
       "    .dataframe tbody tr th {\n",
       "        vertical-align: top;\n",
       "    }\n",
       "\n",
       "    .dataframe thead th {\n",
       "        text-align: right;\n",
       "    }\n",
       "</style>\n",
       "<table border=\"1\" class=\"dataframe\">\n",
       "  <thead>\n",
       "    <tr style=\"text-align: right;\">\n",
       "      <th></th>\n",
       "      <th>pop_be</th>\n",
       "    </tr>\n",
       "    <tr>\n",
       "      <th>codbe</th>\n",
       "      <th></th>\n",
       "    </tr>\n",
       "  </thead>\n",
       "  <tbody>\n",
       "    <tr>\n",
       "      <th>1107</th>\n",
       "      <td>2133111.0</td>\n",
       "    </tr>\n",
       "    <tr>\n",
       "      <th>1108</th>\n",
       "      <td>201762.0</td>\n",
       "    </tr>\n",
       "    <tr>\n",
       "      <th>1109</th>\n",
       "      <td>144581.0</td>\n",
       "    </tr>\n",
       "    <tr>\n",
       "      <th>1115</th>\n",
       "      <td>176665.0</td>\n",
       "    </tr>\n",
       "    <tr>\n",
       "      <th>1116</th>\n",
       "      <td>150292.0</td>\n",
       "    </tr>\n",
       "  </tbody>\n",
       "</table>\n",
       "</div>"
      ],
      "text/plain": [
       "          pop_be\n",
       "codbe           \n",
       "1107   2133111.0\n",
       "1108    201762.0\n",
       "1109    144581.0\n",
       "1115    176665.0\n",
       "1116    150292.0"
      ]
     },
     "execution_count": 10,
     "metadata": {},
     "output_type": "execute_result"
    }
   ],
   "source": [
    "#population par Bassin d'emploi\n",
    "pop_be = pd.merge(pop, be, on='codgeo', how='left').groupby('codbe').sum('population')\n",
    "pop_be.drop('reg', axis=1, inplace=True)\n",
    "pop_be.rename({'population':'pop_be'}, axis=1, inplace=True)\n",
    "pop_be.head()"
   ]
  },
  {
   "cell_type": "code",
   "execution_count": 11,
   "id": "c8297aaa",
   "metadata": {},
   "outputs": [
    {
     "data": {
      "application/vnd.microsoft.datawrangler.viewer.v0+json": {
       "columns": [
        {
         "name": "index",
         "rawType": "int64",
         "type": "integer"
        },
        {
         "name": "codbe",
         "rawType": "string",
         "type": "string"
        },
        {
         "name": "codfap",
         "rawType": "object",
         "type": "string"
        },
        {
         "name": "libfap",
         "rawType": "object",
         "type": "string"
        },
        {
         "name": "code_region",
         "rawType": "int64",
         "type": "integer"
        },
        {
         "name": "code_dep",
         "rawType": "object",
         "type": "string"
        },
        {
         "name": "met",
         "rawType": "Int64",
         "type": "integer"
        },
        {
         "name": "xmet",
         "rawType": "Int64",
         "type": "integer"
        },
        {
         "name": "smet",
         "rawType": "Int64",
         "type": "integer"
        }
       ],
       "ref": "c96e1543-748f-4a51-90dd-7dfcc2ae46ac",
       "rows": [
        [
         "0",
         "101",
         "A0X40",
         "Agriculteurs",
         "1",
         "971",
         "227",
         "80",
         "128"
        ],
        [
         "1",
         "102",
         "A0X40",
         "Agriculteurs",
         "1",
         "971",
         "91",
         "42",
         "82"
        ],
        [
         "2",
         "105",
         "A0X40",
         "Agriculteurs",
         "1",
         "971",
         "57",
         "52",
         "7"
        ],
        [
         "3",
         "113",
         "A0X40",
         "Agriculteurs",
         "1",
         "971",
         "26",
         "0",
         "26"
        ],
        [
         "4",
         "116",
         "A0X40",
         "Agriculteurs",
         "1",
         "971",
         "0",
         "0",
         "0"
        ]
       ],
       "shape": {
        "columns": 8,
        "rows": 5
       }
      },
      "text/html": [
       "<div>\n",
       "<style scoped>\n",
       "    .dataframe tbody tr th:only-of-type {\n",
       "        vertical-align: middle;\n",
       "    }\n",
       "\n",
       "    .dataframe tbody tr th {\n",
       "        vertical-align: top;\n",
       "    }\n",
       "\n",
       "    .dataframe thead th {\n",
       "        text-align: right;\n",
       "    }\n",
       "</style>\n",
       "<table border=\"1\" class=\"dataframe\">\n",
       "  <thead>\n",
       "    <tr style=\"text-align: right;\">\n",
       "      <th></th>\n",
       "      <th>codbe</th>\n",
       "      <th>codfap</th>\n",
       "      <th>libfap</th>\n",
       "      <th>code_region</th>\n",
       "      <th>code_dep</th>\n",
       "      <th>met</th>\n",
       "      <th>xmet</th>\n",
       "      <th>smet</th>\n",
       "    </tr>\n",
       "  </thead>\n",
       "  <tbody>\n",
       "    <tr>\n",
       "      <th>0</th>\n",
       "      <td>101</td>\n",
       "      <td>A0X40</td>\n",
       "      <td>Agriculteurs</td>\n",
       "      <td>1</td>\n",
       "      <td>971</td>\n",
       "      <td>227</td>\n",
       "      <td>80</td>\n",
       "      <td>128</td>\n",
       "    </tr>\n",
       "    <tr>\n",
       "      <th>1</th>\n",
       "      <td>102</td>\n",
       "      <td>A0X40</td>\n",
       "      <td>Agriculteurs</td>\n",
       "      <td>1</td>\n",
       "      <td>971</td>\n",
       "      <td>91</td>\n",
       "      <td>42</td>\n",
       "      <td>82</td>\n",
       "    </tr>\n",
       "    <tr>\n",
       "      <th>2</th>\n",
       "      <td>105</td>\n",
       "      <td>A0X40</td>\n",
       "      <td>Agriculteurs</td>\n",
       "      <td>1</td>\n",
       "      <td>971</td>\n",
       "      <td>57</td>\n",
       "      <td>52</td>\n",
       "      <td>7</td>\n",
       "    </tr>\n",
       "    <tr>\n",
       "      <th>3</th>\n",
       "      <td>113</td>\n",
       "      <td>A0X40</td>\n",
       "      <td>Agriculteurs</td>\n",
       "      <td>1</td>\n",
       "      <td>971</td>\n",
       "      <td>26</td>\n",
       "      <td>0</td>\n",
       "      <td>26</td>\n",
       "    </tr>\n",
       "    <tr>\n",
       "      <th>4</th>\n",
       "      <td>116</td>\n",
       "      <td>A0X40</td>\n",
       "      <td>Agriculteurs</td>\n",
       "      <td>1</td>\n",
       "      <td>971</td>\n",
       "      <td>0</td>\n",
       "      <td>0</td>\n",
       "      <td>0</td>\n",
       "    </tr>\n",
       "  </tbody>\n",
       "</table>\n",
       "</div>"
      ],
      "text/plain": [
       "  codbe codfap        libfap  code_region code_dep  met  xmet  smet\n",
       "0   101  A0X40  Agriculteurs            1      971  227    80   128\n",
       "1   102  A0X40  Agriculteurs            1      971   91    42    82\n",
       "2   105  A0X40  Agriculteurs            1      971   57    52     7\n",
       "3   113  A0X40  Agriculteurs            1      971   26     0    26\n",
       "4   116  A0X40  Agriculteurs            1      971    0     0     0"
      ]
     },
     "execution_count": 11,
     "metadata": {},
     "output_type": "execute_result"
    }
   ],
   "source": [
    "# Besoin en emploi pas bassin de vie / zone d'emploi\n",
    "# met\tNombre de projet de recrutement \n",
    "# xmet\tNombre de projets de recrutement jugés difficiles\n",
    "# smet\tNombre de projets de recrutement saisonniers\n",
    "bmo_be_france = pd.read_csv('../csv/france_travail_base_open_data_BMO_2025.csv')\n",
    "bmo_be_france = bmo_be_france.rename(columns={'Code métier BMO':'codfap','Nom métier BMO':'libfap','REG': 'code_region', 'Dept':'code_dep','BE25':'codbe', 'NOMBE25':'libbe'})\n",
    "bmo_be_france = bmo_be_france[['codbe','codfap','libfap','code_region','code_dep','met','xmet','smet']]\n",
    "bmo_be_france.codbe = bmo_be_france.codbe.astype('string') \n",
    "bmo_be_france.met = bmo_be_france.met.replace('*','0').astype('Int64')\n",
    "bmo_be_france.xmet = bmo_be_france.xmet.replace('*','0').astype('Int64')\n",
    "bmo_be_france.smet = bmo_be_france.smet.replace('*','0').astype('Int64')\n",
    "bmo_be_france.head()"
   ]
  },
  {
   "cell_type": "code",
   "execution_count": 12,
   "id": "e31e1c72",
   "metadata": {},
   "outputs": [
    {
     "data": {
      "application/vnd.microsoft.datawrangler.viewer.v0+json": {
       "columns": [
        {
         "name": "index",
         "rawType": "int64",
         "type": "integer"
        },
        {
         "name": "nom_region",
         "rawType": "object",
         "type": "string"
        },
        {
         "name": "libfap",
         "rawType": "object",
         "type": "string"
        },
        {
         "name": "codfap",
         "rawType": "object",
         "type": "string"
        },
        {
         "name": "code_region",
         "rawType": "int64",
         "type": "integer"
        }
       ],
       "ref": "cb0a1640-46a3-4a5b-943e-2015d0a4346a",
       "rows": [
        [
         "0",
         "Auvergne-Rhône-Alpes",
         "Agriculteurs salariés",
         "A0Z40",
         "84"
        ],
        [
         "1",
         "Auvergne-Rhône-Alpes",
         "Éleveurs salariés",
         "A0Z41",
         "84"
        ],
        [
         "2",
         "Auvergne-Rhône-Alpes",
         "Maraîchers; horticulteurs salariés",
         "A1Z40",
         "84"
        ],
        [
         "3",
         "Auvergne-Rhône-Alpes",
         "Viticulteurs; arboriculteurs salariés",
         "A1Z42",
         "84"
        ],
        [
         "4",
         "Auvergne-Rhône-Alpes",
         "Agents de maîtrise et assimilés des industries de process",
         "E2Z80",
         "84"
        ]
       ],
       "shape": {
        "columns": 4,
        "rows": 5
       }
      },
      "text/html": [
       "<div>\n",
       "<style scoped>\n",
       "    .dataframe tbody tr th:only-of-type {\n",
       "        vertical-align: middle;\n",
       "    }\n",
       "\n",
       "    .dataframe tbody tr th {\n",
       "        vertical-align: top;\n",
       "    }\n",
       "\n",
       "    .dataframe thead th {\n",
       "        text-align: right;\n",
       "    }\n",
       "</style>\n",
       "<table border=\"1\" class=\"dataframe\">\n",
       "  <thead>\n",
       "    <tr style=\"text-align: right;\">\n",
       "      <th></th>\n",
       "      <th>nom_region</th>\n",
       "      <th>libfap</th>\n",
       "      <th>codfap</th>\n",
       "      <th>code_region</th>\n",
       "    </tr>\n",
       "  </thead>\n",
       "  <tbody>\n",
       "    <tr>\n",
       "      <th>0</th>\n",
       "      <td>Auvergne-Rhône-Alpes</td>\n",
       "      <td>Agriculteurs salariés</td>\n",
       "      <td>A0Z40</td>\n",
       "      <td>84</td>\n",
       "    </tr>\n",
       "    <tr>\n",
       "      <th>1</th>\n",
       "      <td>Auvergne-Rhône-Alpes</td>\n",
       "      <td>Éleveurs salariés</td>\n",
       "      <td>A0Z41</td>\n",
       "      <td>84</td>\n",
       "    </tr>\n",
       "    <tr>\n",
       "      <th>2</th>\n",
       "      <td>Auvergne-Rhône-Alpes</td>\n",
       "      <td>Maraîchers; horticulteurs salariés</td>\n",
       "      <td>A1Z40</td>\n",
       "      <td>84</td>\n",
       "    </tr>\n",
       "    <tr>\n",
       "      <th>3</th>\n",
       "      <td>Auvergne-Rhône-Alpes</td>\n",
       "      <td>Viticulteurs; arboriculteurs salariés</td>\n",
       "      <td>A1Z42</td>\n",
       "      <td>84</td>\n",
       "    </tr>\n",
       "    <tr>\n",
       "      <th>4</th>\n",
       "      <td>Auvergne-Rhône-Alpes</td>\n",
       "      <td>Agents de maîtrise et assimilés des industries...</td>\n",
       "      <td>E2Z80</td>\n",
       "      <td>84</td>\n",
       "    </tr>\n",
       "  </tbody>\n",
       "</table>\n",
       "</div>"
      ],
      "text/plain": [
       "             nom_region                                             libfap  \\\n",
       "0  Auvergne-Rhône-Alpes                              Agriculteurs salariés   \n",
       "1  Auvergne-Rhône-Alpes                                  Éleveurs salariés   \n",
       "2  Auvergne-Rhône-Alpes                 Maraîchers; horticulteurs salariés   \n",
       "3  Auvergne-Rhône-Alpes              Viticulteurs; arboriculteurs salariés   \n",
       "4  Auvergne-Rhône-Alpes  Agents de maîtrise et assimilés des industries...   \n",
       "\n",
       "  codfap  code_region  \n",
       "0  A0Z40           84  \n",
       "1  A0Z41           84  \n",
       "2  A1Z40           84  \n",
       "3  A1Z42           84  \n",
       "4  E2Z80           84  "
      ]
     },
     "execution_count": 12,
     "metadata": {},
     "output_type": "execute_result"
    }
   ],
   "source": [
    "emploi_tension = pd.read_csv('../csv/metiers_en_tension_mars_2024.csv')\n",
    "emploi_tension = emploi_tension.rename({'Region':'nom_region','Code FAP':'codfap','Famille Professionnelle':'libfap'},axis=1)\n",
    "emploi_tension.replace({'Ile-de-France':'Île-de-France'}, inplace=True)\n",
    "\n",
    "regions_insee = pd.read_csv('../csv/insee_region_2022.csv')\n",
    "regions_insee.rename({'LIBELLE':'nom_region','REG':'code_region'}, inplace=True, axis=1)\n",
    "regions_insee = regions_insee[['nom_region','code_region']]\n",
    "\n",
    "emploi_tension = pd.merge(emploi_tension, regions_insee, on='nom_region')\n",
    "emploi_tension.head()"
   ]
  },
  {
   "cell_type": "code",
   "execution_count": 13,
   "id": "8f9e2562",
   "metadata": {},
   "outputs": [
    {
     "data": {
      "application/vnd.microsoft.datawrangler.viewer.v0+json": {
       "columns": [
        {
         "name": "index",
         "rawType": "int64",
         "type": "integer"
        },
        {
         "name": "codbe",
         "rawType": "string",
         "type": "string"
        },
        {
         "name": "codfap",
         "rawType": "object",
         "type": "string"
        },
        {
         "name": "libfap",
         "rawType": "object",
         "type": "string"
        },
        {
         "name": "code_region",
         "rawType": "int64",
         "type": "integer"
        },
        {
         "name": "code_dep",
         "rawType": "object",
         "type": "string"
        },
        {
         "name": "met",
         "rawType": "Int64",
         "type": "integer"
        },
        {
         "name": "xmet",
         "rawType": "Int64",
         "type": "integer"
        },
        {
         "name": "smet",
         "rawType": "Int64",
         "type": "integer"
        },
        {
         "name": "met_tension",
         "rawType": "int64",
         "type": "integer"
        }
       ],
       "ref": "2fdbb5cd-c00c-4e5a-aa54-98ad06677239",
       "rows": [
        [
         "0",
         "101",
         "A0X40",
         "Agriculteurs",
         "1",
         "971",
         "227",
         "80",
         "128",
         "0"
        ],
        [
         "1",
         "102",
         "A0X40",
         "Agriculteurs",
         "1",
         "971",
         "91",
         "42",
         "82",
         "0"
        ],
        [
         "2",
         "105",
         "A0X40",
         "Agriculteurs",
         "1",
         "971",
         "57",
         "52",
         "7",
         "0"
        ],
        [
         "3",
         "113",
         "A0X40",
         "Agriculteurs",
         "1",
         "971",
         "26",
         "0",
         "26",
         "0"
        ],
        [
         "4",
         "116",
         "A0X40",
         "Agriculteurs",
         "1",
         "971",
         "0",
         "0",
         "0",
         "0"
        ]
       ],
       "shape": {
        "columns": 9,
        "rows": 5
       }
      },
      "text/html": [
       "<div>\n",
       "<style scoped>\n",
       "    .dataframe tbody tr th:only-of-type {\n",
       "        vertical-align: middle;\n",
       "    }\n",
       "\n",
       "    .dataframe tbody tr th {\n",
       "        vertical-align: top;\n",
       "    }\n",
       "\n",
       "    .dataframe thead th {\n",
       "        text-align: right;\n",
       "    }\n",
       "</style>\n",
       "<table border=\"1\" class=\"dataframe\">\n",
       "  <thead>\n",
       "    <tr style=\"text-align: right;\">\n",
       "      <th></th>\n",
       "      <th>codbe</th>\n",
       "      <th>codfap</th>\n",
       "      <th>libfap</th>\n",
       "      <th>code_region</th>\n",
       "      <th>code_dep</th>\n",
       "      <th>met</th>\n",
       "      <th>xmet</th>\n",
       "      <th>smet</th>\n",
       "      <th>met_tension</th>\n",
       "    </tr>\n",
       "  </thead>\n",
       "  <tbody>\n",
       "    <tr>\n",
       "      <th>0</th>\n",
       "      <td>101</td>\n",
       "      <td>A0X40</td>\n",
       "      <td>Agriculteurs</td>\n",
       "      <td>1</td>\n",
       "      <td>971</td>\n",
       "      <td>227</td>\n",
       "      <td>80</td>\n",
       "      <td>128</td>\n",
       "      <td>0</td>\n",
       "    </tr>\n",
       "    <tr>\n",
       "      <th>1</th>\n",
       "      <td>102</td>\n",
       "      <td>A0X40</td>\n",
       "      <td>Agriculteurs</td>\n",
       "      <td>1</td>\n",
       "      <td>971</td>\n",
       "      <td>91</td>\n",
       "      <td>42</td>\n",
       "      <td>82</td>\n",
       "      <td>0</td>\n",
       "    </tr>\n",
       "    <tr>\n",
       "      <th>2</th>\n",
       "      <td>105</td>\n",
       "      <td>A0X40</td>\n",
       "      <td>Agriculteurs</td>\n",
       "      <td>1</td>\n",
       "      <td>971</td>\n",
       "      <td>57</td>\n",
       "      <td>52</td>\n",
       "      <td>7</td>\n",
       "      <td>0</td>\n",
       "    </tr>\n",
       "    <tr>\n",
       "      <th>3</th>\n",
       "      <td>113</td>\n",
       "      <td>A0X40</td>\n",
       "      <td>Agriculteurs</td>\n",
       "      <td>1</td>\n",
       "      <td>971</td>\n",
       "      <td>26</td>\n",
       "      <td>0</td>\n",
       "      <td>26</td>\n",
       "      <td>0</td>\n",
       "    </tr>\n",
       "    <tr>\n",
       "      <th>4</th>\n",
       "      <td>116</td>\n",
       "      <td>A0X40</td>\n",
       "      <td>Agriculteurs</td>\n",
       "      <td>1</td>\n",
       "      <td>971</td>\n",
       "      <td>0</td>\n",
       "      <td>0</td>\n",
       "      <td>0</td>\n",
       "      <td>0</td>\n",
       "    </tr>\n",
       "  </tbody>\n",
       "</table>\n",
       "</div>"
      ],
      "text/plain": [
       "  codbe codfap        libfap  code_region code_dep  met  xmet  smet  \\\n",
       "0   101  A0X40  Agriculteurs            1      971  227    80   128   \n",
       "1   102  A0X40  Agriculteurs            1      971   91    42    82   \n",
       "2   105  A0X40  Agriculteurs            1      971   57    52     7   \n",
       "3   113  A0X40  Agriculteurs            1      971   26     0    26   \n",
       "4   116  A0X40  Agriculteurs            1      971    0     0     0   \n",
       "\n",
       "   met_tension  \n",
       "0            0  \n",
       "1            0  \n",
       "2            0  \n",
       "3            0  \n",
       "4            0  "
      ]
     },
     "execution_count": 13,
     "metadata": {},
     "output_type": "execute_result"
    }
   ],
   "source": [
    "#identification des BMO pour métiers en tension vs autres\n",
    "bmo_be_france  = pd.merge(bmo_be_france, emploi_tension.drop('libfap', axis=1), on=['code_region', 'codfap'], how='left')\n",
    "bmo_be_france.nom_region  = np.where(bmo_be_france.nom_region.isna(), 0, bmo_be_france.met)\n",
    "bmo_be_france.rename({'nom_region':'met_tension'}, axis=1, inplace=True)\n",
    "bmo_be_france.head()"
   ]
  },
  {
   "cell_type": "code",
   "execution_count": 14,
   "id": "0d4448c8",
   "metadata": {},
   "outputs": [
    {
     "data": {
      "application/vnd.microsoft.datawrangler.viewer.v0+json": {
       "columns": [
        {
         "name": "index",
         "rawType": "int64",
         "type": "integer"
        },
        {
         "name": "codbe",
         "rawType": "string",
         "type": "string"
        },
        {
         "name": "met",
         "rawType": "Int64",
         "type": "integer"
        },
        {
         "name": "met_tension",
         "rawType": "int64",
         "type": "integer"
        },
        {
         "name": "codfap",
         "rawType": "int64",
         "type": "integer"
        }
       ],
       "ref": "9929daf0-5d3a-48ca-9b28-bd48df92d76b",
       "rows": [
        [
         "0",
         "101",
         "2855",
         "0",
         "129"
        ],
        [
         "1",
         "102",
         "3129",
         "0",
         "109"
        ],
        [
         "2",
         "105",
         "5874",
         "0",
         "148"
        ],
        [
         "3",
         "1107",
         "131328",
         "346",
         "202"
        ],
        [
         "4",
         "1108",
         "3762",
         "42",
         "132"
        ]
       ],
       "shape": {
        "columns": 4,
        "rows": 5
       }
      },
      "text/html": [
       "<div>\n",
       "<style scoped>\n",
       "    .dataframe tbody tr th:only-of-type {\n",
       "        vertical-align: middle;\n",
       "    }\n",
       "\n",
       "    .dataframe tbody tr th {\n",
       "        vertical-align: top;\n",
       "    }\n",
       "\n",
       "    .dataframe thead th {\n",
       "        text-align: right;\n",
       "    }\n",
       "</style>\n",
       "<table border=\"1\" class=\"dataframe\">\n",
       "  <thead>\n",
       "    <tr style=\"text-align: right;\">\n",
       "      <th></th>\n",
       "      <th>codbe</th>\n",
       "      <th>met</th>\n",
       "      <th>met_tension</th>\n",
       "      <th>codfap</th>\n",
       "    </tr>\n",
       "  </thead>\n",
       "  <tbody>\n",
       "    <tr>\n",
       "      <th>0</th>\n",
       "      <td>101</td>\n",
       "      <td>2855</td>\n",
       "      <td>0</td>\n",
       "      <td>129</td>\n",
       "    </tr>\n",
       "    <tr>\n",
       "      <th>1</th>\n",
       "      <td>102</td>\n",
       "      <td>3129</td>\n",
       "      <td>0</td>\n",
       "      <td>109</td>\n",
       "    </tr>\n",
       "    <tr>\n",
       "      <th>2</th>\n",
       "      <td>105</td>\n",
       "      <td>5874</td>\n",
       "      <td>0</td>\n",
       "      <td>148</td>\n",
       "    </tr>\n",
       "    <tr>\n",
       "      <th>3</th>\n",
       "      <td>1107</td>\n",
       "      <td>131328</td>\n",
       "      <td>346</td>\n",
       "      <td>202</td>\n",
       "    </tr>\n",
       "    <tr>\n",
       "      <th>4</th>\n",
       "      <td>1108</td>\n",
       "      <td>3762</td>\n",
       "      <td>42</td>\n",
       "      <td>132</td>\n",
       "    </tr>\n",
       "  </tbody>\n",
       "</table>\n",
       "</div>"
      ],
      "text/plain": [
       "  codbe     met  met_tension  codfap\n",
       "0   101    2855            0     129\n",
       "1   102    3129            0     109\n",
       "2   105    5874            0     148\n",
       "3  1107  131328          346     202\n",
       "4  1108    3762           42     132"
      ]
     },
     "execution_count": 14,
     "metadata": {},
     "output_type": "execute_result"
    }
   ],
   "source": [
    "#Aggrégation par bassin d'emploi (codbe)\n",
    "bmo_be_france_agg = bmo_be_france.groupby(['codbe'], as_index=False).aggregate({'met':'sum','met_tension':'sum', 'codfap':'count'})\n",
    "bmo_be_france_agg.head()"
   ]
  },
  {
   "cell_type": "code",
   "execution_count": 15,
   "id": "8ef3a01c",
   "metadata": {},
   "outputs": [
    {
     "data": {
      "application/vnd.microsoft.datawrangler.viewer.v0+json": {
       "columns": [
        {
         "name": "index",
         "rawType": "int64",
         "type": "integer"
        },
        {
         "name": "codbe",
         "rawType": "string",
         "type": "string"
        },
        {
         "name": "met",
         "rawType": "Int64",
         "type": "integer"
        },
        {
         "name": "met_tension",
         "rawType": "int64",
         "type": "integer"
        },
        {
         "name": "codfap",
         "rawType": "int64",
         "type": "integer"
        },
        {
         "name": "be_codfap_top",
         "rawType": "object",
         "type": "unknown"
        },
        {
         "name": "be_libfap_top",
         "rawType": "object",
         "type": "unknown"
        }
       ],
       "ref": "14bca662-8f67-4f55-b82f-2dfdfd6268d9",
       "rows": [
        [
         "0",
         "101",
         "2855",
         "0",
         "129",
         "['A0X40', 'V0X60', 'R1X60', 'S2X61', 'V1X80', 'S1X20', 'T2A60', 'V5X81', 'B2X32', 'S1X40']",
         "['Agriculteurs', 'Aides-soignants', 'Vendeurs en produits alimentaires', 'Serveurs de cafés restaurants', 'Infirmiers et sages-femmes', 'Aides de cuisine et employés polyvalents de la restauration', 'Aides à domicile et auxiliaires de vie', \"Professionnels de l'animation socioculturelle\", 'Ouvriers en électricité du bâtiment', 'Cuisiniers']"
        ],
        [
         "1",
         "102",
         "3129",
         "0",
         "109",
         "['T2A60', 'U1X91', 'V5X81', 'S1X20', 'S2X61', 'A1X41', 'J3X43', 'A0X40', 'R0X60', 'A1X40']",
         "['Aides à domicile et auxiliaires de vie', 'Artistes (musique, danse, spectacles)', \"Professionnels de l'animation socioculturelle\", 'Aides de cuisine et employés polyvalents de la restauration', 'Serveurs de cafés restaurants', 'Jardiniers des espaces verts et naturels', 'Conducteurs routiers', 'Agriculteurs', 'Employés de libre service', 'Maraîchers et horticulteurs']"
        ],
        [
         "2",
         "105",
         "5874",
         "0",
         "148",
         "['R0X60', 'S1X20', 'T3X61', 'U1X91', 'V5X81', 'L0X60', 'L2X61', 'T2A60', 'R3X80', 'W1X80']",
         "['Employés de libre service', 'Aides de cuisine et employés polyvalents de la restauration', 'Agents de sécurité et de surveillance', 'Artistes (musique, danse, spectacles)', \"Professionnels de l'animation socioculturelle\", 'Secrétaires bureautiques et assimilés', 'Agents administratifs', 'Aides à domicile et auxiliaires de vie', 'Maîtrise des magasins', 'Formateurs']"
        ],
        [
         "3",
         "1107",
         "131328",
         "346",
         "202",
         "['S2X61', 'S1X20', 'L2X60', 'U1X91', 'U1X80', 'M2X90', 'S2X60', 'L5X90', 'L2X61', 'S1X40']",
         "['Serveurs de cafés restaurants', 'Aides de cuisine et employés polyvalents de la restauration', \"Agents d'accueil et d'information\", 'Artistes (musique, danse, spectacles)', 'Professionnels des spectacles', \"Ingénieurs et cadres d'étude, recherche et développement en informatique et télécom\", \"Employés de l'hôtellerie\", 'Cadres administratifs, comptables et financiers (hors juristes)', 'Agents administratifs', 'Cuisiniers']"
        ],
        [
         "4",
         "1108",
         "3762",
         "42",
         "132",
         "['S1X20', 'S2X61', 'T2A60', 'R0X60', 'V0X60', 'V5X81', 'A1X41', 'S2X60', 'A0X40', 'T1X60']",
         "['Aides de cuisine et employés polyvalents de la restauration', 'Serveurs de cafés restaurants', 'Aides à domicile et auxiliaires de vie', 'Employés de libre service', 'Aides-soignants', \"Professionnels de l'animation socioculturelle\", 'Jardiniers des espaces verts et naturels', \"Employés de l'hôtellerie\", 'Agriculteurs', 'Personnels de ménage chez des particuliers']"
        ]
       ],
       "shape": {
        "columns": 6,
        "rows": 5
       }
      },
      "text/html": [
       "<div>\n",
       "<style scoped>\n",
       "    .dataframe tbody tr th:only-of-type {\n",
       "        vertical-align: middle;\n",
       "    }\n",
       "\n",
       "    .dataframe tbody tr th {\n",
       "        vertical-align: top;\n",
       "    }\n",
       "\n",
       "    .dataframe thead th {\n",
       "        text-align: right;\n",
       "    }\n",
       "</style>\n",
       "<table border=\"1\" class=\"dataframe\">\n",
       "  <thead>\n",
       "    <tr style=\"text-align: right;\">\n",
       "      <th></th>\n",
       "      <th>codbe</th>\n",
       "      <th>met</th>\n",
       "      <th>met_tension</th>\n",
       "      <th>codfap</th>\n",
       "      <th>be_codfap_top</th>\n",
       "      <th>be_libfap_top</th>\n",
       "    </tr>\n",
       "  </thead>\n",
       "  <tbody>\n",
       "    <tr>\n",
       "      <th>0</th>\n",
       "      <td>101</td>\n",
       "      <td>2855</td>\n",
       "      <td>0</td>\n",
       "      <td>129</td>\n",
       "      <td>[A0X40, V0X60, R1X60, S2X61, V1X80, S1X20, T2A...</td>\n",
       "      <td>[Agriculteurs, Aides-soignants, Vendeurs en pr...</td>\n",
       "    </tr>\n",
       "    <tr>\n",
       "      <th>1</th>\n",
       "      <td>102</td>\n",
       "      <td>3129</td>\n",
       "      <td>0</td>\n",
       "      <td>109</td>\n",
       "      <td>[T2A60, U1X91, V5X81, S1X20, S2X61, A1X41, J3X...</td>\n",
       "      <td>[Aides à domicile et auxiliaires de vie, Artis...</td>\n",
       "    </tr>\n",
       "    <tr>\n",
       "      <th>2</th>\n",
       "      <td>105</td>\n",
       "      <td>5874</td>\n",
       "      <td>0</td>\n",
       "      <td>148</td>\n",
       "      <td>[R0X60, S1X20, T3X61, U1X91, V5X81, L0X60, L2X...</td>\n",
       "      <td>[Employés de libre service, Aides de cuisine e...</td>\n",
       "    </tr>\n",
       "    <tr>\n",
       "      <th>3</th>\n",
       "      <td>1107</td>\n",
       "      <td>131328</td>\n",
       "      <td>346</td>\n",
       "      <td>202</td>\n",
       "      <td>[S2X61, S1X20, L2X60, U1X91, U1X80, M2X90, S2X...</td>\n",
       "      <td>[Serveurs de cafés restaurants, Aides de cuisi...</td>\n",
       "    </tr>\n",
       "    <tr>\n",
       "      <th>4</th>\n",
       "      <td>1108</td>\n",
       "      <td>3762</td>\n",
       "      <td>42</td>\n",
       "      <td>132</td>\n",
       "      <td>[S1X20, S2X61, T2A60, R0X60, V0X60, V5X81, A1X...</td>\n",
       "      <td>[Aides de cuisine et employés polyvalents de l...</td>\n",
       "    </tr>\n",
       "  </tbody>\n",
       "</table>\n",
       "</div>"
      ],
      "text/plain": [
       "  codbe     met  met_tension  codfap  \\\n",
       "0   101    2855            0     129   \n",
       "1   102    3129            0     109   \n",
       "2   105    5874            0     148   \n",
       "3  1107  131328          346     202   \n",
       "4  1108    3762           42     132   \n",
       "\n",
       "                                       be_codfap_top  \\\n",
       "0  [A0X40, V0X60, R1X60, S2X61, V1X80, S1X20, T2A...   \n",
       "1  [T2A60, U1X91, V5X81, S1X20, S2X61, A1X41, J3X...   \n",
       "2  [R0X60, S1X20, T3X61, U1X91, V5X81, L0X60, L2X...   \n",
       "3  [S2X61, S1X20, L2X60, U1X91, U1X80, M2X90, S2X...   \n",
       "4  [S1X20, S2X61, T2A60, R0X60, V0X60, V5X81, A1X...   \n",
       "\n",
       "                                       be_libfap_top  \n",
       "0  [Agriculteurs, Aides-soignants, Vendeurs en pr...  \n",
       "1  [Aides à domicile et auxiliaires de vie, Artis...  \n",
       "2  [Employés de libre service, Aides de cuisine e...  \n",
       "3  [Serveurs de cafés restaurants, Aides de cuisi...  \n",
       "4  [Aides de cuisine et employés polyvalents de l...  "
      ]
     },
     "execution_count": 15,
     "metadata": {},
     "output_type": "execute_result"
    }
   ],
   "source": [
    "#Ajout des top N metiers demandés\n",
    "n=10\n",
    "bmo_be_france_topn = bmo_be_france.sort_values('met', ascending=False).groupby('codbe').head(n)\n",
    "bmo_be_france_topn = bmo_be_france_topn[['codbe','codfap','libfap']].groupby('codbe').agg(list)\n",
    "bmo_be_france_topn.rename(columns={'codfap':'be_codfap_top','libfap':'be_libfap_top'}, inplace=True)\n",
    "\n",
    "bmo_be_france_agg = pd.merge(bmo_be_france_agg, bmo_be_france_topn, on='codbe', how='left')\n",
    "bmo_be_france_agg.head()"
   ]
  },
  {
   "cell_type": "code",
   "execution_count": 16,
   "id": "7d732564",
   "metadata": {},
   "outputs": [
    {
     "data": {
      "application/vnd.microsoft.datawrangler.viewer.v0+json": {
       "columns": [
        {
         "name": "index",
         "rawType": "int64",
         "type": "integer"
        },
        {
         "name": "codbe",
         "rawType": "string",
         "type": "string"
        },
        {
         "name": "met",
         "rawType": "Int64",
         "type": "integer"
        },
        {
         "name": "met_tension",
         "rawType": "int64",
         "type": "integer"
        },
        {
         "name": "codfap",
         "rawType": "int64",
         "type": "integer"
        },
        {
         "name": "be_codfap_top",
         "rawType": "object",
         "type": "unknown"
        },
        {
         "name": "be_libfap_top",
         "rawType": "object",
         "type": "unknown"
        },
        {
         "name": "pop_be",
         "rawType": "float64",
         "type": "float"
        }
       ],
       "ref": "6bbb4981-bc21-4661-998b-f4a7ae04a002",
       "rows": [
        [
         "3",
         "1107",
         "131328",
         "346",
         "202",
         "['S2X61', 'S1X20', 'L2X60', 'U1X91', 'U1X80', 'M2X90', 'S2X60', 'L5X90', 'L2X61', 'S1X40']",
         "['Serveurs de cafés restaurants', 'Aides de cuisine et employés polyvalents de la restauration', \"Agents d'accueil et d'information\", 'Artistes (musique, danse, spectacles)', 'Professionnels des spectacles', \"Ingénieurs et cadres d'étude, recherche et développement en informatique et télécom\", \"Employés de l'hôtellerie\", 'Cadres administratifs, comptables et financiers (hors juristes)', 'Agents administratifs', 'Cuisiniers']",
         "2133111.0"
        ],
        [
         "4",
         "1108",
         "3762",
         "42",
         "132",
         "['S1X20', 'S2X61', 'T2A60', 'R0X60', 'V0X60', 'V5X81', 'A1X41', 'S2X60', 'A0X40', 'T1X60']",
         "['Aides de cuisine et employés polyvalents de la restauration', 'Serveurs de cafés restaurants', 'Aides à domicile et auxiliaires de vie', 'Employés de libre service', 'Aides-soignants', \"Professionnels de l'animation socioculturelle\", 'Jardiniers des espaces verts et naturels', \"Employés de l'hôtellerie\", 'Agriculteurs', 'Personnels de ménage chez des particuliers']",
         "201762.0"
        ],
        [
         "5",
         "1109",
         "3483",
         "94",
         "122",
         "['T4X60', 'U1X91', 'T2A60', 'R0X60', 'A1X41', 'G0A40', 'S1X20', 'R1X60', 'T1X60', 'R2X80']",
         "[\"Agents d'entretien de locaux\", 'Artistes (musique, danse, spectacles)', 'Aides à domicile et auxiliaires de vie', 'Employés de libre service', 'Jardiniers des espaces verts et naturels', 'Ouvriers de la maintenance générale et mécanique', 'Aides de cuisine et employés polyvalents de la restauration', 'Vendeurs en produits alimentaires', 'Personnels de ménage chez des particuliers', 'Attachés commerciaux']",
         "144581.0"
        ],
        [
         "6",
         "1115",
         "4365",
         "40",
         "152",
         "['J0X33', 'V5X81', 'S1X20', 'V1X80', 'V0X60', 'S2X61', 'R0X60', 'V4X83', 'T2A60', 'J3X42']",
         "['Magasiniers et préparateurs de commandes peu qualifiés', \"Professionnels de l'animation socioculturelle\", 'Aides de cuisine et employés polyvalents de la restauration', 'Infirmiers et sages-femmes', 'Aides-soignants', 'Serveurs de cafés restaurants', 'Employés de libre service', 'Educateurs spécialisés et autres intervenants socio-éducatifs', 'Aides à domicile et auxiliaires de vie', 'Conducteurs et livreurs sur courte distance (hors distribution de documents)']",
         "176665.0"
        ],
        [
         "7",
         "1116",
         "2955",
         "29",
         "116",
         "['A0X40', 'V5X81', 'U1X91', 'A1X42', 'V0X60', 'M2X90', 'T1X60', 'J3X43', 'J0X32', 'E3X20']",
         "['Agriculteurs', \"Professionnels de l'animation socioculturelle\", 'Artistes (musique, danse, spectacles)', 'Viticulteurs, arboriculteurs', 'Aides-soignants', \"Ingénieurs et cadres d'étude, recherche et développement en informatique et télécom\", 'Personnels de ménage chez des particuliers', 'Conducteurs routiers', 'Conducteurs d’engins légers de déplacement de charges, cariste', 'Ouviers peu qualifiés des industries agro-alimentaires']",
         "150292.0"
        ]
       ],
       "shape": {
        "columns": 7,
        "rows": 5
       }
      },
      "text/html": [
       "<div>\n",
       "<style scoped>\n",
       "    .dataframe tbody tr th:only-of-type {\n",
       "        vertical-align: middle;\n",
       "    }\n",
       "\n",
       "    .dataframe tbody tr th {\n",
       "        vertical-align: top;\n",
       "    }\n",
       "\n",
       "    .dataframe thead th {\n",
       "        text-align: right;\n",
       "    }\n",
       "</style>\n",
       "<table border=\"1\" class=\"dataframe\">\n",
       "  <thead>\n",
       "    <tr style=\"text-align: right;\">\n",
       "      <th></th>\n",
       "      <th>codbe</th>\n",
       "      <th>met</th>\n",
       "      <th>met_tension</th>\n",
       "      <th>codfap</th>\n",
       "      <th>be_codfap_top</th>\n",
       "      <th>be_libfap_top</th>\n",
       "      <th>pop_be</th>\n",
       "    </tr>\n",
       "  </thead>\n",
       "  <tbody>\n",
       "    <tr>\n",
       "      <th>3</th>\n",
       "      <td>1107</td>\n",
       "      <td>131328</td>\n",
       "      <td>346</td>\n",
       "      <td>202</td>\n",
       "      <td>[S2X61, S1X20, L2X60, U1X91, U1X80, M2X90, S2X...</td>\n",
       "      <td>[Serveurs de cafés restaurants, Aides de cuisi...</td>\n",
       "      <td>2133111.0</td>\n",
       "    </tr>\n",
       "    <tr>\n",
       "      <th>4</th>\n",
       "      <td>1108</td>\n",
       "      <td>3762</td>\n",
       "      <td>42</td>\n",
       "      <td>132</td>\n",
       "      <td>[S1X20, S2X61, T2A60, R0X60, V0X60, V5X81, A1X...</td>\n",
       "      <td>[Aides de cuisine et employés polyvalents de l...</td>\n",
       "      <td>201762.0</td>\n",
       "    </tr>\n",
       "    <tr>\n",
       "      <th>5</th>\n",
       "      <td>1109</td>\n",
       "      <td>3483</td>\n",
       "      <td>94</td>\n",
       "      <td>122</td>\n",
       "      <td>[T4X60, U1X91, T2A60, R0X60, A1X41, G0A40, S1X...</td>\n",
       "      <td>[Agents d'entretien de locaux, Artistes (musiq...</td>\n",
       "      <td>144581.0</td>\n",
       "    </tr>\n",
       "    <tr>\n",
       "      <th>6</th>\n",
       "      <td>1115</td>\n",
       "      <td>4365</td>\n",
       "      <td>40</td>\n",
       "      <td>152</td>\n",
       "      <td>[J0X33, V5X81, S1X20, V1X80, V0X60, S2X61, R0X...</td>\n",
       "      <td>[Magasiniers et préparateurs de commandes peu ...</td>\n",
       "      <td>176665.0</td>\n",
       "    </tr>\n",
       "    <tr>\n",
       "      <th>7</th>\n",
       "      <td>1116</td>\n",
       "      <td>2955</td>\n",
       "      <td>29</td>\n",
       "      <td>116</td>\n",
       "      <td>[A0X40, V5X81, U1X91, A1X42, V0X60, M2X90, T1X...</td>\n",
       "      <td>[Agriculteurs, Professionnels de l'animation s...</td>\n",
       "      <td>150292.0</td>\n",
       "    </tr>\n",
       "  </tbody>\n",
       "</table>\n",
       "</div>"
      ],
      "text/plain": [
       "  codbe     met  met_tension  codfap  \\\n",
       "3  1107  131328          346     202   \n",
       "4  1108    3762           42     132   \n",
       "5  1109    3483           94     122   \n",
       "6  1115    4365           40     152   \n",
       "7  1116    2955           29     116   \n",
       "\n",
       "                                       be_codfap_top  \\\n",
       "3  [S2X61, S1X20, L2X60, U1X91, U1X80, M2X90, S2X...   \n",
       "4  [S1X20, S2X61, T2A60, R0X60, V0X60, V5X81, A1X...   \n",
       "5  [T4X60, U1X91, T2A60, R0X60, A1X41, G0A40, S1X...   \n",
       "6  [J0X33, V5X81, S1X20, V1X80, V0X60, S2X61, R0X...   \n",
       "7  [A0X40, V5X81, U1X91, A1X42, V0X60, M2X90, T1X...   \n",
       "\n",
       "                                       be_libfap_top     pop_be  \n",
       "3  [Serveurs de cafés restaurants, Aides de cuisi...  2133111.0  \n",
       "4  [Aides de cuisine et employés polyvalents de l...   201762.0  \n",
       "5  [Agents d'entretien de locaux, Artistes (musiq...   144581.0  \n",
       "6  [Magasiniers et préparateurs de commandes peu ...   176665.0  \n",
       "7  [Agriculteurs, Professionnels de l'animation s...   150292.0  "
      ]
     },
     "execution_count": 16,
     "metadata": {},
     "output_type": "execute_result"
    }
   ],
   "source": [
    "#Ajout de la population du bassin d'emploi\n",
    "bmo_be_france_agg = bmo_be_france_agg.merge(pop_be, on='codbe', how='left')\n",
    "bmo_be_france_agg.dropna(inplace=True) # Restricte à la métropole\n",
    "bmo_be_france_agg.head()"
   ]
  },
  {
   "cell_type": "markdown",
   "id": "2cfa8977",
   "metadata": {},
   "source": [
    "## Formation"
   ]
  },
  {
   "cell_type": "code",
   "execution_count": 17,
   "id": "f636ef1b",
   "metadata": {},
   "outputs": [],
   "source": [
    "# source: https://www.data.gouv.fr/fr/datasets/liste-publique-des-organismes-de-formation-l-6351-7-1-du-code-du-travail/\n",
    "# We need to merge this data with the main dataframe using the code postal\n",
    "centres_formations = pd.read_csv('../csv/public_ofs_v2.csv', delimiter=';', low_memory=False)\n",
    "centres_formations['codes_formations'] = centres_formations[\n",
    "    ['informationsDeclarees.specialitesDeFormation.codeSpecialite1',\n",
    "     'informationsDeclarees.specialitesDeFormation.codeSpecialite2',\n",
    "     'informationsDeclarees.specialitesDeFormation.codeSpecialite3']\n",
    "     ].apply(lambda row: [int(x) for x in row if pd.notna(x)], axis=1)\n",
    "centres_formations['noms_formations']= centres_formations[\n",
    "    ['informationsDeclarees.specialitesDeFormation.libelleSpecialite1',\n",
    "     'informationsDeclarees.specialitesDeFormation.libelleSpecialite2',\n",
    "     'informationsDeclarees.specialitesDeFormation.libelleSpecialite3']\n",
    "     ].apply(lambda row: [x for x in row if pd.notna(x)], axis=1)\n",
    "centres_formations = centres_formations.rename({'adressePhysiqueOrganismeFormation.codePostal':'codepostal'}, axis=1)\n",
    "centres_formations = centres_formations.dropna(subset=['codepostal'])\n",
    "centres_formations = centres_formations[['siren','codepostal','codes_formations', 'noms_formations']]\n",
    "\n",
    "centres_formations.codepostal = centres_formations.codepostal.astype(int).astype(str)"
   ]
  },
  {
   "cell_type": "code",
   "execution_count": 18,
   "id": "14bd6825",
   "metadata": {},
   "outputs": [],
   "source": [
    "# for each codgeo gathering all the possible codes formations\n",
    "formations = geo[['codgeo', 'codes_postaux']].copy()\n",
    "formations.codes_postaux = formations.codes_postaux.str.split(',')\n",
    "formations = pd.merge(formations.explode('codes_postaux'), centres_formations, left_on='codes_postaux', right_on='codepostal', how='inner').drop(columns={'codepostal','codes_postaux'})\n",
    "formations = formations.groupby('codgeo', as_index=False).aggregate({'codes_formations':'sum', 'noms_formations':'sum'})\n",
    "\n",
    "#cleaning up the list of codes formations\n",
    "def codes_formations_cleanup(df):\n",
    "    myset = set(df.tolist())\n",
    "    myset.discard(0)\n",
    "    return list(myset)\n",
    "\n",
    "formations.codes_formations = formations.codes_formations#.apply(codes_formations_cleanup)"
   ]
  },
  {
   "cell_type": "markdown",
   "id": "78a22e27",
   "metadata": {},
   "source": [
    "## Education"
   ]
  },
  {
   "cell_type": "code",
   "execution_count": 19,
   "id": "23ec2dca",
   "metadata": {},
   "outputs": [
    {
     "data": {
      "application/vnd.microsoft.datawrangler.viewer.v0+json": {
       "columns": [
        {
         "name": "index",
         "rawType": "int64",
         "type": "integer"
        },
        {
         "name": "codgeo",
         "rawType": "object",
         "type": "string"
        },
        {
         "name": "numero_ecole",
         "rawType": "object",
         "type": "string"
        },
        {
         "name": "mat_ct",
         "rawType": "int64",
         "type": "integer"
        },
        {
         "name": "cp_ct",
         "rawType": "int64",
         "type": "integer"
        },
        {
         "name": "ce1_ct",
         "rawType": "int64",
         "type": "integer"
        },
        {
         "name": "ce2_ct",
         "rawType": "int64",
         "type": "integer"
        },
        {
         "name": "cm1_ct",
         "rawType": "int64",
         "type": "integer"
        },
        {
         "name": "cm2_ct",
         "rawType": "int64",
         "type": "integer"
        }
       ],
       "ref": "8d82e99b-d1ce-4e40-bf29-f42c2dd41162",
       "rows": [
        [
         "0",
         "04001",
         "0040057R",
         "33",
         "8",
         "17",
         "10",
         "16",
         "19"
        ],
        [
         "1",
         "06001",
         "0040057R",
         "33",
         "8",
         "17",
         "10",
         "16",
         "19"
        ],
        [
         "2",
         "04004",
         "0040058S",
         "24",
         "10",
         "4",
         "6",
         "0",
         "0"
        ],
        [
         "3",
         "04006",
         "0040059T",
         "5",
         "3",
         "2",
         "1",
         "4",
         "3"
        ],
        [
         "4",
         "04008",
         "0040064Y",
         "42",
         "8",
         "15",
         "15",
         "19",
         "19"
        ]
       ],
       "shape": {
        "columns": 8,
        "rows": 5
       }
      },
      "text/html": [
       "<div>\n",
       "<style scoped>\n",
       "    .dataframe tbody tr th:only-of-type {\n",
       "        vertical-align: middle;\n",
       "    }\n",
       "\n",
       "    .dataframe tbody tr th {\n",
       "        vertical-align: top;\n",
       "    }\n",
       "\n",
       "    .dataframe thead th {\n",
       "        text-align: right;\n",
       "    }\n",
       "</style>\n",
       "<table border=\"1\" class=\"dataframe\">\n",
       "  <thead>\n",
       "    <tr style=\"text-align: right;\">\n",
       "      <th></th>\n",
       "      <th>codgeo</th>\n",
       "      <th>numero_ecole</th>\n",
       "      <th>mat_ct</th>\n",
       "      <th>cp_ct</th>\n",
       "      <th>ce1_ct</th>\n",
       "      <th>ce2_ct</th>\n",
       "      <th>cm1_ct</th>\n",
       "      <th>cm2_ct</th>\n",
       "    </tr>\n",
       "  </thead>\n",
       "  <tbody>\n",
       "    <tr>\n",
       "      <th>0</th>\n",
       "      <td>04001</td>\n",
       "      <td>0040057R</td>\n",
       "      <td>33</td>\n",
       "      <td>8</td>\n",
       "      <td>17</td>\n",
       "      <td>10</td>\n",
       "      <td>16</td>\n",
       "      <td>19</td>\n",
       "    </tr>\n",
       "    <tr>\n",
       "      <th>1</th>\n",
       "      <td>06001</td>\n",
       "      <td>0040057R</td>\n",
       "      <td>33</td>\n",
       "      <td>8</td>\n",
       "      <td>17</td>\n",
       "      <td>10</td>\n",
       "      <td>16</td>\n",
       "      <td>19</td>\n",
       "    </tr>\n",
       "    <tr>\n",
       "      <th>2</th>\n",
       "      <td>04004</td>\n",
       "      <td>0040058S</td>\n",
       "      <td>24</td>\n",
       "      <td>10</td>\n",
       "      <td>4</td>\n",
       "      <td>6</td>\n",
       "      <td>0</td>\n",
       "      <td>0</td>\n",
       "    </tr>\n",
       "    <tr>\n",
       "      <th>3</th>\n",
       "      <td>04006</td>\n",
       "      <td>0040059T</td>\n",
       "      <td>5</td>\n",
       "      <td>3</td>\n",
       "      <td>2</td>\n",
       "      <td>1</td>\n",
       "      <td>4</td>\n",
       "      <td>3</td>\n",
       "    </tr>\n",
       "    <tr>\n",
       "      <th>4</th>\n",
       "      <td>04008</td>\n",
       "      <td>0040064Y</td>\n",
       "      <td>42</td>\n",
       "      <td>8</td>\n",
       "      <td>15</td>\n",
       "      <td>15</td>\n",
       "      <td>19</td>\n",
       "      <td>19</td>\n",
       "    </tr>\n",
       "  </tbody>\n",
       "</table>\n",
       "</div>"
      ],
      "text/plain": [
       "  codgeo numero_ecole  mat_ct  cp_ct  ce1_ct  ce2_ct  cm1_ct  cm2_ct\n",
       "0  04001     0040057R      33      8      17      10      16      19\n",
       "1  06001     0040057R      33      8      17      10      16      19\n",
       "2  04004     0040058S      24     10       4       6       0       0\n",
       "3  04006     0040059T       5      3       2       1       4       3\n",
       "4  04008     0040064Y      42      8      15      15      19      19"
      ]
     },
     "execution_count": 19,
     "metadata": {},
     "output_type": "execute_result"
    }
   ],
   "source": [
    "effectifs_ecoles = pd.read_parquet('../csv/fr-en-ecoles-effectifs-nb_classes.parquet')\n",
    "effectifs_ecoles.rename(columns={\n",
    "    'nombre_eleves_preelementaire_hors_ulis':'mat_ct',\n",
    "    'nombre_eleves_cp_hors_ulis':'cp_ct',\n",
    "    'nombre_eleves_ce1_hors_ulis':'ce1_ct',\n",
    "    'nombre_eleves_ce2_hors_ulis':'ce2_ct',\n",
    "    'nombre_eleves_cm1_hors_ulis':'cm1_ct',\n",
    "    'nombre_eleves_cm2_hors_ulis':'cm2_ct',\n",
    "}, inplace=True)\n",
    "# On effectue notre merge sur le nom de la commune (horrible...)\n",
    "effectifs_ecoles = pd.merge(effectifs_ecoles[effectifs_ecoles.rentree_scolaire == '2023'], pop, left_on='commune', right_on=pop.libgeo.apply(unidecode).str.upper(), how='left')\n",
    "effectifs_ecoles.reset_index()\n",
    "effectifs_ecoles = effectifs_ecoles[['codgeo','numero_ecole','mat_ct','cp_ct','ce1_ct','ce2_ct','cm1_ct','cm2_ct']]\n",
    "effectifs_ecoles.head()"
   ]
  },
  {
   "cell_type": "code",
   "execution_count": 20,
   "id": "d7dc7f8c",
   "metadata": {},
   "outputs": [
    {
     "data": {
      "application/vnd.microsoft.datawrangler.viewer.v0+json": {
       "columns": [
        {
         "name": "index",
         "rawType": "int64",
         "type": "integer"
        },
        {
         "name": "codgeo",
         "rawType": "object",
         "type": "string"
        },
        {
         "name": "numero_ecole",
         "rawType": "object",
         "type": "string"
        },
        {
         "name": "mat_ct",
         "rawType": "int64",
         "type": "integer"
        },
        {
         "name": "cp_ct",
         "rawType": "int64",
         "type": "integer"
        },
        {
         "name": "ce1_ct",
         "rawType": "int64",
         "type": "integer"
        },
        {
         "name": "ce2_ct",
         "rawType": "int64",
         "type": "integer"
        },
        {
         "name": "cm1_ct",
         "rawType": "int64",
         "type": "integer"
        },
        {
         "name": "cm2_ct",
         "rawType": "int64",
         "type": "integer"
        },
        {
         "name": "risque_fermeture",
         "rawType": "int64",
         "type": "integer"
        }
       ],
       "ref": "1a5cd718-4c1e-4e33-892c-0170aa49ee80",
       "rows": [
        [
         "0",
         "04001",
         "0040057R",
         "33",
         "8",
         "17",
         "10",
         "16",
         "19",
         "2"
        ],
        [
         "1",
         "06001",
         "0040057R",
         "33",
         "8",
         "17",
         "10",
         "16",
         "19",
         "2"
        ],
        [
         "2",
         "04004",
         "0040058S",
         "24",
         "10",
         "4",
         "6",
         "0",
         "0",
         "5"
        ],
        [
         "3",
         "04006",
         "0040059T",
         "5",
         "3",
         "2",
         "1",
         "4",
         "3",
         "6"
        ],
        [
         "4",
         "04008",
         "0040064Y",
         "42",
         "8",
         "15",
         "15",
         "19",
         "19",
         "1"
        ],
        [
         "5",
         "04013",
         "0040065Z",
         "0",
         "9",
         "17",
         "11",
         "16",
         "8",
         "4"
        ],
        [
         "6",
         "04018",
         "0040067B",
         "39",
         "12",
         "11",
         "12",
         "9",
         "13",
         "5"
        ],
        [
         "7",
         "04019",
         "0040070E",
         "45",
         "0",
         "0",
         "0",
         "0",
         "0",
         "5"
        ],
        [
         "8",
         "04019",
         "0040159B",
         "30",
         "11",
         "10",
         "18",
         "8",
         "12",
         "4"
        ],
        [
         "9",
         "04019",
         "0040068C",
         "0",
         "19",
         "18",
         "21",
         "18",
         "28",
         "1"
        ],
        [
         "10",
         "04020",
         "0040071F",
         "3",
         "4",
         "2",
         "0",
         "0",
         "2",
         "6"
        ],
        [
         "11",
         "04021",
         "0040072G",
         "0",
         "0",
         "0",
         "8",
         "4",
         "6",
         "6"
        ],
        [
         "12",
         "04022",
         "0040073H",
         "21",
         "2",
         "6",
         "8",
         "7",
         "5",
         "5"
        ],
        [
         "13",
         "04027",
         "0040078N",
         "0",
         "0",
         "0",
         "0",
         "0",
         "13",
         "6"
        ],
        [
         "14",
         "04031",
         "0040082T",
         "19",
         "9",
         "10",
         "9",
         "5",
         "10",
         "5"
        ],
        [
         "15",
         "04039",
         "0040090B",
         "0",
         "15",
         "17",
         "16",
         "16",
         "19",
         "1"
        ],
        [
         "16",
         "04039",
         "0040371G",
         "48",
         "0",
         "0",
         "0",
         "0",
         "0",
         "5"
        ],
        [
         "17",
         "04045",
         "0040094F",
         "34",
         "12",
         "8",
         "8",
         "10",
         "10",
         "5"
        ],
        [
         "18",
         "04047",
         "0040096H",
         "22",
         "9",
         "5",
         "16",
         "8",
         "7",
         "4"
        ],
        [
         "19",
         "04049",
         "0040101N",
         "57",
         "0",
         "0",
         "0",
         "0",
         "0",
         "5"
        ]
       ],
       "shape": {
        "columns": 9,
        "rows": 20
       }
      },
      "text/html": [
       "<div>\n",
       "<style scoped>\n",
       "    .dataframe tbody tr th:only-of-type {\n",
       "        vertical-align: middle;\n",
       "    }\n",
       "\n",
       "    .dataframe tbody tr th {\n",
       "        vertical-align: top;\n",
       "    }\n",
       "\n",
       "    .dataframe thead th {\n",
       "        text-align: right;\n",
       "    }\n",
       "</style>\n",
       "<table border=\"1\" class=\"dataframe\">\n",
       "  <thead>\n",
       "    <tr style=\"text-align: right;\">\n",
       "      <th></th>\n",
       "      <th>codgeo</th>\n",
       "      <th>numero_ecole</th>\n",
       "      <th>mat_ct</th>\n",
       "      <th>cp_ct</th>\n",
       "      <th>ce1_ct</th>\n",
       "      <th>ce2_ct</th>\n",
       "      <th>cm1_ct</th>\n",
       "      <th>cm2_ct</th>\n",
       "      <th>risque_fermeture</th>\n",
       "    </tr>\n",
       "  </thead>\n",
       "  <tbody>\n",
       "    <tr>\n",
       "      <th>0</th>\n",
       "      <td>04001</td>\n",
       "      <td>0040057R</td>\n",
       "      <td>33</td>\n",
       "      <td>8</td>\n",
       "      <td>17</td>\n",
       "      <td>10</td>\n",
       "      <td>16</td>\n",
       "      <td>19</td>\n",
       "      <td>2</td>\n",
       "    </tr>\n",
       "    <tr>\n",
       "      <th>1</th>\n",
       "      <td>06001</td>\n",
       "      <td>0040057R</td>\n",
       "      <td>33</td>\n",
       "      <td>8</td>\n",
       "      <td>17</td>\n",
       "      <td>10</td>\n",
       "      <td>16</td>\n",
       "      <td>19</td>\n",
       "      <td>2</td>\n",
       "    </tr>\n",
       "    <tr>\n",
       "      <th>2</th>\n",
       "      <td>04004</td>\n",
       "      <td>0040058S</td>\n",
       "      <td>24</td>\n",
       "      <td>10</td>\n",
       "      <td>4</td>\n",
       "      <td>6</td>\n",
       "      <td>0</td>\n",
       "      <td>0</td>\n",
       "      <td>5</td>\n",
       "    </tr>\n",
       "    <tr>\n",
       "      <th>3</th>\n",
       "      <td>04006</td>\n",
       "      <td>0040059T</td>\n",
       "      <td>5</td>\n",
       "      <td>3</td>\n",
       "      <td>2</td>\n",
       "      <td>1</td>\n",
       "      <td>4</td>\n",
       "      <td>3</td>\n",
       "      <td>6</td>\n",
       "    </tr>\n",
       "    <tr>\n",
       "      <th>4</th>\n",
       "      <td>04008</td>\n",
       "      <td>0040064Y</td>\n",
       "      <td>42</td>\n",
       "      <td>8</td>\n",
       "      <td>15</td>\n",
       "      <td>15</td>\n",
       "      <td>19</td>\n",
       "      <td>19</td>\n",
       "      <td>1</td>\n",
       "    </tr>\n",
       "    <tr>\n",
       "      <th>5</th>\n",
       "      <td>04013</td>\n",
       "      <td>0040065Z</td>\n",
       "      <td>0</td>\n",
       "      <td>9</td>\n",
       "      <td>17</td>\n",
       "      <td>11</td>\n",
       "      <td>16</td>\n",
       "      <td>8</td>\n",
       "      <td>4</td>\n",
       "    </tr>\n",
       "    <tr>\n",
       "      <th>6</th>\n",
       "      <td>04018</td>\n",
       "      <td>0040067B</td>\n",
       "      <td>39</td>\n",
       "      <td>12</td>\n",
       "      <td>11</td>\n",
       "      <td>12</td>\n",
       "      <td>9</td>\n",
       "      <td>13</td>\n",
       "      <td>5</td>\n",
       "    </tr>\n",
       "    <tr>\n",
       "      <th>7</th>\n",
       "      <td>04019</td>\n",
       "      <td>0040070E</td>\n",
       "      <td>45</td>\n",
       "      <td>0</td>\n",
       "      <td>0</td>\n",
       "      <td>0</td>\n",
       "      <td>0</td>\n",
       "      <td>0</td>\n",
       "      <td>5</td>\n",
       "    </tr>\n",
       "    <tr>\n",
       "      <th>8</th>\n",
       "      <td>04019</td>\n",
       "      <td>0040159B</td>\n",
       "      <td>30</td>\n",
       "      <td>11</td>\n",
       "      <td>10</td>\n",
       "      <td>18</td>\n",
       "      <td>8</td>\n",
       "      <td>12</td>\n",
       "      <td>4</td>\n",
       "    </tr>\n",
       "    <tr>\n",
       "      <th>9</th>\n",
       "      <td>04019</td>\n",
       "      <td>0040068C</td>\n",
       "      <td>0</td>\n",
       "      <td>19</td>\n",
       "      <td>18</td>\n",
       "      <td>21</td>\n",
       "      <td>18</td>\n",
       "      <td>28</td>\n",
       "      <td>1</td>\n",
       "    </tr>\n",
       "    <tr>\n",
       "      <th>10</th>\n",
       "      <td>04020</td>\n",
       "      <td>0040071F</td>\n",
       "      <td>3</td>\n",
       "      <td>4</td>\n",
       "      <td>2</td>\n",
       "      <td>0</td>\n",
       "      <td>0</td>\n",
       "      <td>2</td>\n",
       "      <td>6</td>\n",
       "    </tr>\n",
       "    <tr>\n",
       "      <th>11</th>\n",
       "      <td>04021</td>\n",
       "      <td>0040072G</td>\n",
       "      <td>0</td>\n",
       "      <td>0</td>\n",
       "      <td>0</td>\n",
       "      <td>8</td>\n",
       "      <td>4</td>\n",
       "      <td>6</td>\n",
       "      <td>6</td>\n",
       "    </tr>\n",
       "    <tr>\n",
       "      <th>12</th>\n",
       "      <td>04022</td>\n",
       "      <td>0040073H</td>\n",
       "      <td>21</td>\n",
       "      <td>2</td>\n",
       "      <td>6</td>\n",
       "      <td>8</td>\n",
       "      <td>7</td>\n",
       "      <td>5</td>\n",
       "      <td>5</td>\n",
       "    </tr>\n",
       "    <tr>\n",
       "      <th>13</th>\n",
       "      <td>04027</td>\n",
       "      <td>0040078N</td>\n",
       "      <td>0</td>\n",
       "      <td>0</td>\n",
       "      <td>0</td>\n",
       "      <td>0</td>\n",
       "      <td>0</td>\n",
       "      <td>13</td>\n",
       "      <td>6</td>\n",
       "    </tr>\n",
       "    <tr>\n",
       "      <th>14</th>\n",
       "      <td>04031</td>\n",
       "      <td>0040082T</td>\n",
       "      <td>19</td>\n",
       "      <td>9</td>\n",
       "      <td>10</td>\n",
       "      <td>9</td>\n",
       "      <td>5</td>\n",
       "      <td>10</td>\n",
       "      <td>5</td>\n",
       "    </tr>\n",
       "    <tr>\n",
       "      <th>15</th>\n",
       "      <td>04039</td>\n",
       "      <td>0040090B</td>\n",
       "      <td>0</td>\n",
       "      <td>15</td>\n",
       "      <td>17</td>\n",
       "      <td>16</td>\n",
       "      <td>16</td>\n",
       "      <td>19</td>\n",
       "      <td>1</td>\n",
       "    </tr>\n",
       "    <tr>\n",
       "      <th>16</th>\n",
       "      <td>04039</td>\n",
       "      <td>0040371G</td>\n",
       "      <td>48</td>\n",
       "      <td>0</td>\n",
       "      <td>0</td>\n",
       "      <td>0</td>\n",
       "      <td>0</td>\n",
       "      <td>0</td>\n",
       "      <td>5</td>\n",
       "    </tr>\n",
       "    <tr>\n",
       "      <th>17</th>\n",
       "      <td>04045</td>\n",
       "      <td>0040094F</td>\n",
       "      <td>34</td>\n",
       "      <td>12</td>\n",
       "      <td>8</td>\n",
       "      <td>8</td>\n",
       "      <td>10</td>\n",
       "      <td>10</td>\n",
       "      <td>5</td>\n",
       "    </tr>\n",
       "    <tr>\n",
       "      <th>18</th>\n",
       "      <td>04047</td>\n",
       "      <td>0040096H</td>\n",
       "      <td>22</td>\n",
       "      <td>9</td>\n",
       "      <td>5</td>\n",
       "      <td>16</td>\n",
       "      <td>8</td>\n",
       "      <td>7</td>\n",
       "      <td>4</td>\n",
       "    </tr>\n",
       "    <tr>\n",
       "      <th>19</th>\n",
       "      <td>04049</td>\n",
       "      <td>0040101N</td>\n",
       "      <td>57</td>\n",
       "      <td>0</td>\n",
       "      <td>0</td>\n",
       "      <td>0</td>\n",
       "      <td>0</td>\n",
       "      <td>0</td>\n",
       "      <td>5</td>\n",
       "    </tr>\n",
       "  </tbody>\n",
       "</table>\n",
       "</div>"
      ],
      "text/plain": [
       "   codgeo numero_ecole  mat_ct  cp_ct  ce1_ct  ce2_ct  cm1_ct  cm2_ct  \\\n",
       "0   04001     0040057R      33      8      17      10      16      19   \n",
       "1   06001     0040057R      33      8      17      10      16      19   \n",
       "2   04004     0040058S      24     10       4       6       0       0   \n",
       "3   04006     0040059T       5      3       2       1       4       3   \n",
       "4   04008     0040064Y      42      8      15      15      19      19   \n",
       "5   04013     0040065Z       0      9      17      11      16       8   \n",
       "6   04018     0040067B      39     12      11      12       9      13   \n",
       "7   04019     0040070E      45      0       0       0       0       0   \n",
       "8   04019     0040159B      30     11      10      18       8      12   \n",
       "9   04019     0040068C       0     19      18      21      18      28   \n",
       "10  04020     0040071F       3      4       2       0       0       2   \n",
       "11  04021     0040072G       0      0       0       8       4       6   \n",
       "12  04022     0040073H      21      2       6       8       7       5   \n",
       "13  04027     0040078N       0      0       0       0       0      13   \n",
       "14  04031     0040082T      19      9      10       9       5      10   \n",
       "15  04039     0040090B       0     15      17      16      16      19   \n",
       "16  04039     0040371G      48      0       0       0       0       0   \n",
       "17  04045     0040094F      34     12       8       8      10      10   \n",
       "18  04047     0040096H      22      9       5      16       8       7   \n",
       "19  04049     0040101N      57      0       0       0       0       0   \n",
       "\n",
       "    risque_fermeture  \n",
       "0                  2  \n",
       "1                  2  \n",
       "2                  5  \n",
       "3                  6  \n",
       "4                  1  \n",
       "5                  4  \n",
       "6                  5  \n",
       "7                  5  \n",
       "8                  4  \n",
       "9                  1  \n",
       "10                 6  \n",
       "11                 6  \n",
       "12                 5  \n",
       "13                 6  \n",
       "14                 5  \n",
       "15                 1  \n",
       "16                 5  \n",
       "17                 5  \n",
       "18                 4  \n",
       "19                 5  "
      ]
     },
     "execution_count": 20,
     "metadata": {},
     "output_type": "execute_result"
    }
   ],
   "source": [
    "seuil_risque = 0\n",
    "seuils_fermeture = [15,23,45,70,93,116,139,162,185,208,231,254]\n",
    "def risque_fermeture(effectif):\n",
    "    seuil=seuils_fermeture[0]\n",
    "    for i in seuils_fermeture:\n",
    "        if i < effectif:\n",
    "            seuil = i \n",
    "    if effectif - seuil < seuil_risque:\n",
    "        return 1\n",
    "    else:\n",
    "        return 0\n",
    "\n",
    "effectifs_ecoles['risque_fermeture'] = (effectifs_ecoles.mat_ct.apply(risque_fermeture) \n",
    "                                        + effectifs_ecoles.cp_ct.apply(risque_fermeture)\n",
    "                                        + effectifs_ecoles.ce1_ct.apply(risque_fermeture)\n",
    "                                        + effectifs_ecoles.ce2_ct.apply(risque_fermeture)\n",
    "                                        + effectifs_ecoles.cm1_ct.apply(risque_fermeture)\n",
    "                                        + effectifs_ecoles.cm2_ct.apply(risque_fermeture))\n",
    "#or effectifs_ecoles.cp.apply(risque_fermeture) or effectifs_ecoles.ce1.apply(risque_fermeture) or effectifs_ecoles.ce2.apply(risque_fermeture) or effectifs_ecoles.cm1.apply(risque_fermeture) or effectifs_ecoles.cm2.apply(risque_fermeture) \n",
    " \n",
    "effectifs_ecoles.head(20)"
   ]
  },
  {
   "cell_type": "code",
   "execution_count": 21,
   "id": "cf4cfb9a",
   "metadata": {},
   "outputs": [
    {
     "data": {
      "application/vnd.microsoft.datawrangler.viewer.v0+json": {
       "columns": [
        {
         "name": "codgeo",
         "rawType": "object",
         "type": "string"
        },
        {
         "name": "risque_fermeture",
         "rawType": "int64",
         "type": "integer"
        },
        {
         "name": "ecoles_ct",
         "rawType": "int64",
         "type": "integer"
        }
       ],
       "ref": "7705a58b-7678-42ec-9dda-92ab69d8e6ef",
       "rows": [
        [
         "01004",
         "17",
         "7"
        ],
        [
         "01005",
         "0",
         "1"
        ],
        [
         "01007",
         "6",
         "2"
        ],
        [
         "01008",
         "5",
         "1"
        ],
        [
         "01010",
         "4",
         "1"
        ],
        [
         "01011",
         "27",
         "6"
        ],
        [
         "01012",
         "6",
         "1"
        ],
        [
         "01013",
         "6",
         "1"
        ],
        [
         "01014",
         "15",
         "4"
        ],
        [
         "01017",
         "6",
         "1"
        ],
        [
         "01021",
         "8",
         "2"
        ],
        [
         "01022",
         "10",
         "2"
        ],
        [
         "01024",
         "4",
         "2"
        ],
        [
         "01026",
         "4",
         "1"
        ],
        [
         "01027",
         "11",
         "3"
        ],
        [
         "01028",
         "5",
         "1"
        ],
        [
         "01029",
         "6",
         "1"
        ],
        [
         "01030",
         "5",
         "1"
        ],
        [
         "01031",
         "15",
         "4"
        ],
        [
         "01032",
         "6",
         "2"
        ]
       ],
       "shape": {
        "columns": 2,
        "rows": 20
       }
      },
      "text/html": [
       "<div>\n",
       "<style scoped>\n",
       "    .dataframe tbody tr th:only-of-type {\n",
       "        vertical-align: middle;\n",
       "    }\n",
       "\n",
       "    .dataframe tbody tr th {\n",
       "        vertical-align: top;\n",
       "    }\n",
       "\n",
       "    .dataframe thead th {\n",
       "        text-align: right;\n",
       "    }\n",
       "</style>\n",
       "<table border=\"1\" class=\"dataframe\">\n",
       "  <thead>\n",
       "    <tr style=\"text-align: right;\">\n",
       "      <th></th>\n",
       "      <th>risque_fermeture</th>\n",
       "      <th>ecoles_ct</th>\n",
       "    </tr>\n",
       "    <tr>\n",
       "      <th>codgeo</th>\n",
       "      <th></th>\n",
       "      <th></th>\n",
       "    </tr>\n",
       "  </thead>\n",
       "  <tbody>\n",
       "    <tr>\n",
       "      <th>01004</th>\n",
       "      <td>17</td>\n",
       "      <td>7</td>\n",
       "    </tr>\n",
       "    <tr>\n",
       "      <th>01005</th>\n",
       "      <td>0</td>\n",
       "      <td>1</td>\n",
       "    </tr>\n",
       "    <tr>\n",
       "      <th>01007</th>\n",
       "      <td>6</td>\n",
       "      <td>2</td>\n",
       "    </tr>\n",
       "    <tr>\n",
       "      <th>01008</th>\n",
       "      <td>5</td>\n",
       "      <td>1</td>\n",
       "    </tr>\n",
       "    <tr>\n",
       "      <th>01010</th>\n",
       "      <td>4</td>\n",
       "      <td>1</td>\n",
       "    </tr>\n",
       "    <tr>\n",
       "      <th>01011</th>\n",
       "      <td>27</td>\n",
       "      <td>6</td>\n",
       "    </tr>\n",
       "    <tr>\n",
       "      <th>01012</th>\n",
       "      <td>6</td>\n",
       "      <td>1</td>\n",
       "    </tr>\n",
       "    <tr>\n",
       "      <th>01013</th>\n",
       "      <td>6</td>\n",
       "      <td>1</td>\n",
       "    </tr>\n",
       "    <tr>\n",
       "      <th>01014</th>\n",
       "      <td>15</td>\n",
       "      <td>4</td>\n",
       "    </tr>\n",
       "    <tr>\n",
       "      <th>01017</th>\n",
       "      <td>6</td>\n",
       "      <td>1</td>\n",
       "    </tr>\n",
       "    <tr>\n",
       "      <th>01021</th>\n",
       "      <td>8</td>\n",
       "      <td>2</td>\n",
       "    </tr>\n",
       "    <tr>\n",
       "      <th>01022</th>\n",
       "      <td>10</td>\n",
       "      <td>2</td>\n",
       "    </tr>\n",
       "    <tr>\n",
       "      <th>01024</th>\n",
       "      <td>4</td>\n",
       "      <td>2</td>\n",
       "    </tr>\n",
       "    <tr>\n",
       "      <th>01026</th>\n",
       "      <td>4</td>\n",
       "      <td>1</td>\n",
       "    </tr>\n",
       "    <tr>\n",
       "      <th>01027</th>\n",
       "      <td>11</td>\n",
       "      <td>3</td>\n",
       "    </tr>\n",
       "    <tr>\n",
       "      <th>01028</th>\n",
       "      <td>5</td>\n",
       "      <td>1</td>\n",
       "    </tr>\n",
       "    <tr>\n",
       "      <th>01029</th>\n",
       "      <td>6</td>\n",
       "      <td>1</td>\n",
       "    </tr>\n",
       "    <tr>\n",
       "      <th>01030</th>\n",
       "      <td>5</td>\n",
       "      <td>1</td>\n",
       "    </tr>\n",
       "    <tr>\n",
       "      <th>01031</th>\n",
       "      <td>15</td>\n",
       "      <td>4</td>\n",
       "    </tr>\n",
       "    <tr>\n",
       "      <th>01032</th>\n",
       "      <td>6</td>\n",
       "      <td>2</td>\n",
       "    </tr>\n",
       "  </tbody>\n",
       "</table>\n",
       "</div>"
      ],
      "text/plain": [
       "        risque_fermeture  ecoles_ct\n",
       "codgeo                             \n",
       "01004                 17          7\n",
       "01005                  0          1\n",
       "01007                  6          2\n",
       "01008                  5          1\n",
       "01010                  4          1\n",
       "01011                 27          6\n",
       "01012                  6          1\n",
       "01013                  6          1\n",
       "01014                 15          4\n",
       "01017                  6          1\n",
       "01021                  8          2\n",
       "01022                 10          2\n",
       "01024                  4          2\n",
       "01026                  4          1\n",
       "01027                 11          3\n",
       "01028                  5          1\n",
       "01029                  6          1\n",
       "01030                  5          1\n",
       "01031                 15          4\n",
       "01032                  6          2"
      ]
     },
     "execution_count": 21,
     "metadata": {},
     "output_type": "execute_result"
    }
   ],
   "source": [
    "effectifs_ecoles_agg = effectifs_ecoles[['codgeo','risque_fermeture','numero_ecole']].groupby(['codgeo']).agg({'risque_fermeture':'sum','numero_ecole':'count'})\n",
    "effectifs_ecoles_agg.rename(columns={'numero_ecole':'ecoles_ct'}, inplace=True)\n",
    "effectifs_ecoles_agg.head(20)"
   ]
  },
  {
   "cell_type": "markdown",
   "id": "94f6eae0",
   "metadata": {},
   "source": [
    "Now let's prepare a mini dataset for the annuaires ecoles that can be used later in the streamlit app"
   ]
  },
  {
   "cell_type": "code",
   "execution_count": 22,
   "id": "7e2d044f",
   "metadata": {},
   "outputs": [],
   "source": [
    "# Source:https://www.data.gouv.fr/fr/datasets/annuaire-de-leducation/\n",
    "ecoles = gpd.read_file('../csv_large/fr-en-annuaire-education.geojson')\n",
    "col = ['identifiant_de_l_etablissement', 'nom_etablissement', 'type_etablissement', 'statut_public_prive', 'code_commune', 'nom_commune', 'code_region','code_academie', 'ecole_maternelle', 'ecole_elementaire', 'voie_generale', 'nombre_d_eleves','geometry']\n",
    "#ecoles.geometry = ecoles.geometry.apply(wkt.loads)\n",
    "ecoles.dropna(subset=['geometry'], inplace=True)\n",
    "ecoles = ecoles[col].set_geometry('geometry', crs='EPSG:4326')\n",
    "ecoles.to_parquet('../csv/annuaire_ecoles_france_mini.parquet')"
   ]
  },
  {
   "cell_type": "code",
   "execution_count": 23,
   "id": "32901b89",
   "metadata": {},
   "outputs": [
    {
     "name": "stdout",
     "output_type": "stream",
     "text": [
      "<class 'geopandas.geodataframe.GeoDataFrame'>\n",
      "Index: 68792 entries, 0 to 69569\n",
      "Data columns (total 13 columns):\n",
      " #   Column                          Non-Null Count  Dtype   \n",
      "---  ------                          --------------  -----   \n",
      " 0   identifiant_de_l_etablissement  68792 non-null  object  \n",
      " 1   nom_etablissement               68792 non-null  object  \n",
      " 2   type_etablissement              68536 non-null  object  \n",
      " 3   statut_public_prive             66748 non-null  object  \n",
      " 4   code_commune                    68792 non-null  object  \n",
      " 5   nom_commune                     68792 non-null  object  \n",
      " 6   code_region                     68792 non-null  object  \n",
      " 7   code_academie                   68792 non-null  object  \n",
      " 8   ecole_maternelle                48701 non-null  float64 \n",
      " 9   ecole_elementaire               48701 non-null  float64 \n",
      " 10  voie_generale                   11214 non-null  object  \n",
      " 11  nombre_d_eleves                 58108 non-null  float64 \n",
      " 12  geometry                        68792 non-null  geometry\n",
      "dtypes: float64(3), geometry(1), object(9)\n",
      "memory usage: 7.3+ MB\n"
     ]
    }
   ],
   "source": [
    "ecoles.info()"
   ]
  },
  {
   "cell_type": "markdown",
   "id": "fa5b32a8",
   "metadata": {},
   "source": [
    "## Logement"
   ]
  },
  {
   "cell_type": "markdown",
   "id": "fc6893bb",
   "metadata": {},
   "source": [
    "Source: https://www.insee.fr/fr/statistiques/8268838"
   ]
  },
  {
   "cell_type": "code",
   "execution_count": 24,
   "id": "ae526959",
   "metadata": {},
   "outputs": [],
   "source": [
    "logements = gpd.read_file('../csv_large/base-ic-logement-2021.csv')\n",
    "logements = logements[['COM','P21_MEN','P21_PMEN','P21_LOG','P21_RP','P21_LOGVAC','P21_RSECOCC','P21_RP_5PP', 'P21_NBPI_RP','P21_NBPI_RPMAISON']].rename({'COM':'codgeo','P21_MEN':'men_ct','P21_PMEN':'men_pop','P21_LOG':'log_total','P21_RP':'log_rp','P21_LOGVAC':'log_vac','P21_MAISON':'log_maison','P21_RSECOCC':'log_rsec','P21_RP_5PP':'rp_5+pieces','P21_NBPI_RP':'pieces_rp', 'P21_NBPI_RPMAISON':'pieces_maison'},axis=1)\n",
    "for column in logements.columns:\n",
    "    if column != 'codgeo':\n",
    "        logements[column] = logements[column].astype('float')"
   ]
  },
  {
   "cell_type": "code",
   "execution_count": 25,
   "id": "33da612f",
   "metadata": {},
   "outputs": [
    {
     "data": {
      "application/vnd.microsoft.datawrangler.viewer.v0+json": {
       "columns": [
        {
         "name": "index",
         "rawType": "int64",
         "type": "integer"
        },
        {
         "name": "codgeo",
         "rawType": "object",
         "type": "string"
        },
        {
         "name": "men_ct",
         "rawType": "float64",
         "type": "float"
        },
        {
         "name": "men_pop",
         "rawType": "float64",
         "type": "float"
        },
        {
         "name": "log_total",
         "rawType": "float64",
         "type": "float"
        },
        {
         "name": "log_rp",
         "rawType": "float64",
         "type": "float"
        },
        {
         "name": "log_vac",
         "rawType": "float64",
         "type": "float"
        },
        {
         "name": "log_rsec",
         "rawType": "float64",
         "type": "float"
        },
        {
         "name": "rp_5+pieces",
         "rawType": "float64",
         "type": "float"
        },
        {
         "name": "pieces_maison",
         "rawType": "float64",
         "type": "float"
        },
        {
         "name": "pieces_rp",
         "rawType": "float64",
         "type": "float"
        }
       ],
       "ref": "71e37291-0993-4b9c-971c-38328ab193ca",
       "rows": [
        [
         "0",
         "01001",
         "341.234562367113",
         "832.0",
         "372.387493855914",
         "341.234562367113",
         "17.4456416337286",
         "13.7072898550724",
         "212.54708128624",
         "1700.4593986965",
         "1723.39083212678"
        ],
        [
         "1",
         "01002",
         "115.722510420668",
         "267.0",
         "174.93867203683",
         "115.722510420668",
         "14.2557426112982",
         "44.9604190048634",
         "72.2426216606381",
         "584.301613389313",
         "590.738459020017"
        ],
        [
         "2",
         "01004",
         "6932.839197903167",
         "14352.99842541469",
         "7846.021789046801",
         "6932.839197903167",
         "775.203247637224",
         "137.9793435064031",
         "2077.5455193329362",
         "14586.13722589441",
         "26714.01976051449"
        ],
        [
         "3",
         "01005",
         "794.75302490539",
         "1897.0",
         "898.44294738601",
         "794.75302490539",
         "96.1291989664086",
         "7.56072351421191",
         "409.132882093989",
         "3042.37447524761",
         "3683.44862812189"
        ],
        [
         "4",
         "01006",
         "56.5",
         "113.0",
         "73.0277777777778",
         "56.5",
         "7.08333333333333",
         "9.44444444444444",
         "32.7105263157895",
         "270.605263157895",
         "275.561403508772"
        ]
       ],
       "shape": {
        "columns": 10,
        "rows": 5
       }
      },
      "text/html": [
       "<div>\n",
       "<style scoped>\n",
       "    .dataframe tbody tr th:only-of-type {\n",
       "        vertical-align: middle;\n",
       "    }\n",
       "\n",
       "    .dataframe tbody tr th {\n",
       "        vertical-align: top;\n",
       "    }\n",
       "\n",
       "    .dataframe thead th {\n",
       "        text-align: right;\n",
       "    }\n",
       "</style>\n",
       "<table border=\"1\" class=\"dataframe\">\n",
       "  <thead>\n",
       "    <tr style=\"text-align: right;\">\n",
       "      <th></th>\n",
       "      <th>codgeo</th>\n",
       "      <th>men_ct</th>\n",
       "      <th>men_pop</th>\n",
       "      <th>log_total</th>\n",
       "      <th>log_rp</th>\n",
       "      <th>log_vac</th>\n",
       "      <th>log_rsec</th>\n",
       "      <th>rp_5+pieces</th>\n",
       "      <th>pieces_maison</th>\n",
       "      <th>pieces_rp</th>\n",
       "    </tr>\n",
       "  </thead>\n",
       "  <tbody>\n",
       "    <tr>\n",
       "      <th>0</th>\n",
       "      <td>01001</td>\n",
       "      <td>341.234562</td>\n",
       "      <td>832.000000</td>\n",
       "      <td>372.387494</td>\n",
       "      <td>341.234562</td>\n",
       "      <td>17.445642</td>\n",
       "      <td>13.707290</td>\n",
       "      <td>212.547081</td>\n",
       "      <td>1700.459399</td>\n",
       "      <td>1723.390832</td>\n",
       "    </tr>\n",
       "    <tr>\n",
       "      <th>1</th>\n",
       "      <td>01002</td>\n",
       "      <td>115.722510</td>\n",
       "      <td>267.000000</td>\n",
       "      <td>174.938672</td>\n",
       "      <td>115.722510</td>\n",
       "      <td>14.255743</td>\n",
       "      <td>44.960419</td>\n",
       "      <td>72.242622</td>\n",
       "      <td>584.301613</td>\n",
       "      <td>590.738459</td>\n",
       "    </tr>\n",
       "    <tr>\n",
       "      <th>2</th>\n",
       "      <td>01004</td>\n",
       "      <td>6932.839198</td>\n",
       "      <td>14352.998425</td>\n",
       "      <td>7846.021789</td>\n",
       "      <td>6932.839198</td>\n",
       "      <td>775.203248</td>\n",
       "      <td>137.979344</td>\n",
       "      <td>2077.545519</td>\n",
       "      <td>14586.137226</td>\n",
       "      <td>26714.019761</td>\n",
       "    </tr>\n",
       "    <tr>\n",
       "      <th>3</th>\n",
       "      <td>01005</td>\n",
       "      <td>794.753025</td>\n",
       "      <td>1897.000000</td>\n",
       "      <td>898.442947</td>\n",
       "      <td>794.753025</td>\n",
       "      <td>96.129199</td>\n",
       "      <td>7.560724</td>\n",
       "      <td>409.132882</td>\n",
       "      <td>3042.374475</td>\n",
       "      <td>3683.448628</td>\n",
       "    </tr>\n",
       "    <tr>\n",
       "      <th>4</th>\n",
       "      <td>01006</td>\n",
       "      <td>56.500000</td>\n",
       "      <td>113.000000</td>\n",
       "      <td>73.027778</td>\n",
       "      <td>56.500000</td>\n",
       "      <td>7.083333</td>\n",
       "      <td>9.444444</td>\n",
       "      <td>32.710526</td>\n",
       "      <td>270.605263</td>\n",
       "      <td>275.561404</td>\n",
       "    </tr>\n",
       "  </tbody>\n",
       "</table>\n",
       "</div>"
      ],
      "text/plain": [
       "  codgeo       men_ct       men_pop    log_total       log_rp     log_vac  \\\n",
       "0  01001   341.234562    832.000000   372.387494   341.234562   17.445642   \n",
       "1  01002   115.722510    267.000000   174.938672   115.722510   14.255743   \n",
       "2  01004  6932.839198  14352.998425  7846.021789  6932.839198  775.203248   \n",
       "3  01005   794.753025   1897.000000   898.442947   794.753025   96.129199   \n",
       "4  01006    56.500000    113.000000    73.027778    56.500000    7.083333   \n",
       "\n",
       "     log_rsec  rp_5+pieces  pieces_maison     pieces_rp  \n",
       "0   13.707290   212.547081    1700.459399   1723.390832  \n",
       "1   44.960419    72.242622     584.301613    590.738459  \n",
       "2  137.979344  2077.545519   14586.137226  26714.019761  \n",
       "3    7.560724   409.132882    3042.374475   3683.448628  \n",
       "4    9.444444    32.710526     270.605263    275.561404  "
      ]
     },
     "execution_count": 25,
     "metadata": {},
     "output_type": "execute_result"
    }
   ],
   "source": [
    "logements_agg = logements.groupby('codgeo').agg({\n",
    "    'men_ct':'sum',\n",
    "    'men_pop':'sum',\n",
    "    'log_total':'sum',\n",
    "    'log_rp':'sum',\n",
    "    'log_vac':'sum',\n",
    "    'log_rsec':'sum',\n",
    "    'rp_5+pieces':'sum',\n",
    "    'pieces_maison':'sum',\n",
    "    'pieces_rp':'sum'\n",
    "    }).reset_index()\n",
    "del logements\n",
    "logements_agg.head()"
   ]
  },
  {
   "cell_type": "code",
   "execution_count": 39,
   "id": "587f3c2d",
   "metadata": {},
   "outputs": [],
   "source": [
    "#Source: https://www.statistiques.developpement-durable.gouv.fr/54-millions-de-logements-locatifs-sociaux-en-france-au-1er-janvier-2024#:~:text=Au%201er%20janvier%202024%2C%20la,11%20400%20ont%20%C3%A9t%C3%A9%20vendus.\n",
    "logements_sociaux = pd.read_csv('../csv/export_parc_logements_sociaux_jan_2024.csv', usecols=['DEPCOM_ARM', 'nb_vacants', 'nb_vides', 'nb_ls'])\n",
    "# logements_sociaux = logements_sociaux[]\n",
    "logements_sociaux.rename(columns={\n",
    "    'DEPCOM_ARM':'codgeo', \n",
    "    'nb_vacants':'log_soc_vacants',\n",
    "    'nb_vides':'log_soc_vides',\n",
    "    'nb_ls':'log_soc_total'\n",
    "    }, inplace=True)\n",
    "logements_sociaux.fillna(0, inplace=True)\n",
    "logements_sociaux['log_soc_inoccupes'] = logements_sociaux['log_soc_vacants'].astype(int) + logements_sociaux['log_soc_vides'].astype(int)\n"
   ]
  },
  {
   "cell_type": "markdown",
   "id": "9eb2f1bf",
   "metadata": {},
   "source": [
    "## Soutien"
   ]
  },
  {
   "cell_type": "markdown",
   "id": "f4fc8e0b",
   "metadata": {},
   "source": [
    "Source: https://www.data.gouv.fr/fr/datasets/referentiel-de-loffre-dinsertion-sociale-et-professionnelle-data-inclusion/\n"
   ]
  },
  {
   "cell_type": "code",
   "execution_count": 49,
   "id": "7f2df5c0",
   "metadata": {},
   "outputs": [],
   "source": [
    "incl = json.load(open('../csv_large/services-inclusion-2025-04-28.geojson'))\n",
    "incl_norm = pd.json_normalize(data=incl, record_path='features')\n",
    "incl_norm.rename(columns={\n",
    "    'properties.nom':'nom',\n",
    "    'properties.structure_id':'structure_id',\n",
    "    'properties.source':'source',\n",
    "    'properties.types':'types',\n",
    "    'properties.thematiques':'thematiques',\n",
    "    'properties.frais':'frais',\n",
    "    'properties.profils':'profils',\n",
    "    'properties.longitude':'longitude',\n",
    "    'properties.latitude':'latitude',\n",
    "    'properties.adresse':'adresse',\n",
    "    'properties.code_insee':'codgeo',\n",
    "    'properties.presentation_resume':'presentation_resume',\n",
    "    }, inplace=True)\n",
    "\n",
    "incl_norm = incl_norm[['nom','structure_id','source','types','thematiques','frais','profils','longitude','latitude','adresse','codgeo','presentation_resume']]"
   ]
  },
  {
   "cell_type": "code",
   "execution_count": 51,
   "id": "2ba90dbb",
   "metadata": {},
   "outputs": [
    {
     "name": "stderr",
     "output_type": "stream",
     "text": [
      "/tmp/ipykernel_404867/3672608668.py:4: FutureWarning: A value is trying to be set on a copy of a DataFrame or Series through chained assignment using an inplace method.\n",
      "The behavior will change in pandas 3.0. This inplace method will never work because the intermediate object on which we are setting values always behaves as a copy.\n",
      "\n",
      "For example, when doing 'df[col].method(value, inplace=True)', try using 'df.method({col: value}, inplace=True)' or df[col] = df[col].method(value) instead, to perform the operation inplace on the original object.\n",
      "\n",
      "\n",
      "  thematiques_split_df['service'].fillna('-', inplace=True)\n"
     ]
    }
   ],
   "source": [
    "incl_exploded=incl_norm.explode('thematiques')\n",
    "incl_exploded.dropna(subset='thematiques', inplace=True, ignore_index=True)\n",
    "thematiques_split_df = pd.DataFrame(incl_exploded[\"thematiques\"].str.split('--', expand=True).values, columns=['categorie', 'service'])\n",
    "thematiques_split_df['service'].fillna('-', inplace=True)\n",
    "incl_exploded = pd.concat([incl_exploded, thematiques_split_df], axis=1)\n",
    "incl_exploded['geometry'] = gpd.points_from_xy(incl_exploded.longitude, incl_exploded.latitude)\n",
    "incl_exploded = gpd.GeoDataFrame(incl_exploded, geometry='geometry', crs='EPSG:4326')\n",
    "incl_exploded.to_parquet('../csv/odis_services_incl_exploded.parquet')"
   ]
  },
  {
   "cell_type": "code",
   "execution_count": 29,
   "id": "d2c86019",
   "metadata": {},
   "outputs": [
    {
     "data": {
      "application/vnd.microsoft.datawrangler.viewer.v0+json": {
       "columns": [
        {
         "name": "index",
         "rawType": "int64",
         "type": "integer"
        },
        {
         "name": "codgeo",
         "rawType": "object",
         "type": "string"
        },
        {
         "name": "svc_incl_count",
         "rawType": "int64",
         "type": "integer"
        }
       ],
       "ref": "43a7cb6a-a5db-44c0-bc53-f562b20b53ac",
       "rows": [
        [
         "0",
         "75056",
         "4428"
        ],
        [
         "1",
         "97416",
         "3510"
        ],
        [
         "2",
         "13055",
         "2541"
        ],
        [
         "3",
         "29019",
         "1881"
        ],
        [
         "4",
         "31555",
         "1656"
        ]
       ],
       "shape": {
        "columns": 2,
        "rows": 5
       }
      },
      "text/html": [
       "<div>\n",
       "<style scoped>\n",
       "    .dataframe tbody tr th:only-of-type {\n",
       "        vertical-align: middle;\n",
       "    }\n",
       "\n",
       "    .dataframe tbody tr th {\n",
       "        vertical-align: top;\n",
       "    }\n",
       "\n",
       "    .dataframe thead th {\n",
       "        text-align: right;\n",
       "    }\n",
       "</style>\n",
       "<table border=\"1\" class=\"dataframe\">\n",
       "  <thead>\n",
       "    <tr style=\"text-align: right;\">\n",
       "      <th></th>\n",
       "      <th>codgeo</th>\n",
       "      <th>svc_incl_count</th>\n",
       "    </tr>\n",
       "  </thead>\n",
       "  <tbody>\n",
       "    <tr>\n",
       "      <th>0</th>\n",
       "      <td>75056</td>\n",
       "      <td>4428</td>\n",
       "    </tr>\n",
       "    <tr>\n",
       "      <th>1</th>\n",
       "      <td>97416</td>\n",
       "      <td>3510</td>\n",
       "    </tr>\n",
       "    <tr>\n",
       "      <th>2</th>\n",
       "      <td>13055</td>\n",
       "      <td>2541</td>\n",
       "    </tr>\n",
       "    <tr>\n",
       "      <th>3</th>\n",
       "      <td>29019</td>\n",
       "      <td>1881</td>\n",
       "    </tr>\n",
       "    <tr>\n",
       "      <th>4</th>\n",
       "      <td>31555</td>\n",
       "      <td>1656</td>\n",
       "    </tr>\n",
       "  </tbody>\n",
       "</table>\n",
       "</div>"
      ],
      "text/plain": [
       "  codgeo  svc_incl_count\n",
       "0  75056            4428\n",
       "1  97416            3510\n",
       "2  13055            2541\n",
       "3  29019            1881\n",
       "4  31555            1656"
      ]
     },
     "execution_count": 29,
     "metadata": {},
     "output_type": "execute_result"
    }
   ],
   "source": [
    "# services_incl_source_agg = incl_exploded.value_counts(['source', 'codgeo']).rename('svc_incl_count').reset_index()\n",
    "services_incl_agg = incl_exploded.value_counts(['codgeo']).rename('svc_incl_count').reset_index()\n",
    "# services_incl_agg.rename(columns={'code_insee':'codgeo'}, inplace=True)\n",
    "del incl_exploded, incl_norm\n",
    "services_incl_agg.head()"
   ]
  },
  {
   "cell_type": "code",
   "execution_count": 43,
   "id": "3e824aed",
   "metadata": {},
   "outputs": [
    {
     "data": {
      "application/vnd.microsoft.datawrangler.viewer.v0+json": {
       "columns": [
        {
         "name": "index",
         "rawType": "int64",
         "type": "integer"
        },
        {
         "name": "codgeo",
         "rawType": "object",
         "type": "string"
        },
        {
         "name": "nuance_politique",
         "rawType": "object",
         "type": "unknown"
        },
        {
         "name": "famille_nuance",
         "rawType": "object",
         "type": "unknown"
        }
       ],
       "ref": "948f96ae-d858-4510-90d1-4faff658966f",
       "rows": [
        [
         "0",
         "01001",
         "NC",
         "Non classé"
        ],
        [
         "1",
         "01002",
         "NC",
         "Non classé"
        ],
        [
         "2",
         "01004",
         "LDVC",
         "Centre"
        ],
        [
         "3",
         "01005",
         null,
         null
        ],
        [
         "4",
         "01006",
         "NC",
         "Non classé"
        ]
       ],
       "shape": {
        "columns": 3,
        "rows": 5
       }
      },
      "text/html": [
       "<div>\n",
       "<style scoped>\n",
       "    .dataframe tbody tr th:only-of-type {\n",
       "        vertical-align: middle;\n",
       "    }\n",
       "\n",
       "    .dataframe tbody tr th {\n",
       "        vertical-align: top;\n",
       "    }\n",
       "\n",
       "    .dataframe thead th {\n",
       "        text-align: right;\n",
       "    }\n",
       "</style>\n",
       "<table border=\"1\" class=\"dataframe\">\n",
       "  <thead>\n",
       "    <tr style=\"text-align: right;\">\n",
       "      <th></th>\n",
       "      <th>codgeo</th>\n",
       "      <th>nuance_politique</th>\n",
       "      <th>famille_nuance</th>\n",
       "    </tr>\n",
       "  </thead>\n",
       "  <tbody>\n",
       "    <tr>\n",
       "      <th>0</th>\n",
       "      <td>01001</td>\n",
       "      <td>NC</td>\n",
       "      <td>Non classé</td>\n",
       "    </tr>\n",
       "    <tr>\n",
       "      <th>1</th>\n",
       "      <td>01002</td>\n",
       "      <td>NC</td>\n",
       "      <td>Non classé</td>\n",
       "    </tr>\n",
       "    <tr>\n",
       "      <th>2</th>\n",
       "      <td>01004</td>\n",
       "      <td>LDVC</td>\n",
       "      <td>Centre</td>\n",
       "    </tr>\n",
       "    <tr>\n",
       "      <th>3</th>\n",
       "      <td>01005</td>\n",
       "      <td>NaN</td>\n",
       "      <td>NaN</td>\n",
       "    </tr>\n",
       "    <tr>\n",
       "      <th>4</th>\n",
       "      <td>01006</td>\n",
       "      <td>NC</td>\n",
       "      <td>Non classé</td>\n",
       "    </tr>\n",
       "  </tbody>\n",
       "</table>\n",
       "</div>"
      ],
      "text/plain": [
       "  codgeo nuance_politique famille_nuance\n",
       "0  01001               NC     Non classé\n",
       "1  01002               NC     Non classé\n",
       "2  01004             LDVC         Centre\n",
       "3  01005              NaN            NaN\n",
       "4  01006               NC     Non classé"
      ]
     },
     "execution_count": 43,
     "metadata": {},
     "output_type": "execute_result"
    }
   ],
   "source": [
    "pol = pd.read_csv('../csv/rne-enrichi-couleur-politique.csv')\n",
    "pol.rename(columns={'cog_commune':'codgeo'}, inplace=True)\n",
    "pol = pol[['codgeo','nuance_politique','famille_nuance']]\n",
    "pol.head()"
   ]
  },
  {
   "cell_type": "code",
   "execution_count": 45,
   "id": "99433456",
   "metadata": {},
   "outputs": [],
   "source": [
    "# Découpage grossier des communes par nuance politique\n",
    "pol['pol_num'] = pol.famille_nuance.case_when([\n",
    "    (pol.famille_nuance.isin(['Extrême droite']),0),\n",
    "    (pol.famille_nuance.isin(['Droite']),0.25),\n",
    "    (pol.famille_nuance.isin(['Centre','Courants politiques divers','Non classé']),0.5),\n",
    "    (pol.famille_nuance.isna(),0.5),\n",
    "    (pol.famille_nuance.isin(['Gauche']),1),\n",
    "])\n",
    "# pol.groupby(['pol_num']).count()"
   ]
  },
  {
   "cell_type": "markdown",
   "id": "27e787d8",
   "metadata": {},
   "source": [
    "# Mega Merge"
   ]
  },
  {
   "cell_type": "code",
   "execution_count": null,
   "id": "dc2efa0a",
   "metadata": {},
   "outputs": [
    {
     "ename": "NameError",
     "evalue": "name 'pd' is not defined",
     "output_type": "error",
     "traceback": [
      "\u001b[0;31m---------------------------------------------------------------------------\u001b[0m",
      "\u001b[0;31mNameError\u001b[0m                                 Traceback (most recent call last)",
      "Cell \u001b[0;32mIn[1], line 2\u001b[0m\n\u001b[1;32m      1\u001b[0m \u001b[38;5;66;03m# Merging all the tables\u001b[39;00m\n\u001b[0;32m----> 2\u001b[0m odis \u001b[38;5;241m=\u001b[39m \u001b[43mpd\u001b[49m\u001b[38;5;241m.\u001b[39mmerge(df, polygons, on\u001b[38;5;241m=\u001b[39m\u001b[38;5;124m'\u001b[39m\u001b[38;5;124mcodgeo\u001b[39m\u001b[38;5;124m'\u001b[39m, how\u001b[38;5;241m=\u001b[39m\u001b[38;5;124m'\u001b[39m\u001b[38;5;124mleft\u001b[39m\u001b[38;5;124m'\u001b[39m)\n\u001b[1;32m      3\u001b[0m odis \u001b[38;5;241m=\u001b[39m pd\u001b[38;5;241m.\u001b[39mmerge(odis, be, on\u001b[38;5;241m=\u001b[39m\u001b[38;5;124m'\u001b[39m\u001b[38;5;124mcodgeo\u001b[39m\u001b[38;5;124m'\u001b[39m, how\u001b[38;5;241m=\u001b[39m\u001b[38;5;124m'\u001b[39m\u001b[38;5;124mleft\u001b[39m\u001b[38;5;124m'\u001b[39m)\n\u001b[1;32m      4\u001b[0m odis \u001b[38;5;241m=\u001b[39m pd\u001b[38;5;241m.\u001b[39mmerge(odis, bmo_be_france_agg, on\u001b[38;5;241m=\u001b[39m\u001b[38;5;124m'\u001b[39m\u001b[38;5;124mcodbe\u001b[39m\u001b[38;5;124m'\u001b[39m, how\u001b[38;5;241m=\u001b[39m\u001b[38;5;124m'\u001b[39m\u001b[38;5;124mleft\u001b[39m\u001b[38;5;124m'\u001b[39m)\n",
      "\u001b[0;31mNameError\u001b[0m: name 'pd' is not defined"
     ]
    }
   ],
   "source": [
    "# Merging all the tables\n",
    "odis = pd.merge(geo, be, on='codgeo', how='left')\n",
    "odis = pd.merge(odis, bmo_be_france_agg, on='codbe', how='left')\n",
    "odis = pd.merge(odis, formations, on='codgeo', how='left')\n",
    "odis = pd.merge(odis, services_incl_agg, on='codgeo', how='left')\n",
    "odis = pd.merge(odis, logements_agg[['codgeo','log_total','log_rp','log_vac','rp_5+pieces']], on='codgeo', how='left')\n",
    "odis = pd.merge(odis, logements_sociaux, on='codgeo', how='left')\n",
    "odis = pd.merge(odis, effectifs_ecoles_agg, on='codgeo', how='left')\n",
    "odis = pd.merge(odis, pol, on='codgeo', how='left')\n",
    "odis = pd.merge(odis, voisins, on='codgeo', how='left')\n",
    "\n"
   ]
  },
  {
   "cell_type": "markdown",
   "id": "31c46b33",
   "metadata": {},
   "source": [
    "# Export"
   ]
  },
  {
   "cell_type": "code",
   "execution_count": null,
   "id": "ab6466a1",
   "metadata": {},
   "outputs": [],
   "source": [
    "#odis.set_crs(\"EPSG:4326\")\n",
    "odis.to_parquet('../csv/odis_june_2025_jacques.parquet')"
   ]
  },
  {
   "cell_type": "markdown",
   "id": "395ddcb7",
   "metadata": {},
   "source": []
  },
  {
   "cell_type": "code",
   "execution_count": 35,
   "id": "98dbd027",
   "metadata": {},
   "outputs": [
    {
     "data": {
      "text/html": [
       "<div>\n",
       "<style scoped>\n",
       "    .dataframe tbody tr th:only-of-type {\n",
       "        vertical-align: middle;\n",
       "    }\n",
       "\n",
       "    .dataframe tbody tr th {\n",
       "        vertical-align: top;\n",
       "    }\n",
       "\n",
       "    .dataframe thead th {\n",
       "        text-align: right;\n",
       "    }\n",
       "</style>\n",
       "<table border=\"1\" class=\"dataframe\">\n",
       "  <thead>\n",
       "    <tr style=\"text-align: right;\">\n",
       "      <th></th>\n",
       "      <th>codgeo</th>\n",
       "      <th>libgeo</th>\n",
       "      <th>typecom</th>\n",
       "      <th>reg_code</th>\n",
       "      <th>reg_nom</th>\n",
       "      <th>dep_code</th>\n",
       "      <th>dep_nom</th>\n",
       "      <th>epci_code</th>\n",
       "      <th>epci_nom</th>\n",
       "      <th>niveau_equipements_services</th>\n",
       "      <th>...</th>\n",
       "      <th>nb_vides</th>\n",
       "      <th>nb_total</th>\n",
       "      <th>nb_inoccupes</th>\n",
       "      <th>risque_fermeture</th>\n",
       "      <th>ecoles_ct</th>\n",
       "      <th>nuance_politique</th>\n",
       "      <th>famille_nuance</th>\n",
       "      <th>pol_num</th>\n",
       "      <th>codgeo_voisins</th>\n",
       "      <th>nb_voisins</th>\n",
       "    </tr>\n",
       "  </thead>\n",
       "  <tbody>\n",
       "    <tr>\n",
       "      <th>0</th>\n",
       "      <td>01001</td>\n",
       "      <td>L'Abergement-Clémenciat</td>\n",
       "      <td>COM</td>\n",
       "      <td>84</td>\n",
       "      <td>Auvergne-Rhône-Alpes</td>\n",
       "      <td>01</td>\n",
       "      <td>Ain</td>\n",
       "      <td>200069193</td>\n",
       "      <td>CC de la Dombes</td>\n",
       "      <td>0.0</td>\n",
       "      <td>...</td>\n",
       "      <td>0.0</td>\n",
       "      <td>32.0</td>\n",
       "      <td>1.0</td>\n",
       "      <td>NaN</td>\n",
       "      <td>NaN</td>\n",
       "      <td>NC</td>\n",
       "      <td>Non classé</td>\n",
       "      <td>0</td>\n",
       "      <td>[01412, 01093, 01028, 01146, 01351, 01188]</td>\n",
       "      <td>6.0</td>\n",
       "    </tr>\n",
       "    <tr>\n",
       "      <th>1</th>\n",
       "      <td>01002</td>\n",
       "      <td>L'Abergement-de-Varey</td>\n",
       "      <td>COM</td>\n",
       "      <td>84</td>\n",
       "      <td>Auvergne-Rhône-Alpes</td>\n",
       "      <td>01</td>\n",
       "      <td>Ain</td>\n",
       "      <td>240100883</td>\n",
       "      <td>CC de la Plaine de l'Ain</td>\n",
       "      <td>0.0</td>\n",
       "      <td>...</td>\n",
       "      <td>NaN</td>\n",
       "      <td>NaN</td>\n",
       "      <td>NaN</td>\n",
       "      <td>NaN</td>\n",
       "      <td>NaN</td>\n",
       "      <td>NC</td>\n",
       "      <td>Non classé</td>\n",
       "      <td>0</td>\n",
       "      <td>[01056, 01277, 01384, 01007, 01363, 01199]</td>\n",
       "      <td>6.0</td>\n",
       "    </tr>\n",
       "    <tr>\n",
       "      <th>2</th>\n",
       "      <td>01004</td>\n",
       "      <td>Ambérieu-en-Bugey</td>\n",
       "      <td>COM</td>\n",
       "      <td>84</td>\n",
       "      <td>Auvergne-Rhône-Alpes</td>\n",
       "      <td>01</td>\n",
       "      <td>Ain</td>\n",
       "      <td>240100883</td>\n",
       "      <td>CC de la Plaine de l'Ain</td>\n",
       "      <td>3.0</td>\n",
       "      <td>...</td>\n",
       "      <td>59.0</td>\n",
       "      <td>2109.0</td>\n",
       "      <td>155.0</td>\n",
       "      <td>17.0</td>\n",
       "      <td>7.0</td>\n",
       "      <td>LDVC</td>\n",
       "      <td>Centre</td>\n",
       "      <td>0</td>\n",
       "      <td>[01384, 01421, 01041, 01345, 01089, 01007, 01149]</td>\n",
       "      <td>7.0</td>\n",
       "    </tr>\n",
       "    <tr>\n",
       "      <th>3</th>\n",
       "      <td>01005</td>\n",
       "      <td>Ambérieux-en-Dombes</td>\n",
       "      <td>COM</td>\n",
       "      <td>84</td>\n",
       "      <td>Auvergne-Rhône-Alpes</td>\n",
       "      <td>01</td>\n",
       "      <td>Ain</td>\n",
       "      <td>200042497</td>\n",
       "      <td>CC Dombes Saône Vallée</td>\n",
       "      <td>1.0</td>\n",
       "      <td>...</td>\n",
       "      <td>2.0</td>\n",
       "      <td>113.0</td>\n",
       "      <td>5.0</td>\n",
       "      <td>0.0</td>\n",
       "      <td>1.0</td>\n",
       "      <td>NaN</td>\n",
       "      <td>NaN</td>\n",
       "      <td>0</td>\n",
       "      <td>[01382, 01207, 01261, 01362, 01318, 01398, 01446]</td>\n",
       "      <td>7.0</td>\n",
       "    </tr>\n",
       "    <tr>\n",
       "      <th>4</th>\n",
       "      <td>01006</td>\n",
       "      <td>Ambléon</td>\n",
       "      <td>COM</td>\n",
       "      <td>84</td>\n",
       "      <td>Auvergne-Rhône-Alpes</td>\n",
       "      <td>01</td>\n",
       "      <td>Ain</td>\n",
       "      <td>200040350</td>\n",
       "      <td>CC Bugey Sud</td>\n",
       "      <td>0.0</td>\n",
       "      <td>...</td>\n",
       "      <td>NaN</td>\n",
       "      <td>NaN</td>\n",
       "      <td>NaN</td>\n",
       "      <td>NaN</td>\n",
       "      <td>NaN</td>\n",
       "      <td>NC</td>\n",
       "      <td>Non classé</td>\n",
       "      <td>0</td>\n",
       "      <td>[01358, 01110, 01117, 01216, 01233, 01190]</td>\n",
       "      <td>6.0</td>\n",
       "    </tr>\n",
       "  </tbody>\n",
       "</table>\n",
       "<p>5 rows × 46 columns</p>\n",
       "</div>"
      ],
      "text/plain": [
       "  codgeo                   libgeo typecom reg_code               reg_nom  \\\n",
       "0  01001  L'Abergement-Clémenciat     COM       84  Auvergne-Rhône-Alpes   \n",
       "1  01002    L'Abergement-de-Varey     COM       84  Auvergne-Rhône-Alpes   \n",
       "2  01004        Ambérieu-en-Bugey     COM       84  Auvergne-Rhône-Alpes   \n",
       "3  01005      Ambérieux-en-Dombes     COM       84  Auvergne-Rhône-Alpes   \n",
       "4  01006                  Ambléon     COM       84  Auvergne-Rhône-Alpes   \n",
       "\n",
       "  dep_code dep_nom  epci_code                  epci_nom  \\\n",
       "0       01     Ain  200069193           CC de la Dombes   \n",
       "1       01     Ain  240100883  CC de la Plaine de l'Ain   \n",
       "2       01     Ain  240100883  CC de la Plaine de l'Ain   \n",
       "3       01     Ain  200042497    CC Dombes Saône Vallée   \n",
       "4       01     Ain  200040350              CC Bugey Sud   \n",
       "\n",
       "   niveau_equipements_services  ... nb_vides nb_total nb_inoccupes  \\\n",
       "0                          0.0  ...      0.0     32.0          1.0   \n",
       "1                          0.0  ...      NaN      NaN          NaN   \n",
       "2                          3.0  ...     59.0   2109.0        155.0   \n",
       "3                          1.0  ...      2.0    113.0          5.0   \n",
       "4                          0.0  ...      NaN      NaN          NaN   \n",
       "\n",
       "  risque_fermeture  ecoles_ct nuance_politique famille_nuance  pol_num  \\\n",
       "0              NaN        NaN               NC     Non classé        0   \n",
       "1              NaN        NaN               NC     Non classé        0   \n",
       "2             17.0        7.0             LDVC         Centre        0   \n",
       "3              0.0        1.0              NaN            NaN        0   \n",
       "4              NaN        NaN               NC     Non classé        0   \n",
       "\n",
       "                                      codgeo_voisins nb_voisins  \n",
       "0         [01412, 01093, 01028, 01146, 01351, 01188]        6.0  \n",
       "1         [01056, 01277, 01384, 01007, 01363, 01199]        6.0  \n",
       "2  [01384, 01421, 01041, 01345, 01089, 01007, 01149]        7.0  \n",
       "3  [01382, 01207, 01261, 01362, 01318, 01398, 01446]        7.0  \n",
       "4         [01358, 01110, 01117, 01216, 01233, 01190]        6.0  \n",
       "\n",
       "[5 rows x 46 columns]"
      ]
     },
     "execution_count": 35,
     "metadata": {},
     "output_type": "execute_result"
    }
   ],
   "source": [
    "odis.head()"
   ]
  },
  {
   "cell_type": "markdown",
   "id": "9eeff5e7",
   "metadata": {},
   "source": [
    "# Explorations"
   ]
  },
  {
   "cell_type": "code",
   "execution_count": null,
   "id": "2eead246",
   "metadata": {},
   "outputs": [],
   "source": []
  }
 ],
 "metadata": {
  "kernelspec": {
   "display_name": "odis-Nf-mTAVv-py3.10",
   "language": "python",
   "name": "python3"
  },
  "language_info": {
   "codemirror_mode": {
    "name": "ipython",
    "version": 3
   },
   "file_extension": ".py",
   "mimetype": "text/x-python",
   "name": "python",
   "nbconvert_exporter": "python",
   "pygments_lexer": "ipython3",
   "version": "3.10.12"
  }
 },
 "nbformat": 4,
 "nbformat_minor": 5
}
